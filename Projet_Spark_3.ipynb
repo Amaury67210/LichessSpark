{
  "cells": [
    {
      "cell_type": "markdown",
      "source": [
        "# Projet LiChess"
      ],
      "metadata": {
        "id": "pEPZtwi_XStR"
      }
    },
    {
      "cell_type": "markdown",
      "source": [
        "Projet de traitement des données LiChess réalisé par SENSENBRENNER Amaury (SDSC) & WEISS Nicolas (SDSC)."
      ],
      "metadata": {
        "id": "9Iq9LTFw0B_Q"
      }
    },
    {
      "cell_type": "markdown",
      "source": [
        "Il n'y a pas de rapport pour ce projet mais le notebook est assez bien annoté. Vous y trouverez toutes les informations nécessaires à la bonne compréhension du projet. Nous avons donc décidé d'utiliser Spark au lieu d'Hadoop pour ce projet."
      ],
      "metadata": {
        "id": "YHMYWUI1u8TG"
      }
    },
    {
      "cell_type": "markdown",
      "metadata": {
        "id": "YXXlp28xHOxP"
      },
      "source": [
        "# Accès fichier CSV"
      ]
    },
    {
      "cell_type": "code",
      "execution_count": null,
      "metadata": {
        "colab": {
          "base_uri": "https://localhost:8080/"
        },
        "id": "AqkEKgDLHvKL",
        "outputId": "27377b43-3f05-43ec-d485-0455b575646d"
      },
      "outputs": [
        {
          "output_type": "stream",
          "name": "stdout",
          "text": [
            "Looking in indexes: https://pypi.org/simple, https://us-python.pkg.dev/colab-wheels/public/simple/\n",
            "Requirement already satisfied: colorama in /usr/local/lib/python3.8/dist-packages (0.4.6)\n"
          ]
        }
      ],
      "source": [
        "%pip install colorama"
      ]
    },
    {
      "cell_type": "code",
      "execution_count": null,
      "metadata": {
        "id": "g6SN58SEJG72"
      },
      "outputs": [],
      "source": [
        "import numpy as np\n",
        "import pandas as pd\n",
        "import matplotlib.pyplot as plt\n",
        "import seaborn as sns\n",
        "from colorama import Fore\n",
        "from colorama import Style\n",
        "pd.set_option('display.max_columns', None)"
      ]
    },
    {
      "cell_type": "code",
      "execution_count": null,
      "metadata": {
        "id": "GqMy3jwnHDCa"
      },
      "outputs": [],
      "source": [
        "Data_chess = pd.read_csv(\"/content/Sept_20_analysis.csv\")"
      ]
    },
    {
      "cell_type": "code",
      "execution_count": null,
      "metadata": {
        "colab": {
          "base_uri": "https://localhost:8080/",
          "height": 444
        },
        "id": "OwOR5tvlJXR1",
        "outputId": "dfcf0572-3563-4228-9a3d-44e534289fbd"
      },
      "outputs": [
        {
          "output_type": "execute_result",
          "data": {
            "text/plain": [
              "   GAME  BlackElo  BlackRatingDiff        Date  ECO             Event  \\\n",
              "0    11      1143              6.0  2020.09.01  A02  Rated Blitz game   \n",
              "1    14      1504              NaN  2020.09.01  A04  Rated Blitz game   \n",
              "2    29      1933              1.0  2020.09.01  C41  Rated Blitz game   \n",
              "3    40      1710             10.0  2020.09.01  B23  Rated Blitz game   \n",
              "4    55      1598             -1.0  2020.09.01  B03  Rated Rapid game   \n",
              "\n",
              "                    Opening Result                          Site  \\\n",
              "0              Bird Opening    0-1  https://lichess.org/hjb8FYm1   \n",
              "1              Réti Opening    0-1  https://lichess.org/Iz2fbHuE   \n",
              "2          Philidor Defense    0-1  https://lichess.org/Cdj7flmY   \n",
              "3  Sicilian Defense: Closed    0-1  https://lichess.org/WZQ9FEpD   \n",
              "4          Alekhine Defense    1-0  https://lichess.org/ESlJl57U   \n",
              "\n",
              "    Termination TimeControl   UTCTime  WhiteElo  WhiteRatingDiff  \\\n",
              "0  Time forfeit       300+0  00:00:00    1180.0             -7.0   \n",
              "1        Normal       300+0  00:00:00    1381.0              NaN   \n",
              "2  Time forfeit       300+2  00:00:00    1485.0             -1.0   \n",
              "3        Normal       180+2  00:00:00    2040.0            -11.0   \n",
              "4        Normal       600+0  00:00:00    2163.0              0.0   \n",
              "\n",
              "  Black_elo_category White_elo_category  starting_time  increment Game_type  \\\n",
              "0         Low rating         Low rating          300.0        0.0     Blitz   \n",
              "1         Low rating         Low rating          300.0        0.0     Blitz   \n",
              "2        High rating         Low rating          300.0        2.0     Blitz   \n",
              "3         Low rating        High rating          180.0        2.0     Blitz   \n",
              "4         Low rating        High rating          600.0        0.0     Rapid   \n",
              "\n",
              "   Total_moves  Black_blunders  White_blunders  Black_mistakes  \\\n",
              "0         66.0             4.0             2.0             0.0   \n",
              "1         64.0             2.0             1.0             1.0   \n",
              "2         70.0             0.0             1.0             1.0   \n",
              "3         86.0             4.0             2.0             1.0   \n",
              "4         71.0             1.0             0.0             1.0   \n",
              "\n",
              "   White_mistakes  Black_inaccuracies  White_inaccuracies  \\\n",
              "0             3.0                 3.0                 1.0   \n",
              "1             1.0                 7.0                 5.0   \n",
              "2             2.0                 8.0                 8.0   \n",
              "3             5.0                 3.0                 4.0   \n",
              "4             1.0                 6.0                 2.0   \n",
              "\n",
              "   Black_inferior_moves  White_inferior_moves  Black_ts_moves  White_ts_moves  \\\n",
              "0                   7.0                   6.0             8.0             8.0   \n",
              "1                  10.0                   7.0             0.0             0.0   \n",
              "2                   9.0                  11.0             0.0             2.0   \n",
              "3                   8.0                  11.0            18.0             0.0   \n",
              "4                   8.0                   3.0             0.0             0.0   \n",
              "\n",
              "   Black_ts_blunders  White_ts_blunders  Black_ts_mistakes  White_ts_mistake  \\\n",
              "0                0.0                0.0                0.0               0.0   \n",
              "1                0.0                0.0                0.0               0.0   \n",
              "2                0.0                0.0                0.0               0.0   \n",
              "3                4.0                0.0                0.0               0.0   \n",
              "4                0.0                0.0                0.0               0.0   \n",
              "\n",
              "   Black_long_moves  White_long_moves  Black_bad_long_moves  \\\n",
              "0               2.0               1.0                   1.0   \n",
              "1               0.0               1.0                   0.0   \n",
              "2               1.0               1.0                   1.0   \n",
              "3               3.0               1.0                   1.0   \n",
              "4               0.0               0.0                   0.0   \n",
              "\n",
              "   White_bad_long_moves  Game_flips  Game_flips_ts  \n",
              "0                   1.0         8.0            0.0  \n",
              "1                   0.0         6.0            0.0  \n",
              "2                   0.0         5.0            0.0  \n",
              "3                   0.0         8.0            1.0  \n",
              "4                   0.0         2.0            0.0  "
            ],
            "text/html": [
              "\n",
              "  <div id=\"df-bc08dc03-b647-4c9f-9db0-63b31ab40bbd\">\n",
              "    <div class=\"colab-df-container\">\n",
              "      <div>\n",
              "<style scoped>\n",
              "    .dataframe tbody tr th:only-of-type {\n",
              "        vertical-align: middle;\n",
              "    }\n",
              "\n",
              "    .dataframe tbody tr th {\n",
              "        vertical-align: top;\n",
              "    }\n",
              "\n",
              "    .dataframe thead th {\n",
              "        text-align: right;\n",
              "    }\n",
              "</style>\n",
              "<table border=\"1\" class=\"dataframe\">\n",
              "  <thead>\n",
              "    <tr style=\"text-align: right;\">\n",
              "      <th></th>\n",
              "      <th>GAME</th>\n",
              "      <th>BlackElo</th>\n",
              "      <th>BlackRatingDiff</th>\n",
              "      <th>Date</th>\n",
              "      <th>ECO</th>\n",
              "      <th>Event</th>\n",
              "      <th>Opening</th>\n",
              "      <th>Result</th>\n",
              "      <th>Site</th>\n",
              "      <th>Termination</th>\n",
              "      <th>TimeControl</th>\n",
              "      <th>UTCTime</th>\n",
              "      <th>WhiteElo</th>\n",
              "      <th>WhiteRatingDiff</th>\n",
              "      <th>Black_elo_category</th>\n",
              "      <th>White_elo_category</th>\n",
              "      <th>starting_time</th>\n",
              "      <th>increment</th>\n",
              "      <th>Game_type</th>\n",
              "      <th>Total_moves</th>\n",
              "      <th>Black_blunders</th>\n",
              "      <th>White_blunders</th>\n",
              "      <th>Black_mistakes</th>\n",
              "      <th>White_mistakes</th>\n",
              "      <th>Black_inaccuracies</th>\n",
              "      <th>White_inaccuracies</th>\n",
              "      <th>Black_inferior_moves</th>\n",
              "      <th>White_inferior_moves</th>\n",
              "      <th>Black_ts_moves</th>\n",
              "      <th>White_ts_moves</th>\n",
              "      <th>Black_ts_blunders</th>\n",
              "      <th>White_ts_blunders</th>\n",
              "      <th>Black_ts_mistakes</th>\n",
              "      <th>White_ts_mistake</th>\n",
              "      <th>Black_long_moves</th>\n",
              "      <th>White_long_moves</th>\n",
              "      <th>Black_bad_long_moves</th>\n",
              "      <th>White_bad_long_moves</th>\n",
              "      <th>Game_flips</th>\n",
              "      <th>Game_flips_ts</th>\n",
              "    </tr>\n",
              "  </thead>\n",
              "  <tbody>\n",
              "    <tr>\n",
              "      <th>0</th>\n",
              "      <td>11</td>\n",
              "      <td>1143</td>\n",
              "      <td>6.0</td>\n",
              "      <td>2020.09.01</td>\n",
              "      <td>A02</td>\n",
              "      <td>Rated Blitz game</td>\n",
              "      <td>Bird Opening</td>\n",
              "      <td>0-1</td>\n",
              "      <td>https://lichess.org/hjb8FYm1</td>\n",
              "      <td>Time forfeit</td>\n",
              "      <td>300+0</td>\n",
              "      <td>00:00:00</td>\n",
              "      <td>1180.0</td>\n",
              "      <td>-7.0</td>\n",
              "      <td>Low rating</td>\n",
              "      <td>Low rating</td>\n",
              "      <td>300.0</td>\n",
              "      <td>0.0</td>\n",
              "      <td>Blitz</td>\n",
              "      <td>66.0</td>\n",
              "      <td>4.0</td>\n",
              "      <td>2.0</td>\n",
              "      <td>0.0</td>\n",
              "      <td>3.0</td>\n",
              "      <td>3.0</td>\n",
              "      <td>1.0</td>\n",
              "      <td>7.0</td>\n",
              "      <td>6.0</td>\n",
              "      <td>8.0</td>\n",
              "      <td>8.0</td>\n",
              "      <td>0.0</td>\n",
              "      <td>0.0</td>\n",
              "      <td>0.0</td>\n",
              "      <td>0.0</td>\n",
              "      <td>2.0</td>\n",
              "      <td>1.0</td>\n",
              "      <td>1.0</td>\n",
              "      <td>1.0</td>\n",
              "      <td>8.0</td>\n",
              "      <td>0.0</td>\n",
              "    </tr>\n",
              "    <tr>\n",
              "      <th>1</th>\n",
              "      <td>14</td>\n",
              "      <td>1504</td>\n",
              "      <td>NaN</td>\n",
              "      <td>2020.09.01</td>\n",
              "      <td>A04</td>\n",
              "      <td>Rated Blitz game</td>\n",
              "      <td>Réti Opening</td>\n",
              "      <td>0-1</td>\n",
              "      <td>https://lichess.org/Iz2fbHuE</td>\n",
              "      <td>Normal</td>\n",
              "      <td>300+0</td>\n",
              "      <td>00:00:00</td>\n",
              "      <td>1381.0</td>\n",
              "      <td>NaN</td>\n",
              "      <td>Low rating</td>\n",
              "      <td>Low rating</td>\n",
              "      <td>300.0</td>\n",
              "      <td>0.0</td>\n",
              "      <td>Blitz</td>\n",
              "      <td>64.0</td>\n",
              "      <td>2.0</td>\n",
              "      <td>1.0</td>\n",
              "      <td>1.0</td>\n",
              "      <td>1.0</td>\n",
              "      <td>7.0</td>\n",
              "      <td>5.0</td>\n",
              "      <td>10.0</td>\n",
              "      <td>7.0</td>\n",
              "      <td>0.0</td>\n",
              "      <td>0.0</td>\n",
              "      <td>0.0</td>\n",
              "      <td>0.0</td>\n",
              "      <td>0.0</td>\n",
              "      <td>0.0</td>\n",
              "      <td>0.0</td>\n",
              "      <td>1.0</td>\n",
              "      <td>0.0</td>\n",
              "      <td>0.0</td>\n",
              "      <td>6.0</td>\n",
              "      <td>0.0</td>\n",
              "    </tr>\n",
              "    <tr>\n",
              "      <th>2</th>\n",
              "      <td>29</td>\n",
              "      <td>1933</td>\n",
              "      <td>1.0</td>\n",
              "      <td>2020.09.01</td>\n",
              "      <td>C41</td>\n",
              "      <td>Rated Blitz game</td>\n",
              "      <td>Philidor Defense</td>\n",
              "      <td>0-1</td>\n",
              "      <td>https://lichess.org/Cdj7flmY</td>\n",
              "      <td>Time forfeit</td>\n",
              "      <td>300+2</td>\n",
              "      <td>00:00:00</td>\n",
              "      <td>1485.0</td>\n",
              "      <td>-1.0</td>\n",
              "      <td>High rating</td>\n",
              "      <td>Low rating</td>\n",
              "      <td>300.0</td>\n",
              "      <td>2.0</td>\n",
              "      <td>Blitz</td>\n",
              "      <td>70.0</td>\n",
              "      <td>0.0</td>\n",
              "      <td>1.0</td>\n",
              "      <td>1.0</td>\n",
              "      <td>2.0</td>\n",
              "      <td>8.0</td>\n",
              "      <td>8.0</td>\n",
              "      <td>9.0</td>\n",
              "      <td>11.0</td>\n",
              "      <td>0.0</td>\n",
              "      <td>2.0</td>\n",
              "      <td>0.0</td>\n",
              "      <td>0.0</td>\n",
              "      <td>0.0</td>\n",
              "      <td>0.0</td>\n",
              "      <td>1.0</td>\n",
              "      <td>1.0</td>\n",
              "      <td>1.0</td>\n",
              "      <td>0.0</td>\n",
              "      <td>5.0</td>\n",
              "      <td>0.0</td>\n",
              "    </tr>\n",
              "    <tr>\n",
              "      <th>3</th>\n",
              "      <td>40</td>\n",
              "      <td>1710</td>\n",
              "      <td>10.0</td>\n",
              "      <td>2020.09.01</td>\n",
              "      <td>B23</td>\n",
              "      <td>Rated Blitz game</td>\n",
              "      <td>Sicilian Defense: Closed</td>\n",
              "      <td>0-1</td>\n",
              "      <td>https://lichess.org/WZQ9FEpD</td>\n",
              "      <td>Normal</td>\n",
              "      <td>180+2</td>\n",
              "      <td>00:00:00</td>\n",
              "      <td>2040.0</td>\n",
              "      <td>-11.0</td>\n",
              "      <td>Low rating</td>\n",
              "      <td>High rating</td>\n",
              "      <td>180.0</td>\n",
              "      <td>2.0</td>\n",
              "      <td>Blitz</td>\n",
              "      <td>86.0</td>\n",
              "      <td>4.0</td>\n",
              "      <td>2.0</td>\n",
              "      <td>1.0</td>\n",
              "      <td>5.0</td>\n",
              "      <td>3.0</td>\n",
              "      <td>4.0</td>\n",
              "      <td>8.0</td>\n",
              "      <td>11.0</td>\n",
              "      <td>18.0</td>\n",
              "      <td>0.0</td>\n",
              "      <td>4.0</td>\n",
              "      <td>0.0</td>\n",
              "      <td>0.0</td>\n",
              "      <td>0.0</td>\n",
              "      <td>3.0</td>\n",
              "      <td>1.0</td>\n",
              "      <td>1.0</td>\n",
              "      <td>0.0</td>\n",
              "      <td>8.0</td>\n",
              "      <td>1.0</td>\n",
              "    </tr>\n",
              "    <tr>\n",
              "      <th>4</th>\n",
              "      <td>55</td>\n",
              "      <td>1598</td>\n",
              "      <td>-1.0</td>\n",
              "      <td>2020.09.01</td>\n",
              "      <td>B03</td>\n",
              "      <td>Rated Rapid game</td>\n",
              "      <td>Alekhine Defense</td>\n",
              "      <td>1-0</td>\n",
              "      <td>https://lichess.org/ESlJl57U</td>\n",
              "      <td>Normal</td>\n",
              "      <td>600+0</td>\n",
              "      <td>00:00:00</td>\n",
              "      <td>2163.0</td>\n",
              "      <td>0.0</td>\n",
              "      <td>Low rating</td>\n",
              "      <td>High rating</td>\n",
              "      <td>600.0</td>\n",
              "      <td>0.0</td>\n",
              "      <td>Rapid</td>\n",
              "      <td>71.0</td>\n",
              "      <td>1.0</td>\n",
              "      <td>0.0</td>\n",
              "      <td>1.0</td>\n",
              "      <td>1.0</td>\n",
              "      <td>6.0</td>\n",
              "      <td>2.0</td>\n",
              "      <td>8.0</td>\n",
              "      <td>3.0</td>\n",
              "      <td>0.0</td>\n",
              "      <td>0.0</td>\n",
              "      <td>0.0</td>\n",
              "      <td>0.0</td>\n",
              "      <td>0.0</td>\n",
              "      <td>0.0</td>\n",
              "      <td>0.0</td>\n",
              "      <td>0.0</td>\n",
              "      <td>0.0</td>\n",
              "      <td>0.0</td>\n",
              "      <td>2.0</td>\n",
              "      <td>0.0</td>\n",
              "    </tr>\n",
              "  </tbody>\n",
              "</table>\n",
              "</div>\n",
              "      <button class=\"colab-df-convert\" onclick=\"convertToInteractive('df-bc08dc03-b647-4c9f-9db0-63b31ab40bbd')\"\n",
              "              title=\"Convert this dataframe to an interactive table.\"\n",
              "              style=\"display:none;\">\n",
              "        \n",
              "  <svg xmlns=\"http://www.w3.org/2000/svg\" height=\"24px\"viewBox=\"0 0 24 24\"\n",
              "       width=\"24px\">\n",
              "    <path d=\"M0 0h24v24H0V0z\" fill=\"none\"/>\n",
              "    <path d=\"M18.56 5.44l.94 2.06.94-2.06 2.06-.94-2.06-.94-.94-2.06-.94 2.06-2.06.94zm-11 1L8.5 8.5l.94-2.06 2.06-.94-2.06-.94L8.5 2.5l-.94 2.06-2.06.94zm10 10l.94 2.06.94-2.06 2.06-.94-2.06-.94-.94-2.06-.94 2.06-2.06.94z\"/><path d=\"M17.41 7.96l-1.37-1.37c-.4-.4-.92-.59-1.43-.59-.52 0-1.04.2-1.43.59L10.3 9.45l-7.72 7.72c-.78.78-.78 2.05 0 2.83L4 21.41c.39.39.9.59 1.41.59.51 0 1.02-.2 1.41-.59l7.78-7.78 2.81-2.81c.8-.78.8-2.07 0-2.86zM5.41 20L4 18.59l7.72-7.72 1.47 1.35L5.41 20z\"/>\n",
              "  </svg>\n",
              "      </button>\n",
              "      \n",
              "  <style>\n",
              "    .colab-df-container {\n",
              "      display:flex;\n",
              "      flex-wrap:wrap;\n",
              "      gap: 12px;\n",
              "    }\n",
              "\n",
              "    .colab-df-convert {\n",
              "      background-color: #E8F0FE;\n",
              "      border: none;\n",
              "      border-radius: 50%;\n",
              "      cursor: pointer;\n",
              "      display: none;\n",
              "      fill: #1967D2;\n",
              "      height: 32px;\n",
              "      padding: 0 0 0 0;\n",
              "      width: 32px;\n",
              "    }\n",
              "\n",
              "    .colab-df-convert:hover {\n",
              "      background-color: #E2EBFA;\n",
              "      box-shadow: 0px 1px 2px rgba(60, 64, 67, 0.3), 0px 1px 3px 1px rgba(60, 64, 67, 0.15);\n",
              "      fill: #174EA6;\n",
              "    }\n",
              "\n",
              "    [theme=dark] .colab-df-convert {\n",
              "      background-color: #3B4455;\n",
              "      fill: #D2E3FC;\n",
              "    }\n",
              "\n",
              "    [theme=dark] .colab-df-convert:hover {\n",
              "      background-color: #434B5C;\n",
              "      box-shadow: 0px 1px 3px 1px rgba(0, 0, 0, 0.15);\n",
              "      filter: drop-shadow(0px 1px 2px rgba(0, 0, 0, 0.3));\n",
              "      fill: #FFFFFF;\n",
              "    }\n",
              "  </style>\n",
              "\n",
              "      <script>\n",
              "        const buttonEl =\n",
              "          document.querySelector('#df-bc08dc03-b647-4c9f-9db0-63b31ab40bbd button.colab-df-convert');\n",
              "        buttonEl.style.display =\n",
              "          google.colab.kernel.accessAllowed ? 'block' : 'none';\n",
              "\n",
              "        async function convertToInteractive(key) {\n",
              "          const element = document.querySelector('#df-bc08dc03-b647-4c9f-9db0-63b31ab40bbd');\n",
              "          const dataTable =\n",
              "            await google.colab.kernel.invokeFunction('convertToInteractive',\n",
              "                                                     [key], {});\n",
              "          if (!dataTable) return;\n",
              "\n",
              "          const docLinkHtml = 'Like what you see? Visit the ' +\n",
              "            '<a target=\"_blank\" href=https://colab.research.google.com/notebooks/data_table.ipynb>data table notebook</a>'\n",
              "            + ' to learn more about interactive tables.';\n",
              "          element.innerHTML = '';\n",
              "          dataTable['output_type'] = 'display_data';\n",
              "          await google.colab.output.renderOutput(dataTable, element);\n",
              "          const docLink = document.createElement('div');\n",
              "          docLink.innerHTML = docLinkHtml;\n",
              "          element.appendChild(docLink);\n",
              "        }\n",
              "      </script>\n",
              "    </div>\n",
              "  </div>\n",
              "  "
            ]
          },
          "metadata": {},
          "execution_count": 7
        }
      ],
      "source": [
        "Data_chess.head()"
      ]
    },
    {
      "cell_type": "code",
      "execution_count": null,
      "metadata": {
        "colab": {
          "base_uri": "https://localhost:8080/"
        },
        "id": "xaqg27WVMNv9",
        "outputId": "fdd6882b-4a7c-48dd-ba46-fb8b61bf2166"
      },
      "outputs": [
        {
          "output_type": "stream",
          "name": "stdout",
          "text": [
            "<class 'pandas.core.frame.DataFrame'>\n",
            "RangeIndex: 13622 entries, 0 to 13621\n",
            "Data columns (total 40 columns):\n",
            " #   Column                Non-Null Count  Dtype  \n",
            "---  ------                --------------  -----  \n",
            " 0   GAME                  13622 non-null  int64  \n",
            " 1   BlackElo              13622 non-null  int64  \n",
            " 2   BlackRatingDiff       13575 non-null  float64\n",
            " 3   Date                  13622 non-null  object \n",
            " 4   ECO                   13622 non-null  object \n",
            " 5   Event                 13622 non-null  object \n",
            " 6   Opening               13622 non-null  object \n",
            " 7   Result                13621 non-null  object \n",
            " 8   Site                  13621 non-null  object \n",
            " 9   Termination           13621 non-null  object \n",
            " 10  TimeControl           13621 non-null  object \n",
            " 11  UTCTime               13621 non-null  object \n",
            " 12  WhiteElo              13621 non-null  float64\n",
            " 13  WhiteRatingDiff       13574 non-null  float64\n",
            " 14  Black_elo_category    13621 non-null  object \n",
            " 15  White_elo_category    13621 non-null  object \n",
            " 16  starting_time         13580 non-null  float64\n",
            " 17  increment             13580 non-null  float64\n",
            " 18  Game_type             13621 non-null  object \n",
            " 19  Total_moves           13621 non-null  float64\n",
            " 20  Black_blunders        13621 non-null  float64\n",
            " 21  White_blunders        13621 non-null  float64\n",
            " 22  Black_mistakes        13621 non-null  float64\n",
            " 23  White_mistakes        13621 non-null  float64\n",
            " 24  Black_inaccuracies    13621 non-null  float64\n",
            " 25  White_inaccuracies    13621 non-null  float64\n",
            " 26  Black_inferior_moves  13621 non-null  float64\n",
            " 27  White_inferior_moves  13621 non-null  float64\n",
            " 28  Black_ts_moves        13621 non-null  float64\n",
            " 29  White_ts_moves        13621 non-null  float64\n",
            " 30  Black_ts_blunders     13621 non-null  float64\n",
            " 31  White_ts_blunders     13621 non-null  float64\n",
            " 32  Black_ts_mistakes     13621 non-null  float64\n",
            " 33  White_ts_mistake      13621 non-null  float64\n",
            " 34  Black_long_moves      13621 non-null  float64\n",
            " 35  White_long_moves      13621 non-null  float64\n",
            " 36  Black_bad_long_moves  13621 non-null  float64\n",
            " 37  White_bad_long_moves  13621 non-null  float64\n",
            " 38  Game_flips            13621 non-null  float64\n",
            " 39  Game_flips_ts         13621 non-null  float64\n",
            "dtypes: float64(26), int64(2), object(12)\n",
            "memory usage: 4.2+ MB\n"
          ]
        }
      ],
      "source": [
        "Data_chess.info()"
      ]
    },
    {
      "cell_type": "code",
      "execution_count": null,
      "metadata": {
        "colab": {
          "base_uri": "https://localhost:8080/"
        },
        "id": "Xu4259IzkNDb",
        "outputId": "f72226bc-4308-4c00-acba-2db7960735ad"
      },
      "outputs": [
        {
          "output_type": "execute_result",
          "data": {
            "text/plain": [
              "array(['Blitz', 'Rapid', 'Bullet', 'Classical', 'Correspondence', nan],\n",
              "      dtype=object)"
            ]
          },
          "metadata": {},
          "execution_count": 9
        }
      ],
      "source": [
        "Data_chess['Game_type'].unique()"
      ]
    },
    {
      "cell_type": "code",
      "execution_count": null,
      "metadata": {
        "colab": {
          "base_uri": "https://localhost:8080/"
        },
        "id": "7XHfjCi3HXQA",
        "outputId": "facaeb61-6147-42ea-a9b2-d673999d370f"
      },
      "outputs": [
        {
          "output_type": "stream",
          "name": "stdout",
          "text": [
            "\n",
            "GAME : 0 nulls, ratio : 0.0% de nulls\n",
            "BlackElo : 0 nulls, ratio : 0.0% de nulls\n",
            "BlackRatingDiff : 47 nulls, ratio : \u001b[31m0.35%\u001b[0m de nulls\n",
            "Date : 0 nulls, ratio : 0.0% de nulls\n",
            "ECO : 0 nulls, ratio : 0.0% de nulls\n",
            "Event : 0 nulls, ratio : 0.0% de nulls\n",
            "Opening : 0 nulls, ratio : 0.0% de nulls\n",
            "Result : 1 nulls, ratio : \u001b[31m0.01%\u001b[0m de nulls\n",
            "Site : 1 nulls, ratio : \u001b[31m0.01%\u001b[0m de nulls\n",
            "Termination : 1 nulls, ratio : \u001b[31m0.01%\u001b[0m de nulls\n",
            "TimeControl : 1 nulls, ratio : \u001b[31m0.01%\u001b[0m de nulls\n",
            "UTCTime : 1 nulls, ratio : \u001b[31m0.01%\u001b[0m de nulls\n",
            "WhiteElo : 1 nulls, ratio : \u001b[31m0.01%\u001b[0m de nulls\n",
            "WhiteRatingDiff : 48 nulls, ratio : \u001b[31m0.35%\u001b[0m de nulls\n",
            "Black_elo_category : 1 nulls, ratio : \u001b[31m0.01%\u001b[0m de nulls\n",
            "White_elo_category : 1 nulls, ratio : \u001b[31m0.01%\u001b[0m de nulls\n",
            "starting_time : 42 nulls, ratio : \u001b[31m0.31%\u001b[0m de nulls\n",
            "increment : 42 nulls, ratio : \u001b[31m0.31%\u001b[0m de nulls\n",
            "Game_type : 1 nulls, ratio : \u001b[31m0.01%\u001b[0m de nulls\n",
            "Total_moves : 1 nulls, ratio : \u001b[31m0.01%\u001b[0m de nulls\n",
            "Black_blunders : 1 nulls, ratio : \u001b[31m0.01%\u001b[0m de nulls\n",
            "White_blunders : 1 nulls, ratio : \u001b[31m0.01%\u001b[0m de nulls\n",
            "Black_mistakes : 1 nulls, ratio : \u001b[31m0.01%\u001b[0m de nulls\n",
            "White_mistakes : 1 nulls, ratio : \u001b[31m0.01%\u001b[0m de nulls\n",
            "Black_inaccuracies : 1 nulls, ratio : \u001b[31m0.01%\u001b[0m de nulls\n",
            "White_inaccuracies : 1 nulls, ratio : \u001b[31m0.01%\u001b[0m de nulls\n",
            "Black_inferior_moves : 1 nulls, ratio : \u001b[31m0.01%\u001b[0m de nulls\n",
            "White_inferior_moves : 1 nulls, ratio : \u001b[31m0.01%\u001b[0m de nulls\n",
            "Black_ts_moves : 1 nulls, ratio : \u001b[31m0.01%\u001b[0m de nulls\n",
            "White_ts_moves : 1 nulls, ratio : \u001b[31m0.01%\u001b[0m de nulls\n",
            "Black_ts_blunders : 1 nulls, ratio : \u001b[31m0.01%\u001b[0m de nulls\n",
            "White_ts_blunders : 1 nulls, ratio : \u001b[31m0.01%\u001b[0m de nulls\n",
            "Black_ts_mistakes : 1 nulls, ratio : \u001b[31m0.01%\u001b[0m de nulls\n",
            "White_ts_mistake : 1 nulls, ratio : \u001b[31m0.01%\u001b[0m de nulls\n",
            "Black_long_moves : 1 nulls, ratio : \u001b[31m0.01%\u001b[0m de nulls\n",
            "White_long_moves : 1 nulls, ratio : \u001b[31m0.01%\u001b[0m de nulls\n",
            "Black_bad_long_moves : 1 nulls, ratio : \u001b[31m0.01%\u001b[0m de nulls\n",
            "White_bad_long_moves : 1 nulls, ratio : \u001b[31m0.01%\u001b[0m de nulls\n",
            "Game_flips : 1 nulls, ratio : \u001b[31m0.01%\u001b[0m de nulls\n",
            "Game_flips_ts : 1 nulls, ratio : \u001b[31m0.01%\u001b[0m de nulls\n"
          ]
        }
      ],
      "source": [
        "dfs = [Data_chess]\n",
        "for df in dfs:\n",
        "  print()\n",
        "  for c in df.columns:\n",
        "    wtf = \"\"\n",
        "    nulls = df[c].isnull().sum()\n",
        "    ratio = nulls/len(df)\n",
        "\n",
        "    if ratio > 0:\n",
        "      print(wtf + c + \" : \"  + str(nulls) + f\" nulls, ratio : {Fore.RED}\" + str(round(ratio*100,2)) + f\"%{Style.RESET_ALL} de nulls\")\n",
        "    else:\n",
        "      print(wtf + c + \" : \"  + str(nulls) + \" nulls, ratio : \" + str(round(ratio*100,2)) + \"% de nulls\")"
      ]
    },
    {
      "cell_type": "markdown",
      "metadata": {
        "id": "Rwr9pUqoGeRi"
      },
      "source": [
        "# System Setup for a Spark NoteBook"
      ]
    },
    {
      "cell_type": "markdown",
      "source": [
        "Le System Setup provient du cours et des exercices fournit par notre professeur, nous avons utilisé exactement les mêmes commandes."
      ],
      "metadata": {
        "id": "ny2WaTt_vm98"
      }
    },
    {
      "cell_type": "code",
      "execution_count": null,
      "metadata": {
        "id": "Vp90a443GXG3"
      },
      "outputs": [],
      "source": [
        "!apt-get install openjdk-8-jdk-headless -qq > /dev/null\n",
        "!wget -q https://downloads.apache.org/spark/spark-3.3.1/spark-3.3.1-bin-hadoop2.tgz\n",
        "!tar xf spark-3.3.1-bin-hadoop2.tgz\n",
        "!pip install -q findspark"
      ]
    },
    {
      "cell_type": "code",
      "execution_count": null,
      "metadata": {
        "id": "4jzguyAMIBjj"
      },
      "outputs": [],
      "source": [
        "import os\n",
        "os.environ[\"JAVA_HOME\"] = \"/usr/lib/jvm/java-8-openjdk-amd64\"\n",
        "os.environ[\"SPARK_HOME\"] = \"/content/spark-3.3.1-bin-hadoop2\"\n"
      ]
    },
    {
      "cell_type": "code",
      "execution_count": null,
      "metadata": {
        "id": "u_2imYqMJjlO"
      },
      "outputs": [],
      "source": [
        "import findspark\n",
        "findspark.init()\n",
        "from pyspark.sql import SparkSession\n",
        "from pyspark.sql.functions import udf\n",
        "from pyspark.sql.functions import corr\n",
        "from pyspark.sql.functions import sum, avg, max\n",
        "from pyspark.sql.functions import first\n",
        "from pyspark.sql.types import IntegerType\n",
        "from pyspark.sql.functions import desc, asc\n",
        "spark = SparkSession.builder.master(\"local[*]\").getOrCreate()"
      ]
    },
    {
      "cell_type": "code",
      "execution_count": null,
      "metadata": {
        "id": "NiLO36XSMVKY"
      },
      "outputs": [],
      "source": [
        "spark.conf.set(\"spark.sql.execution.arrow.enabled\", \"true\")"
      ]
    },
    {
      "cell_type": "markdown",
      "metadata": {
        "id": "plpf2lgKKWAb"
      },
      "source": [
        "# Dataframe Setup"
      ]
    },
    {
      "cell_type": "code",
      "execution_count": null,
      "metadata": {
        "id": "2WQb-uaxMvlG"
      },
      "outputs": [],
      "source": [
        "df_spark = spark.read.option('header', 'true').csv(\"/content/Sept_20_analysis.csv\")"
      ]
    },
    {
      "cell_type": "code",
      "execution_count": null,
      "metadata": {
        "colab": {
          "base_uri": "https://localhost:8080/"
        },
        "id": "2LSamA3sM644",
        "outputId": "72d50609-e1a9-43c0-e49e-477e979653d7"
      },
      "outputs": [
        {
          "output_type": "stream",
          "name": "stdout",
          "text": [
            "+----+--------+---------------+----------+---+----------------+--------------------+------+--------------------+------------+-----------+--------+--------+---------------+------------------+------------------+-------------+---------+---------+-----------+--------------+--------------+--------------+--------------+------------------+------------------+--------------------+--------------------+--------------+--------------+-----------------+-----------------+-----------------+----------------+----------------+----------------+--------------------+--------------------+----------+-------------+\n",
            "|GAME|BlackElo|BlackRatingDiff|      Date|ECO|           Event|             Opening|Result|                Site| Termination|TimeControl| UTCTime|WhiteElo|WhiteRatingDiff|Black_elo_category|White_elo_category|starting_time|increment|Game_type|Total_moves|Black_blunders|White_blunders|Black_mistakes|White_mistakes|Black_inaccuracies|White_inaccuracies|Black_inferior_moves|White_inferior_moves|Black_ts_moves|White_ts_moves|Black_ts_blunders|White_ts_blunders|Black_ts_mistakes|White_ts_mistake|Black_long_moves|White_long_moves|Black_bad_long_moves|White_bad_long_moves|Game_flips|Game_flips_ts|\n",
            "+----+--------+---------------+----------+---+----------------+--------------------+------+--------------------+------------+-----------+--------+--------+---------------+------------------+------------------+-------------+---------+---------+-----------+--------------+--------------+--------------+--------------+------------------+------------------+--------------------+--------------------+--------------+--------------+-----------------+-----------------+-----------------+----------------+----------------+----------------+--------------------+--------------------+----------+-------------+\n",
            "|  11|    1143|              6|2020.09.01|A02|Rated Blitz game|        Bird Opening|   0-1|https://lichess.o...|Time forfeit|      300+0|00:00:00|    1180|             -7|        Low rating|        Low rating|          300|        0|    Blitz|         66|             4|             2|             0|             3|                 3|                 1|                   7|                   6|             8|             8|                0|                0|                0|               0|               2|               1|                   1|                   1|         8|            0|\n",
            "|  14|    1504|           null|2020.09.01|A04|Rated Blitz game|        Réti Opening|   0-1|https://lichess.o...|      Normal|      300+0|00:00:00|    1381|           null|        Low rating|        Low rating|          300|        0|    Blitz|         64|             2|             1|             1|             1|                 7|                 5|                  10|                   7|             0|             0|                0|                0|                0|               0|               0|               1|                   0|                   0|         6|            0|\n",
            "|  29|    1933|              1|2020.09.01|C41|Rated Blitz game|    Philidor Defense|   0-1|https://lichess.o...|Time forfeit|      300+2|00:00:00|    1485|             -1|       High rating|        Low rating|          300|        2|    Blitz|         70|             0|             1|             1|             2|                 8|                 8|                   9|                  11|             0|             2|                0|                0|                0|               0|               1|               1|                   1|                   0|         5|            0|\n",
            "|  40|    1710|             10|2020.09.01|B23|Rated Blitz game|Sicilian Defense:...|   0-1|https://lichess.o...|      Normal|      180+2|00:00:00|    2040|            -11|        Low rating|       High rating|          180|        2|    Blitz|         86|             4|             2|             1|             5|                 3|                 4|                   8|                  11|            18|             0|                4|                0|                0|               0|               3|               1|                   1|                   0|         8|            1|\n",
            "|  55|    1598|             -1|2020.09.01|B03|Rated Rapid game|    Alekhine Defense|   1-0|https://lichess.o...|      Normal|      600+0|00:00:00|    2163|              0|        Low rating|       High rating|          600|        0|    Rapid|         71|             1|             0|             1|             1|                 6|                 2|                   8|                   3|             0|             0|                0|                0|                0|               0|               0|               0|                   0|                   0|         2|            0|\n",
            "+----+--------+---------------+----------+---+----------------+--------------------+------+--------------------+------------+-----------+--------+--------+---------------+------------------+------------------+-------------+---------+---------+-----------+--------------+--------------+--------------+--------------+------------------+------------------+--------------------+--------------------+--------------+--------------+-----------------+-----------------+-----------------+----------------+----------------+----------------+--------------------+--------------------+----------+-------------+\n",
            "only showing top 5 rows\n",
            "\n"
          ]
        }
      ],
      "source": [
        "df_spark.show(5)"
      ]
    },
    {
      "cell_type": "markdown",
      "metadata": {
        "id": "yLKIm_yI28cE"
      },
      "source": [
        "je supprime dans un premier temps, après avoir lu correctemeent le sujet, des colonnes qui me semblent pas pertinentes pour le reste du projet."
      ]
    },
    {
      "cell_type": "code",
      "execution_count": null,
      "metadata": {
        "id": "C_HiJuVC2HHf"
      },
      "outputs": [],
      "source": [
        "df_spark_2 = df_spark.drop('GAME','Date','Site', 'UTCTime')"
      ]
    },
    {
      "cell_type": "code",
      "execution_count": null,
      "metadata": {
        "colab": {
          "base_uri": "https://localhost:8080/"
        },
        "id": "1s9bTZlL2uZY",
        "outputId": "9923ad7c-15cf-4d8a-8e68-c241ca9b289d"
      },
      "outputs": [
        {
          "output_type": "stream",
          "name": "stdout",
          "text": [
            "+--------+---------------+---+----------------+--------------------+------+------------+-----------+--------+---------------+------------------+------------------+-------------+---------+---------+-----------+--------------+--------------+--------------+--------------+------------------+------------------+--------------------+--------------------+--------------+--------------+-----------------+-----------------+-----------------+----------------+----------------+----------------+--------------------+--------------------+----------+-------------+\n",
            "|BlackElo|BlackRatingDiff|ECO|           Event|             Opening|Result| Termination|TimeControl|WhiteElo|WhiteRatingDiff|Black_elo_category|White_elo_category|starting_time|increment|Game_type|Total_moves|Black_blunders|White_blunders|Black_mistakes|White_mistakes|Black_inaccuracies|White_inaccuracies|Black_inferior_moves|White_inferior_moves|Black_ts_moves|White_ts_moves|Black_ts_blunders|White_ts_blunders|Black_ts_mistakes|White_ts_mistake|Black_long_moves|White_long_moves|Black_bad_long_moves|White_bad_long_moves|Game_flips|Game_flips_ts|\n",
            "+--------+---------------+---+----------------+--------------------+------+------------+-----------+--------+---------------+------------------+------------------+-------------+---------+---------+-----------+--------------+--------------+--------------+--------------+------------------+------------------+--------------------+--------------------+--------------+--------------+-----------------+-----------------+-----------------+----------------+----------------+----------------+--------------------+--------------------+----------+-------------+\n",
            "|    1143|              6|A02|Rated Blitz game|        Bird Opening|   0-1|Time forfeit|      300+0|    1180|             -7|        Low rating|        Low rating|          300|        0|    Blitz|         66|             4|             2|             0|             3|                 3|                 1|                   7|                   6|             8|             8|                0|                0|                0|               0|               2|               1|                   1|                   1|         8|            0|\n",
            "|    1504|           null|A04|Rated Blitz game|        Réti Opening|   0-1|      Normal|      300+0|    1381|           null|        Low rating|        Low rating|          300|        0|    Blitz|         64|             2|             1|             1|             1|                 7|                 5|                  10|                   7|             0|             0|                0|                0|                0|               0|               0|               1|                   0|                   0|         6|            0|\n",
            "|    1933|              1|C41|Rated Blitz game|    Philidor Defense|   0-1|Time forfeit|      300+2|    1485|             -1|       High rating|        Low rating|          300|        2|    Blitz|         70|             0|             1|             1|             2|                 8|                 8|                   9|                  11|             0|             2|                0|                0|                0|               0|               1|               1|                   1|                   0|         5|            0|\n",
            "|    1710|             10|B23|Rated Blitz game|Sicilian Defense:...|   0-1|      Normal|      180+2|    2040|            -11|        Low rating|       High rating|          180|        2|    Blitz|         86|             4|             2|             1|             5|                 3|                 4|                   8|                  11|            18|             0|                4|                0|                0|               0|               3|               1|                   1|                   0|         8|            1|\n",
            "|    1598|             -1|B03|Rated Rapid game|    Alekhine Defense|   1-0|      Normal|      600+0|    2163|              0|        Low rating|       High rating|          600|        0|    Rapid|         71|             1|             0|             1|             1|                 6|                 2|                   8|                   3|             0|             0|                0|                0|                0|               0|               0|               0|                   0|                   0|         2|            0|\n",
            "+--------+---------------+---+----------------+--------------------+------+------------+-----------+--------+---------------+------------------+------------------+-------------+---------+---------+-----------+--------------+--------------+--------------+--------------+------------------+------------------+--------------------+--------------------+--------------+--------------+-----------------+-----------------+-----------------+----------------+----------------+----------------+--------------------+--------------------+----------+-------------+\n",
            "only showing top 5 rows\n",
            "\n"
          ]
        }
      ],
      "source": [
        "df_spark_2.show(5)"
      ]
    },
    {
      "cell_type": "markdown",
      "metadata": {
        "id": "RusqklnI9n7y"
      },
      "source": [
        "# Définition des fonctions "
      ]
    },
    {
      "cell_type": "markdown",
      "metadata": {
        "id": "W39L9dnvL3YC"
      },
      "source": [
        "J'ai pris la peine de rajouter deux catégories (\"joueur bas niveau\" et \"dieu des echecs\") afin que toutes nos données soient traiter. Mais on aurait très bien pu ne pas les rajouter et supprimer les données non classées. Certains fonctions peuvent paraître inutilent mais elles ont été construites au fur et à mesure pour la continuité des questions. Nous ne les avons pas remodifiées par la suite."
      ]
    },
    {
      "cell_type": "code",
      "execution_count": null,
      "metadata": {
        "id": "Di-AxrM_9q2F"
      },
      "outputs": [],
      "source": [
        "@udf(\"string\")\n",
        "def categorie_niveau_echec(x):\n",
        "  if(x < 1200):\n",
        "    return \"joueur bas niveau\"\n",
        "  if(x >= 1200 and x <= 1499.5):\n",
        "    return \"joueur occasionnel\"\n",
        "  if(x >= 1500 and x <= 1799.5):\n",
        "    return \"bon joueur de club\"  \n",
        "  if(x >= 1800 and x <= 1999.5):\n",
        "    return \"tres bon joueur de club\"\n",
        "  if(x >= 2000 and x <= 2399.5):\n",
        "    return \"niveau national et international (MI)\" \n",
        "  if(x >= 2400 and x <= 2800):\n",
        "    return \"GMI, Champions du monde\"\n",
        "  if(x > 2800):\n",
        "    return \"dieu des echecs\" \n",
        "  else:\n",
        "    return \"erreur sur le classement\"        \n"
      ]
    },
    {
      "cell_type": "code",
      "source": [
        "@udf(\"string\")\n",
        "def result_all(x):\n",
        "  if(x == \"1-0\"):\n",
        "    return \"Victoire_White\"\n",
        "  if(x == \"0-1\"):\n",
        "    return \"Victoire_Black\"\n",
        "  else:\n",
        "    return \"Draw or Undicided\"    "
      ],
      "metadata": {
        "id": "W2TNxb1Be_L-"
      },
      "execution_count": null,
      "outputs": []
    },
    {
      "cell_type": "code",
      "execution_count": null,
      "metadata": {
        "id": "XX1CltcG5Azx"
      },
      "outputs": [],
      "source": [
        "@udf(\"string\")\n",
        "def result_white(x):\n",
        "  if(x == \"1-0\"):\n",
        "    return \"Victoire\"\n",
        "  if(x == \"0-1\"):\n",
        "    return \"Defaite\"\n",
        "  else:\n",
        "    return \"Draw or Undicided\"    "
      ]
    },
    {
      "cell_type": "code",
      "execution_count": null,
      "metadata": {
        "id": "6ddhh4xVp0rW"
      },
      "outputs": [],
      "source": [
        "@udf(\"string\")\n",
        "def result_black(x):\n",
        "  if(x == \"1-0\"):\n",
        "    return \"Defaite\"\n",
        "  if(x == \"0-1\"):\n",
        "    return \"Victoire\"\n",
        "  else:\n",
        "    return \"Draw or Undicided\" "
      ]
    },
    {
      "cell_type": "markdown",
      "metadata": {
        "id": "ynHvYquDBQGV"
      },
      "source": [
        "On considère qu'un match null ou un résultat indécidable est comme une défaite. C'est vraiment un choix personnel pour classer ces données."
      ]
    },
    {
      "cell_type": "code",
      "execution_count": null,
      "metadata": {
        "id": "11VC7AnL_EgW"
      },
      "outputs": [],
      "source": [
        "@udf(\"integer\")\n",
        "def defaite_white(x):\n",
        "  if(x == \"Defaite\"):\n",
        "    return 1\n",
        "  if(x == \"Victoire\"): \n",
        "    return 0\n",
        "  if(x == \"Draw or Undicided\"):\n",
        "    return 0 "
      ]
    },
    {
      "cell_type": "code",
      "execution_count": null,
      "metadata": {
        "id": "togIgCdvqqEP"
      },
      "outputs": [],
      "source": [
        "@udf(\"integer\")\n",
        "def defaite_black(x):\n",
        "  if(x == \"Defaite\"):\n",
        "    return 1\n",
        "  if(x == \"Victoire\"): \n",
        "    return 0\n",
        "  if(x == \"Draw or Undicided\"):\n",
        "    return 0 "
      ]
    },
    {
      "cell_type": "code",
      "execution_count": null,
      "metadata": {
        "id": "QRwyivWV_cOM"
      },
      "outputs": [],
      "source": [
        "@udf(\"integer\")\n",
        "def victoire_white(x):\n",
        "  if(x == \"Defaite\"):\n",
        "    return 0\n",
        "  if(x == \"Victoire\"): \n",
        "    return 1\n",
        "  if(x == \"Draw or Undicided\"):\n",
        "    return 0   "
      ]
    },
    {
      "cell_type": "code",
      "execution_count": null,
      "metadata": {
        "id": "fVzmMZfbpjSF"
      },
      "outputs": [],
      "source": [
        "@udf(\"integer\")\n",
        "def victoire_black(x):\n",
        "  if(x == \"Defaite\"):\n",
        "    return 0\n",
        "  if(x == \"Victoire\"): \n",
        "    return 1\n",
        "  if(x == \"Draw or Undicided\"):\n",
        "    return 0   "
      ]
    },
    {
      "cell_type": "markdown",
      "metadata": {
        "id": "7fEuGU7MNfgA"
      },
      "source": [
        "# Question 1"
      ]
    },
    {
      "cell_type": "markdown",
      "metadata": {
        "id": "L32ur1v9Nhgl"
      },
      "source": [
        "Quel est le taux de bourdes, d'erreur et d'imprécision par coup, par catégorie de niveau (*) et sur les parties de type Blitz (Le type Blitz est de loin le plus joué sur ces sites en ligne)."
      ]
    },
    {
      "cell_type": "markdown",
      "metadata": {
        "id": "N9Kb1D9kNo9v"
      },
      "source": [
        "Colonne Bourdes -> Black_blunders + White_blunders\n",
        "\n",
        "Colonne Erreur -> Black_mistakes + White_mistakes\n",
        "\n",
        "Colonne Imprécision -> Black_inaccuracies + White_inaccuracies\n",
        "\n",
        "**Black_inferior_moves**: Black_blunders + Black_mistakes + Black_inaccuracies\n",
        "\n",
        "**White_inferior_moves**: White_blunders + White_mistakes + White_inaccuracies\n",
        "\n",
        "Colonne catégorie de niveau (ELO) -> (BlackElo + WhiteElo) / 2 \n",
        "\n",
        "Colonne type partie -> Game_type == Blitz"
      ]
    },
    {
      "cell_type": "markdown",
      "metadata": {
        "id": "Aq_idbH23ddC"
      },
      "source": [
        "La première étape consiste à filtrer le dataframe pour uniquement avoir des parties de type Blitz."
      ]
    },
    {
      "cell_type": "code",
      "execution_count": null,
      "metadata": {
        "id": "AGmfRgY_Netp"
      },
      "outputs": [],
      "source": [
        "g1 = df_spark_2.filter(df_spark_2['Game_type'] == 'Blitz')"
      ]
    },
    {
      "cell_type": "code",
      "execution_count": null,
      "metadata": {
        "colab": {
          "base_uri": "https://localhost:8080/"
        },
        "id": "BZ0QY6wP4Yy7",
        "outputId": "ae67ad90-7d4a-4a96-f7ef-10c61e1f8207"
      },
      "outputs": [
        {
          "output_type": "stream",
          "name": "stdout",
          "text": [
            "+--------+---------------+---+--------------------+--------------------+------+------------+-----------+--------+---------------+------------------+------------------+-------------+---------+---------+-----------+--------------+--------------+--------------+--------------+------------------+------------------+--------------------+--------------------+--------------+--------------+-----------------+-----------------+-----------------+----------------+----------------+----------------+--------------------+--------------------+----------+-------------+\n",
            "|BlackElo|BlackRatingDiff|ECO|               Event|             Opening|Result| Termination|TimeControl|WhiteElo|WhiteRatingDiff|Black_elo_category|White_elo_category|starting_time|increment|Game_type|Total_moves|Black_blunders|White_blunders|Black_mistakes|White_mistakes|Black_inaccuracies|White_inaccuracies|Black_inferior_moves|White_inferior_moves|Black_ts_moves|White_ts_moves|Black_ts_blunders|White_ts_blunders|Black_ts_mistakes|White_ts_mistake|Black_long_moves|White_long_moves|Black_bad_long_moves|White_bad_long_moves|Game_flips|Game_flips_ts|\n",
            "+--------+---------------+---+--------------------+--------------------+------+------------+-----------+--------+---------------+------------------+------------------+-------------+---------+---------+-----------+--------------+--------------+--------------+--------------+------------------+------------------+--------------------+--------------------+--------------+--------------+-----------------+-----------------+-----------------+----------------+----------------+----------------+--------------------+--------------------+----------+-------------+\n",
            "|    1143|              6|A02|    Rated Blitz game|        Bird Opening|   0-1|Time forfeit|      300+0|    1180|             -7|        Low rating|        Low rating|          300|        0|    Blitz|         66|             4|             2|             0|             3|                 3|                 1|                   7|                   6|             8|             8|                0|                0|                0|               0|               2|               1|                   1|                   1|         8|            0|\n",
            "|    1504|           null|A04|    Rated Blitz game|        Réti Opening|   0-1|      Normal|      300+0|    1381|           null|        Low rating|        Low rating|          300|        0|    Blitz|         64|             2|             1|             1|             1|                 7|                 5|                  10|                   7|             0|             0|                0|                0|                0|               0|               0|               1|                   0|                   0|         6|            0|\n",
            "|    1933|              1|C41|    Rated Blitz game|    Philidor Defense|   0-1|Time forfeit|      300+2|    1485|             -1|       High rating|        Low rating|          300|        2|    Blitz|         70|             0|             1|             1|             2|                 8|                 8|                   9|                  11|             0|             2|                0|                0|                0|               0|               1|               1|                   1|                   0|         5|            0|\n",
            "|    1710|             10|B23|    Rated Blitz game|Sicilian Defense:...|   0-1|      Normal|      180+2|    2040|            -11|        Low rating|       High rating|          180|        2|    Blitz|         86|             4|             2|             1|             5|                 3|                 4|                   8|                  11|            18|             0|                4|                0|                0|               0|               3|               1|                   1|                   0|         8|            1|\n",
            "|     942|             -3|C46|Rated Blitz tourn...|Four Knights Game...|   1-0|      Normal|      240+2|    1088|             23|        Low rating|        Low rating|          240|        2|    Blitz|         69|             7|             3|             4|             2|                 3|                 5|                  14|                  10|             0|             0|                0|                0|                0|               0|               1|               0|                   1|                   0|        13|            0|\n",
            "+--------+---------------+---+--------------------+--------------------+------+------------+-----------+--------+---------------+------------------+------------------+-------------+---------+---------+-----------+--------------+--------------+--------------+--------------+------------------+------------------+--------------------+--------------------+--------------+--------------+-----------------+-----------------+-----------------+----------------+----------------+----------------+--------------------+--------------------+----------+-------------+\n",
            "only showing top 5 rows\n",
            "\n"
          ]
        }
      ],
      "source": [
        "g1.show(5)"
      ]
    },
    {
      "cell_type": "markdown",
      "metadata": {
        "id": "Ekg9wtgf5m0H"
      },
      "source": [
        "La Deuxième étape consiste à garder uniquement les colonnes qui vont nous permettre de répondre à la question."
      ]
    },
    {
      "cell_type": "code",
      "execution_count": null,
      "metadata": {
        "id": "9lmjpCn64sU7"
      },
      "outputs": [],
      "source": [
        "g2 = g1[['BlackElo', 'WhiteElo', 'Black_blunders', 'White_blunders', 'Black_mistakes', 'White_mistakes', 'Black_inaccuracies', 'White_inaccuracies', 'Total_moves']]"
      ]
    },
    {
      "cell_type": "code",
      "execution_count": null,
      "metadata": {
        "colab": {
          "base_uri": "https://localhost:8080/"
        },
        "id": "dxllrRA15WPT",
        "outputId": "f2ee2c05-af33-4357-8eeb-0578d76be2d0"
      },
      "outputs": [
        {
          "output_type": "stream",
          "name": "stdout",
          "text": [
            "+--------+--------+--------------+--------------+--------------+--------------+------------------+------------------+-----------+\n",
            "|BlackElo|WhiteElo|Black_blunders|White_blunders|Black_mistakes|White_mistakes|Black_inaccuracies|White_inaccuracies|Total_moves|\n",
            "+--------+--------+--------------+--------------+--------------+--------------+------------------+------------------+-----------+\n",
            "|    1143|    1180|             4|             2|             0|             3|                 3|                 1|         66|\n",
            "|    1504|    1381|             2|             1|             1|             1|                 7|                 5|         64|\n",
            "|    1933|    1485|             0|             1|             1|             2|                 8|                 8|         70|\n",
            "|    1710|    2040|             4|             2|             1|             5|                 3|                 4|         86|\n",
            "|     942|    1088|             7|             3|             4|             2|                 3|                 5|         69|\n",
            "+--------+--------+--------------+--------------+--------------+--------------+------------------+------------------+-----------+\n",
            "only showing top 5 rows\n",
            "\n"
          ]
        }
      ],
      "source": [
        "g2.show(5)"
      ]
    },
    {
      "cell_type": "markdown",
      "metadata": {
        "id": "3VDegGab58o2"
      },
      "source": [
        "La troisième étape consiste à calculer les 3 taux + Elo moyen de la partie."
      ]
    },
    {
      "cell_type": "code",
      "execution_count": null,
      "metadata": {
        "id": "orzKARXI5vHN"
      },
      "outputs": [],
      "source": [
        "g3 = g2.withColumn('Taux_blunders', ((g2['Black_blunders'] + g2['White_blunders']) / g2['Total_moves']) * 100)"
      ]
    },
    {
      "cell_type": "code",
      "execution_count": null,
      "metadata": {
        "colab": {
          "base_uri": "https://localhost:8080/"
        },
        "id": "LkruBfF57d7l",
        "outputId": "9506ea71-5810-4419-f851-567234587dcf"
      },
      "outputs": [
        {
          "output_type": "stream",
          "name": "stdout",
          "text": [
            "+--------+--------+--------------+--------------+--------------+--------------+------------------+------------------+-----------+------------------+\n",
            "|BlackElo|WhiteElo|Black_blunders|White_blunders|Black_mistakes|White_mistakes|Black_inaccuracies|White_inaccuracies|Total_moves|     Taux_blunders|\n",
            "+--------+--------+--------------+--------------+--------------+--------------+------------------+------------------+-----------+------------------+\n",
            "|    1143|    1180|             4|             2|             0|             3|                 3|                 1|         66| 9.090909090909092|\n",
            "|    1504|    1381|             2|             1|             1|             1|                 7|                 5|         64|            4.6875|\n",
            "|    1933|    1485|             0|             1|             1|             2|                 8|                 8|         70|1.4285714285714286|\n",
            "|    1710|    2040|             4|             2|             1|             5|                 3|                 4|         86| 6.976744186046512|\n",
            "|     942|    1088|             7|             3|             4|             2|                 3|                 5|         69|14.492753623188406|\n",
            "+--------+--------+--------------+--------------+--------------+--------------+------------------+------------------+-----------+------------------+\n",
            "only showing top 5 rows\n",
            "\n"
          ]
        }
      ],
      "source": [
        "g3.show(5)"
      ]
    },
    {
      "cell_type": "code",
      "execution_count": null,
      "metadata": {
        "id": "OD9226LB7kdY"
      },
      "outputs": [],
      "source": [
        "g4 = g3.withColumn('Taux_mistakes', ((g3['Black_mistakes'] + g3['White_mistakes']) / g3['Total_moves']) * 100)"
      ]
    },
    {
      "cell_type": "code",
      "execution_count": null,
      "metadata": {
        "colab": {
          "base_uri": "https://localhost:8080/"
        },
        "id": "dT4ED72F7wgR",
        "outputId": "aef63dc7-fa7b-4ff1-abcf-e55aa2e39d5e"
      },
      "outputs": [
        {
          "output_type": "stream",
          "name": "stdout",
          "text": [
            "+--------+--------+--------------+--------------+--------------+--------------+------------------+------------------+-----------+------------------+-----------------+\n",
            "|BlackElo|WhiteElo|Black_blunders|White_blunders|Black_mistakes|White_mistakes|Black_inaccuracies|White_inaccuracies|Total_moves|     Taux_blunders|    Taux_mistakes|\n",
            "+--------+--------+--------------+--------------+--------------+--------------+------------------+------------------+-----------+------------------+-----------------+\n",
            "|    1143|    1180|             4|             2|             0|             3|                 3|                 1|         66| 9.090909090909092|4.545454545454546|\n",
            "|    1504|    1381|             2|             1|             1|             1|                 7|                 5|         64|            4.6875|            3.125|\n",
            "|    1933|    1485|             0|             1|             1|             2|                 8|                 8|         70|1.4285714285714286|4.285714285714286|\n",
            "|    1710|    2040|             4|             2|             1|             5|                 3|                 4|         86| 6.976744186046512|6.976744186046512|\n",
            "|     942|    1088|             7|             3|             4|             2|                 3|                 5|         69|14.492753623188406|8.695652173913043|\n",
            "+--------+--------+--------------+--------------+--------------+--------------+------------------+------------------+-----------+------------------+-----------------+\n",
            "only showing top 5 rows\n",
            "\n"
          ]
        }
      ],
      "source": [
        "g4.show(5)"
      ]
    },
    {
      "cell_type": "code",
      "execution_count": null,
      "metadata": {
        "id": "i9l7dvJe77mj"
      },
      "outputs": [],
      "source": [
        "g5 = g4.withColumn('Taux_inaccuracies', ((g4['Black_inaccuracies'] + g4['White_inaccuracies']) / g4['Total_moves']) * 100)"
      ]
    },
    {
      "cell_type": "code",
      "execution_count": null,
      "metadata": {
        "colab": {
          "base_uri": "https://localhost:8080/"
        },
        "id": "od4ZSwgx8Lrn",
        "outputId": "e79be9f4-b671-4b82-8228-d7758258fe67"
      },
      "outputs": [
        {
          "output_type": "stream",
          "name": "stdout",
          "text": [
            "+--------+--------+--------------+--------------+--------------+--------------+------------------+------------------+-----------+------------------+-----------------+------------------+\n",
            "|BlackElo|WhiteElo|Black_blunders|White_blunders|Black_mistakes|White_mistakes|Black_inaccuracies|White_inaccuracies|Total_moves|     Taux_blunders|    Taux_mistakes| Taux_inaccuracies|\n",
            "+--------+--------+--------------+--------------+--------------+--------------+------------------+------------------+-----------+------------------+-----------------+------------------+\n",
            "|    1143|    1180|             4|             2|             0|             3|                 3|                 1|         66| 9.090909090909092|4.545454545454546|6.0606060606060606|\n",
            "|    1504|    1381|             2|             1|             1|             1|                 7|                 5|         64|            4.6875|            3.125|             18.75|\n",
            "|    1933|    1485|             0|             1|             1|             2|                 8|                 8|         70|1.4285714285714286|4.285714285714286|22.857142857142858|\n",
            "|    1710|    2040|             4|             2|             1|             5|                 3|                 4|         86| 6.976744186046512|6.976744186046512|  8.13953488372093|\n",
            "|     942|    1088|             7|             3|             4|             2|                 3|                 5|         69|14.492753623188406|8.695652173913043|11.594202898550725|\n",
            "+--------+--------+--------------+--------------+--------------+--------------+------------------+------------------+-----------+------------------+-----------------+------------------+\n",
            "only showing top 5 rows\n",
            "\n"
          ]
        }
      ],
      "source": [
        "g5.show(5)"
      ]
    },
    {
      "cell_type": "code",
      "execution_count": null,
      "metadata": {
        "id": "suGyO5RQ8QP3"
      },
      "outputs": [],
      "source": [
        "g6 = g5.withColumn('Elo_moyen', (g5['WhiteElo'] + g5['BlackElo']) / 2)"
      ]
    },
    {
      "cell_type": "code",
      "execution_count": null,
      "metadata": {
        "colab": {
          "base_uri": "https://localhost:8080/"
        },
        "id": "Sco3l0Gs8lsA",
        "outputId": "e8033427-b698-4bb6-8be8-5f4decdc96f7"
      },
      "outputs": [
        {
          "output_type": "stream",
          "name": "stdout",
          "text": [
            "+--------+--------+--------------+--------------+--------------+--------------+------------------+------------------+-----------+------------------+-----------------+------------------+---------+\n",
            "|BlackElo|WhiteElo|Black_blunders|White_blunders|Black_mistakes|White_mistakes|Black_inaccuracies|White_inaccuracies|Total_moves|     Taux_blunders|    Taux_mistakes| Taux_inaccuracies|Elo_moyen|\n",
            "+--------+--------+--------------+--------------+--------------+--------------+------------------+------------------+-----------+------------------+-----------------+------------------+---------+\n",
            "|    1143|    1180|             4|             2|             0|             3|                 3|                 1|         66| 9.090909090909092|4.545454545454546|6.0606060606060606|   1161.5|\n",
            "|    1504|    1381|             2|             1|             1|             1|                 7|                 5|         64|            4.6875|            3.125|             18.75|   1442.5|\n",
            "|    1933|    1485|             0|             1|             1|             2|                 8|                 8|         70|1.4285714285714286|4.285714285714286|22.857142857142858|   1709.0|\n",
            "|    1710|    2040|             4|             2|             1|             5|                 3|                 4|         86| 6.976744186046512|6.976744186046512|  8.13953488372093|   1875.0|\n",
            "|     942|    1088|             7|             3|             4|             2|                 3|                 5|         69|14.492753623188406|8.695652173913043|11.594202898550725|   1015.0|\n",
            "+--------+--------+--------------+--------------+--------------+--------------+------------------+------------------+-----------+------------------+-----------------+------------------+---------+\n",
            "only showing top 5 rows\n",
            "\n"
          ]
        }
      ],
      "source": [
        "g6.show(5)"
      ]
    },
    {
      "cell_type": "markdown",
      "metadata": {
        "id": "4NABfaBA8vsK"
      },
      "source": [
        "On va supprimer les colonnes qui ne sont servent plus à rien maintenant et faire des catégories en fonctions de l'élo moyen de la partie."
      ]
    },
    {
      "cell_type": "code",
      "execution_count": null,
      "metadata": {
        "id": "nhoYK7to802b"
      },
      "outputs": [],
      "source": [
        "g7 = g6.drop('BlackElo','WhiteElo','Black_blunders', 'White_blunders', 'Black_mistakes', 'White_mistakes', 'Black_inaccuracies', 'White_inaccuracies', 'Total_moves')"
      ]
    },
    {
      "cell_type": "code",
      "execution_count": null,
      "metadata": {
        "colab": {
          "base_uri": "https://localhost:8080/"
        },
        "id": "zdGgVNWp9LxX",
        "outputId": "57ae9f8b-b79c-4509-b50a-797357b6da44"
      },
      "outputs": [
        {
          "output_type": "stream",
          "name": "stdout",
          "text": [
            "+------------------+-----------------+------------------+---------+\n",
            "|     Taux_blunders|    Taux_mistakes| Taux_inaccuracies|Elo_moyen|\n",
            "+------------------+-----------------+------------------+---------+\n",
            "| 9.090909090909092|4.545454545454546|6.0606060606060606|   1161.5|\n",
            "|            4.6875|            3.125|             18.75|   1442.5|\n",
            "|1.4285714285714286|4.285714285714286|22.857142857142858|   1709.0|\n",
            "| 6.976744186046512|6.976744186046512|  8.13953488372093|   1875.0|\n",
            "|14.492753623188406|8.695652173913043|11.594202898550725|   1015.0|\n",
            "+------------------+-----------------+------------------+---------+\n",
            "only showing top 5 rows\n",
            "\n"
          ]
        }
      ],
      "source": [
        "g7.show(5)"
      ]
    },
    {
      "cell_type": "code",
      "execution_count": null,
      "metadata": {
        "id": "aIJkg-sS_Osl"
      },
      "outputs": [],
      "source": [
        "g8 = g7.withColumn('Categorie_niveau', categorie_niveau_echec(g7['Elo_moyen']))"
      ]
    },
    {
      "cell_type": "code",
      "execution_count": null,
      "metadata": {
        "colab": {
          "base_uri": "https://localhost:8080/"
        },
        "id": "v9_mg1R8AOEV",
        "outputId": "12c09b39-3032-440b-98fd-5413e91956f0"
      },
      "outputs": [
        {
          "output_type": "stream",
          "name": "stdout",
          "text": [
            "+------------------+-----------------+------------------+---------+--------------------+\n",
            "|     Taux_blunders|    Taux_mistakes| Taux_inaccuracies|Elo_moyen|    Categorie_niveau|\n",
            "+------------------+-----------------+------------------+---------+--------------------+\n",
            "| 9.090909090909092|4.545454545454546|6.0606060606060606|   1161.5|   joueur bas niveau|\n",
            "|            4.6875|            3.125|             18.75|   1442.5|  joueur occasionnel|\n",
            "|1.4285714285714286|4.285714285714286|22.857142857142858|   1709.0|  bon joueur de club|\n",
            "| 6.976744186046512|6.976744186046512|  8.13953488372093|   1875.0|tres bon joueur d...|\n",
            "|14.492753623188406|8.695652173913043|11.594202898550725|   1015.0|   joueur bas niveau|\n",
            "+------------------+-----------------+------------------+---------+--------------------+\n",
            "only showing top 5 rows\n",
            "\n"
          ]
        }
      ],
      "source": [
        "g8.show(5)"
      ]
    },
    {
      "cell_type": "code",
      "execution_count": null,
      "metadata": {
        "id": "OLrdrF6dBN5W"
      },
      "outputs": [],
      "source": [
        "g9 = g8.drop('Elo_moyen')"
      ]
    },
    {
      "cell_type": "code",
      "execution_count": null,
      "metadata": {
        "colab": {
          "base_uri": "https://localhost:8080/"
        },
        "id": "9a021s2EBVKZ",
        "outputId": "a426fd76-5767-400c-a87a-893af9b86c0d"
      },
      "outputs": [
        {
          "output_type": "stream",
          "name": "stdout",
          "text": [
            "+------------------+-----------------+------------------+--------------------+\n",
            "|     Taux_blunders|    Taux_mistakes| Taux_inaccuracies|    Categorie_niveau|\n",
            "+------------------+-----------------+------------------+--------------------+\n",
            "| 9.090909090909092|4.545454545454546|6.0606060606060606|   joueur bas niveau|\n",
            "|            4.6875|            3.125|             18.75|  joueur occasionnel|\n",
            "|1.4285714285714286|4.285714285714286|22.857142857142858|  bon joueur de club|\n",
            "| 6.976744186046512|6.976744186046512|  8.13953488372093|tres bon joueur d...|\n",
            "|14.492753623188406|8.695652173913043|11.594202898550725|   joueur bas niveau|\n",
            "+------------------+-----------------+------------------+--------------------+\n",
            "only showing top 5 rows\n",
            "\n"
          ]
        }
      ],
      "source": [
        "g9.show(5)"
      ]
    },
    {
      "cell_type": "code",
      "execution_count": null,
      "metadata": {
        "id": "K7whKiGlBe5E"
      },
      "outputs": [],
      "source": [
        "g10 = g9[['Categorie_niveau', 'Taux_blunders', 'Taux_mistakes', 'Taux_inaccuracies']]"
      ]
    },
    {
      "cell_type": "code",
      "execution_count": null,
      "metadata": {
        "colab": {
          "base_uri": "https://localhost:8080/"
        },
        "id": "6tD0T4etBoRB",
        "outputId": "ede5af48-f66b-4e58-bb77-e4d112135cfb"
      },
      "outputs": [
        {
          "output_type": "stream",
          "name": "stdout",
          "text": [
            "+--------------------+------------------+------------------+------------------+\n",
            "|    Categorie_niveau|     Taux_blunders|     Taux_mistakes| Taux_inaccuracies|\n",
            "+--------------------+------------------+------------------+------------------+\n",
            "|   joueur bas niveau| 9.090909090909092| 4.545454545454546|6.0606060606060606|\n",
            "|  joueur occasionnel|            4.6875|             3.125|             18.75|\n",
            "|  bon joueur de club|1.4285714285714286| 4.285714285714286|22.857142857142858|\n",
            "|tres bon joueur d...| 6.976744186046512| 6.976744186046512|  8.13953488372093|\n",
            "|   joueur bas niveau|14.492753623188406| 8.695652173913043|11.594202898550725|\n",
            "|  bon joueur de club|3.8461538461538463|1.9230769230769231|1.9230769230769231|\n",
            "|  joueur occasionnel|10.256410256410255|7.6923076923076925|10.256410256410255|\n",
            "|tres bon joueur d...| 4.878048780487805|14.634146341463413|14.634146341463413|\n",
            "|  joueur occasionnel| 8.064516129032258|17.741935483870968| 8.064516129032258|\n",
            "|   joueur bas niveau| 7.042253521126761| 7.042253521126761|14.084507042253522|\n",
            "|  bon joueur de club|3.1746031746031744|1.5873015873015872|15.873015873015872|\n",
            "|   joueur bas niveau|               6.0|              16.0|              20.0|\n",
            "|tres bon joueur d...|               5.0|              12.5|              6.25|\n",
            "|  bon joueur de club|               2.0|               2.0|              16.0|\n",
            "|niveau national e...|3.6363636363636362| 5.454545454545454|21.818181818181817|\n",
            "|  joueur occasionnel|  3.79746835443038| 15.18987341772152|  3.79746835443038|\n",
            "|niveau national e...|  5.88235294117647|7.8431372549019605|  5.88235294117647|\n",
            "|  bon joueur de club|3.6363636363636362|              20.0|10.909090909090908|\n",
            "|  bon joueur de club| 6.666666666666667|11.666666666666666| 6.666666666666667|\n",
            "|niveau national e...|               0.0|14.572864321608039|10.050251256281408|\n",
            "+--------------------+------------------+------------------+------------------+\n",
            "only showing top 20 rows\n",
            "\n"
          ]
        }
      ],
      "source": [
        "g10.show()"
      ]
    },
    {
      "cell_type": "markdown",
      "metadata": {
        "id": "HOmmts1NB1s8"
      },
      "source": [
        "On va maintenant utiliser l'outil de sélection groupBy pour faire des groupes en fonction de la catégorie de niveau des joueurs et les triers dans l'ordre croissant."
      ]
    },
    {
      "cell_type": "code",
      "execution_count": null,
      "metadata": {
        "id": "ErprzE-ICJB7"
      },
      "outputs": [],
      "source": [
        "g11 = g10.groupBy('Categorie_niveau').agg(avg(\"Taux_blunders\").alias('average_blunders'), avg(\"Taux_mistakes\").alias('average_mistake'), avg(\"Taux_inaccuracies\").alias('average_inaccuracies')).sort(\"average_blunders\")"
      ]
    },
    {
      "cell_type": "code",
      "execution_count": null,
      "metadata": {
        "colab": {
          "base_uri": "https://localhost:8080/"
        },
        "id": "11mKmznKEeU3",
        "outputId": "f2c655aa-3764-4040-dcc9-f2c5deba055d"
      },
      "outputs": [
        {
          "output_type": "stream",
          "name": "stdout",
          "text": [
            "+--------------------+------------------+------------------+--------------------+\n",
            "|    Categorie_niveau|  average_blunders|   average_mistake|average_inaccuracies|\n",
            "+--------------------+------------------+------------------+--------------------+\n",
            "|GMI, Champions du...|3.3328537923231516| 6.403400822673126|   7.505710478237151|\n",
            "|niveau national e...| 4.204851838113148| 8.161926845055666|   8.659734554321089|\n",
            "|tres bon joueur d...| 5.016695350863965|  9.22021888950748|   9.231693665935564|\n",
            "|  bon joueur de club| 6.004901448458435| 10.08704698129138|   9.451713055395189|\n",
            "|  joueur occasionnel| 7.461456640618594|10.692521004402263|   9.435107460980044|\n",
            "|   joueur bas niveau|  9.56869699189759| 11.16183648109092|   9.464626860774594|\n",
            "+--------------------+------------------+------------------+--------------------+\n",
            "\n"
          ]
        }
      ],
      "source": [
        "g11.show()"
      ]
    },
    {
      "cell_type": "markdown",
      "metadata": {
        "id": "PGP5g-_2Lcoe"
      },
      "source": [
        "# Question 2"
      ]
    },
    {
      "cell_type": "markdown",
      "metadata": {
        "id": "swalNL1zLpzd"
      },
      "source": [
        "Quelle est la corrélation entre le nombre d'erreurs et résultat (victoire/défaite). Attention: vous prendrez soin d'expliquer votre raisonnement pour analyser une telle corrélation et les variables que vous prenez en compte, les seules variables nombre d'erreurs pour une couleur et résultat pour cette couleur n'étant probablement pas corrélées."
      ]
    },
    {
      "cell_type": "markdown",
      "source": [
        "Dans cette question, nous avons compris que le nombre d'erreurs provenait de la colonne \"Black_mistakes\" et de la colonne \"White_mistakes\". Je pense aussi qu'on peut comprendre la question autrement, c'est à dire, en utilisant la colonne \"Black_inferior_moves\" et \"White_inferior_moves\". Nous avons utilisé la première version dans notre cas."
      ],
      "metadata": {
        "id": "urASNa2FZn6R"
      }
    },
    {
      "cell_type": "markdown",
      "source": [
        "Il est important de noter qu'une corrélation n'implique pas forcément de causalité, et il est possible que la corrélation entre le nombre d'erreurs des pièces blanches ou noirs et le résultat soit le résultat d'une troisième variable non prise en compte dans l'analyse. Par conséquent, il est important d'être prudent lors de l'interprétation des résultats et de considérer d'autres facteurs qui peuvent influencer la relation entre les deux variables."
      ],
      "metadata": {
        "id": "OHiATs-CtRgq"
      }
    },
    {
      "cell_type": "markdown",
      "source": [
        "Dans ce contexte, il est important de ne pas garder la colonne \"Result\" en tant que telle. Il faut garder un rapport victoire/défaite en pourcentage. Avec cela, on pourra donc trouver une corrélation avec le nombre d'erreurs.\n"
      ],
      "metadata": {
        "id": "Z-Y0QmG3t7HV"
      }
    },
    {
      "cell_type": "markdown",
      "source": [
        "Lorsque les pions blancs gagnent la partie, nous allons nous intéresser au taux d'erreur des pions noirs. Lorsque les pions noirs gagnent la partie, nous allons nous intéresser au taux d'erreur des pions blancs."
      ],
      "metadata": {
        "id": "TQoMDmUtwr3n"
      }
    },
    {
      "cell_type": "code",
      "execution_count": null,
      "metadata": {
        "colab": {
          "base_uri": "https://localhost:8080/",
          "height": 1000
        },
        "id": "YVi5tu9q1tk2",
        "outputId": "24ca3b1a-bcc1-45de-ff0c-f8773de2c934"
      },
      "outputs": [
        {
          "output_type": "display_data",
          "data": {
            "text/plain": [
              "<Figure size 1800x1440 with 2 Axes>"
            ],
            "image/png": "[encoded data removed]"
          },
          "metadata": {
            "needs_background": "light"
          }
        }
      ],
      "source": [
        "Data_chess_corr = Data_chess.corr()\n",
        "fig, axs = plt.subplots(figsize=(25,20))\n",
        "sns.heatmap(Data_chess_corr,ax=axs,cmap=sns.color_palette(\"viridis\", as_cmap=True))\n",
        "plt.title(\"Correlation matrix\")\n",
        "# plt.savefig(\"maxtrix_corr.png\", transparent = False)\n",
        "plt.show()"
      ]
    },
    {
      "cell_type": "code",
      "execution_count": null,
      "metadata": {
        "colab": {
          "base_uri": "https://localhost:8080/"
        },
        "id": "ly4AzV_zwGgF",
        "outputId": "9baeb7b8-f46f-405c-fe94-131764161fe2"
      },
      "outputs": [
        {
          "output_type": "stream",
          "name": "stdout",
          "text": [
            "+--------+---------------+---+----------------+--------------------+------+------------+-----------+--------+---------------+------------------+------------------+-------------+---------+---------+-----------+--------------+--------------+--------------+--------------+------------------+------------------+--------------------+--------------------+--------------+--------------+-----------------+-----------------+-----------------+----------------+----------------+----------------+--------------------+--------------------+----------+-------------+\n",
            "|BlackElo|BlackRatingDiff|ECO|           Event|             Opening|Result| Termination|TimeControl|WhiteElo|WhiteRatingDiff|Black_elo_category|White_elo_category|starting_time|increment|Game_type|Total_moves|Black_blunders|White_blunders|Black_mistakes|White_mistakes|Black_inaccuracies|White_inaccuracies|Black_inferior_moves|White_inferior_moves|Black_ts_moves|White_ts_moves|Black_ts_blunders|White_ts_blunders|Black_ts_mistakes|White_ts_mistake|Black_long_moves|White_long_moves|Black_bad_long_moves|White_bad_long_moves|Game_flips|Game_flips_ts|\n",
            "+--------+---------------+---+----------------+--------------------+------+------------+-----------+--------+---------------+------------------+------------------+-------------+---------+---------+-----------+--------------+--------------+--------------+--------------+------------------+------------------+--------------------+--------------------+--------------+--------------+-----------------+-----------------+-----------------+----------------+----------------+----------------+--------------------+--------------------+----------+-------------+\n",
            "|    1143|              6|A02|Rated Blitz game|        Bird Opening|   0-1|Time forfeit|      300+0|    1180|             -7|        Low rating|        Low rating|          300|        0|    Blitz|         66|             4|             2|             0|             3|                 3|                 1|                   7|                   6|             8|             8|                0|                0|                0|               0|               2|               1|                   1|                   1|         8|            0|\n",
            "|    1504|           null|A04|Rated Blitz game|        Réti Opening|   0-1|      Normal|      300+0|    1381|           null|        Low rating|        Low rating|          300|        0|    Blitz|         64|             2|             1|             1|             1|                 7|                 5|                  10|                   7|             0|             0|                0|                0|                0|               0|               0|               1|                   0|                   0|         6|            0|\n",
            "|    1933|              1|C41|Rated Blitz game|    Philidor Defense|   0-1|Time forfeit|      300+2|    1485|             -1|       High rating|        Low rating|          300|        2|    Blitz|         70|             0|             1|             1|             2|                 8|                 8|                   9|                  11|             0|             2|                0|                0|                0|               0|               1|               1|                   1|                   0|         5|            0|\n",
            "|    1710|             10|B23|Rated Blitz game|Sicilian Defense:...|   0-1|      Normal|      180+2|    2040|            -11|        Low rating|       High rating|          180|        2|    Blitz|         86|             4|             2|             1|             5|                 3|                 4|                   8|                  11|            18|             0|                4|                0|                0|               0|               3|               1|                   1|                   0|         8|            1|\n",
            "|    1598|             -1|B03|Rated Rapid game|    Alekhine Defense|   1-0|      Normal|      600+0|    2163|              0|        Low rating|       High rating|          600|        0|    Rapid|         71|             1|             0|             1|             1|                 6|                 2|                   8|                   3|             0|             0|                0|                0|                0|               0|               0|               0|                   0|                   0|         2|            0|\n",
            "+--------+---------------+---+----------------+--------------------+------+------------+-----------+--------+---------------+------------------+------------------+-------------+---------+---------+-----------+--------------+--------------+--------------+--------------+------------------+------------------+--------------------+--------------------+--------------+--------------+-----------------+-----------------+-----------------+----------------+----------------+----------------+--------------------+--------------------+----------+-------------+\n",
            "only showing top 5 rows\n",
            "\n"
          ]
        }
      ],
      "source": [
        "df_spark_2.show(5)"
      ]
    },
    {
      "cell_type": "code",
      "source": [
        "t0 = df_spark_2[['Result', 'Total_moves', 'Black_mistakes', 'White_mistakes']]"
      ],
      "metadata": {
        "id": "OF1pvspldarg"
      },
      "execution_count": null,
      "outputs": []
    },
    {
      "cell_type": "code",
      "source": [
        "t1 = t0.withColumn('Result_bis', result_all(t0['Result']))"
      ],
      "metadata": {
        "id": "8JUM8mSzeMhg"
      },
      "execution_count": null,
      "outputs": []
    },
    {
      "cell_type": "code",
      "source": [
        "t2 = t1.drop('Result')"
      ],
      "metadata": {
        "id": "5T1Ve5nnfdc-"
      },
      "execution_count": null,
      "outputs": []
    },
    {
      "cell_type": "code",
      "source": [
        "t2.show(5)"
      ],
      "metadata": {
        "colab": {
          "base_uri": "https://localhost:8080/"
        },
        "id": "wW74zuDGfdyQ",
        "outputId": "91a48902-e0b7-417e-aae4-b09b2526b5d3"
      },
      "execution_count": null,
      "outputs": [
        {
          "output_type": "stream",
          "name": "stdout",
          "text": [
            "+-----------+--------------+--------------+--------------+\n",
            "|Total_moves|Black_mistakes|White_mistakes|    Result_bis|\n",
            "+-----------+--------------+--------------+--------------+\n",
            "|         66|             0|             3|Victoire_Black|\n",
            "|         64|             1|             1|Victoire_Black|\n",
            "|         70|             1|             2|Victoire_Black|\n",
            "|         86|             1|             5|Victoire_Black|\n",
            "|         71|             1|             1|Victoire_White|\n",
            "+-----------+--------------+--------------+--------------+\n",
            "only showing top 5 rows\n",
            "\n"
          ]
        }
      ]
    },
    {
      "cell_type": "code",
      "source": [
        "t3 = t2[['Result_bis', 'Total_moves', 'Black_mistakes', 'White_mistakes']]"
      ],
      "metadata": {
        "id": "Om2g2JfFfthC"
      },
      "execution_count": null,
      "outputs": []
    },
    {
      "cell_type": "code",
      "source": [
        "t3.show(5)"
      ],
      "metadata": {
        "colab": {
          "base_uri": "https://localhost:8080/"
        },
        "id": "17H0YiRQf02P",
        "outputId": "6e5b8e02-3214-4942-aa30-746d852894d7"
      },
      "execution_count": null,
      "outputs": [
        {
          "output_type": "stream",
          "name": "stdout",
          "text": [
            "+--------------+-----------+--------------+--------------+\n",
            "|    Result_bis|Total_moves|Black_mistakes|White_mistakes|\n",
            "+--------------+-----------+--------------+--------------+\n",
            "|Victoire_Black|         66|             0|             3|\n",
            "|Victoire_Black|         64|             1|             1|\n",
            "|Victoire_Black|         70|             1|             2|\n",
            "|Victoire_Black|         86|             1|             5|\n",
            "|Victoire_White|         71|             1|             1|\n",
            "+--------------+-----------+--------------+--------------+\n",
            "only showing top 5 rows\n",
            "\n"
          ]
        }
      ]
    },
    {
      "cell_type": "code",
      "source": [
        "t4 = t3.groupBy('Result_bis').agg(avg(\"White_mistakes\").alias('Average_White_mistakes'), avg(\"Black_mistakes\").alias('Average_Black_mistakes'), avg(\"Total_moves\").alias('Average_Total_moves'))"
      ],
      "metadata": {
        "id": "2LYgJ0-FkwHZ"
      },
      "execution_count": null,
      "outputs": []
    },
    {
      "cell_type": "code",
      "source": [
        "t4.show(5)"
      ],
      "metadata": {
        "colab": {
          "base_uri": "https://localhost:8080/"
        },
        "id": "QdbsFxWhleXV",
        "outputId": "e28417cd-87ec-440f-a3f8-ff086b64d03e"
      },
      "execution_count": null,
      "outputs": [
        {
          "output_type": "stream",
          "name": "stdout",
          "text": [
            "+-----------------+----------------------+----------------------+-------------------+\n",
            "|       Result_bis|Average_White_mistakes|Average_Black_mistakes|Average_Total_moves|\n",
            "+-----------------+----------------------+----------------------+-------------------+\n",
            "|   Victoire_Black|    3.4026264919763123|    2.8100702647970297| 63.381424319597436|\n",
            "|   Victoire_White|     2.752650694159686|    3.2977271395934626|   62.0067658602308|\n",
            "|Draw or Undicided|     4.031202818319074|     3.948666331152491| 104.06139909411172|\n",
            "+-----------------+----------------------+----------------------+-------------------+\n",
            "\n"
          ]
        }
      ]
    },
    {
      "cell_type": "markdown",
      "source": [
        "On peut donc observer la corrélation suivante :\n",
        "- Lorsque le taux moyen d'erreurs des noirs est supérieur au taux d'erreur moyen des blancs, les blancs gagnent en général la partie.\n",
        "- Lorsque le taux moyen d'erreurs des blancs est supérieur au taux d'erreur moyen des noirs, les noirs gagnent en général la partie.\n",
        "- Lorsque le taux moyen d'erreurs des blancs est a peu près égal au taux d'erreur moyen des noirs, la partie se finit généralement sur un match null."
      ],
      "metadata": {
        "id": "CC5EJSvOrj58"
      }
    },
    {
      "cell_type": "markdown",
      "source": [
        "Dans la suite, j'essaye une autre approche. Je ne pense pas que l'approche ci-dessous soit concluante mais je la laisse pour preuve de recherche."
      ],
      "metadata": {
        "id": "3ZaQCNxNoh3v"
      }
    },
    {
      "cell_type": "code",
      "source": [
        "tt1 = t3.filter(t3['Result_bis']=='Victoire_Black').select('Result_bis','Total_moves','White_mistakes')"
      ],
      "metadata": {
        "id": "XtRNKjUxozny"
      },
      "execution_count": null,
      "outputs": []
    },
    {
      "cell_type": "code",
      "source": [
        "tt2 = t3.filter(t3['Result_bis']=='Victoire_White').select('Result_bis','Total_moves','Black_mistakes')"
      ],
      "metadata": {
        "id": "7SM2eXJIpKci"
      },
      "execution_count": null,
      "outputs": []
    },
    {
      "cell_type": "code",
      "source": [
        "tt3 = tt1.union(tt2)"
      ],
      "metadata": {
        "id": "ziF287VvpRL5"
      },
      "execution_count": null,
      "outputs": []
    },
    {
      "cell_type": "code",
      "source": [
        "tt3.show(5)"
      ],
      "metadata": {
        "colab": {
          "base_uri": "https://localhost:8080/"
        },
        "id": "tPX6mb9MpUoz",
        "outputId": "5735155e-31f2-46e2-b048-7c136a13fe30"
      },
      "execution_count": null,
      "outputs": [
        {
          "output_type": "stream",
          "name": "stdout",
          "text": [
            "+--------------+-----------+--------------+\n",
            "|    Result_bis|Total_moves|White_mistakes|\n",
            "+--------------+-----------+--------------+\n",
            "|Victoire_Black|         66|             3|\n",
            "|Victoire_Black|         64|             1|\n",
            "|Victoire_Black|         70|             2|\n",
            "|Victoire_Black|         86|             5|\n",
            "|Victoire_Black|         73|             5|\n",
            "+--------------+-----------+--------------+\n",
            "only showing top 5 rows\n",
            "\n"
          ]
        }
      ]
    },
    {
      "cell_type": "code",
      "source": [
        "tt3 = tt3.withColumnRenamed('White_mistakes','Mistakes_perdants')"
      ],
      "metadata": {
        "id": "UxyoYnGSpiBw"
      },
      "execution_count": null,
      "outputs": []
    },
    {
      "cell_type": "code",
      "source": [
        "tt3.show(5)"
      ],
      "metadata": {
        "colab": {
          "base_uri": "https://localhost:8080/"
        },
        "id": "G0-viExopwko",
        "outputId": "b1d19d20-e977-4c7b-8e4d-d94fe4f26304"
      },
      "execution_count": null,
      "outputs": [
        {
          "output_type": "stream",
          "name": "stdout",
          "text": [
            "+--------------+-----------+-----------------+\n",
            "|    Result_bis|Total_moves|Mistakes_perdants|\n",
            "+--------------+-----------+-----------------+\n",
            "|Victoire_Black|         66|                3|\n",
            "|Victoire_Black|         64|                1|\n",
            "|Victoire_Black|         70|                2|\n",
            "|Victoire_Black|         86|                5|\n",
            "|Victoire_Black|         73|                5|\n",
            "+--------------+-----------+-----------------+\n",
            "only showing top 5 rows\n",
            "\n"
          ]
        }
      ]
    },
    {
      "cell_type": "code",
      "source": [
        "tt3 = tt3.withColumn(\"Mistakes_perdants\", tt3[\"Mistakes_perdants\"].cast(IntegerType()))"
      ],
      "metadata": {
        "id": "g3Es3SFlqSlu"
      },
      "execution_count": null,
      "outputs": []
    },
    {
      "cell_type": "code",
      "source": [
        "tt3 = tt3.withColumn(\"Total_moves\", tt3[\"Total_moves\"].cast(IntegerType()))"
      ],
      "metadata": {
        "id": "79oHltBpqa7x"
      },
      "execution_count": null,
      "outputs": []
    },
    {
      "cell_type": "code",
      "source": [
        "tt3.show(5)"
      ],
      "metadata": {
        "colab": {
          "base_uri": "https://localhost:8080/"
        },
        "id": "QkJ1YxzYqXCD",
        "outputId": "3c7b0a5f-c307-4186-9ddb-3ca0bafe87b1"
      },
      "execution_count": null,
      "outputs": [
        {
          "output_type": "stream",
          "name": "stdout",
          "text": [
            "+--------------+-----------+-----------------+\n",
            "|    Result_bis|Total_moves|Mistakes_perdants|\n",
            "+--------------+-----------+-----------------+\n",
            "|Victoire_Black|         66|                3|\n",
            "|Victoire_Black|         64|                1|\n",
            "|Victoire_Black|         70|                2|\n",
            "|Victoire_Black|         86|                5|\n",
            "|Victoire_Black|         73|                5|\n",
            "+--------------+-----------+-----------------+\n",
            "only showing top 5 rows\n",
            "\n"
          ]
        }
      ]
    },
    {
      "cell_type": "code",
      "source": [
        "tt4_corr = tt3.groupBy().sum('Mistakes_perdants','Total_moves').collect()[0]"
      ],
      "metadata": {
        "id": "mV6_F1Nfpq5w"
      },
      "execution_count": null,
      "outputs": []
    },
    {
      "cell_type": "code",
      "source": [
        "print((tt4_corr[0]/tt4_corr[1] * 100))"
      ],
      "metadata": {
        "colab": {
          "base_uri": "https://localhost:8080/"
        },
        "id": "2hCoRdSKxPv5",
        "outputId": "13ff40f4-b401-43fb-aa02-cba8062f5582"
      },
      "execution_count": null,
      "outputs": [
        {
          "output_type": "stream",
          "name": "stdout",
          "text": [
            "5.343105014250368\n"
          ]
        }
      ]
    },
    {
      "cell_type": "markdown",
      "source": [
        "Le taux moyen d'erreurs chez une personne qui a perdu la partie est de 5% par coup joué dans la partie. En général, une personne qui perd la partie possède un taux d'erreur moyen plus élevé que la personne qui gagne la partie. Nous avons vu cela ci-dessus."
      ],
      "metadata": {
        "id": "jBIjwpesw89y"
      }
    },
    {
      "cell_type": "markdown",
      "metadata": {
        "id": "sV-hMo-T21bs"
      },
      "source": [
        "# Question 3a"
      ]
    },
    {
      "cell_type": "markdown",
      "metadata": {
        "id": "95dEzvjj25YT"
      },
      "source": [
        "Avec quelle ouverture les blancs ont ils le plus de chance de gagner, par catégorie de niveau (*) et par type de partie (Blitz, Rapide, Classique)."
      ]
    },
    {
      "cell_type": "markdown",
      "metadata": {
        "id": "-328_xIO2-Lu"
      },
      "source": [
        "Colonne Résultat -> Result\n",
        "\n",
        "Colonne Opening -> Opening \n",
        "\n",
        "Colonne Type de partie -> Game_type\n",
        "\n",
        "Colonne ECO -> ECO\n",
        "\n",
        "Colonne catégorie de niveau (ELO) -> (BlackElo + WhiteElo) / 2 "
      ]
    },
    {
      "cell_type": "markdown",
      "metadata": {
        "id": "i8pIBfPS3r1o"
      },
      "source": [
        "Dans un premier temps, nous allons uniquement garder les colonnes utiles"
      ]
    },
    {
      "cell_type": "code",
      "execution_count": null,
      "metadata": {
        "colab": {
          "base_uri": "https://localhost:8080/"
        },
        "id": "ALvj5rpT4C7v",
        "outputId": "dee616c6-1184-4386-83e0-645cf53da7c5"
      },
      "outputs": [
        {
          "output_type": "stream",
          "name": "stdout",
          "text": [
            "+--------+---------------+---+----------------+--------------------+------+------------+-----------+--------+---------------+------------------+------------------+-------------+---------+---------+-----------+--------------+--------------+--------------+--------------+------------------+------------------+--------------------+--------------------+--------------+--------------+-----------------+-----------------+-----------------+----------------+----------------+----------------+--------------------+--------------------+----------+-------------+\n",
            "|BlackElo|BlackRatingDiff|ECO|           Event|             Opening|Result| Termination|TimeControl|WhiteElo|WhiteRatingDiff|Black_elo_category|White_elo_category|starting_time|increment|Game_type|Total_moves|Black_blunders|White_blunders|Black_mistakes|White_mistakes|Black_inaccuracies|White_inaccuracies|Black_inferior_moves|White_inferior_moves|Black_ts_moves|White_ts_moves|Black_ts_blunders|White_ts_blunders|Black_ts_mistakes|White_ts_mistake|Black_long_moves|White_long_moves|Black_bad_long_moves|White_bad_long_moves|Game_flips|Game_flips_ts|\n",
            "+--------+---------------+---+----------------+--------------------+------+------------+-----------+--------+---------------+------------------+------------------+-------------+---------+---------+-----------+--------------+--------------+--------------+--------------+------------------+------------------+--------------------+--------------------+--------------+--------------+-----------------+-----------------+-----------------+----------------+----------------+----------------+--------------------+--------------------+----------+-------------+\n",
            "|    1143|              6|A02|Rated Blitz game|        Bird Opening|   0-1|Time forfeit|      300+0|    1180|             -7|        Low rating|        Low rating|          300|        0|    Blitz|         66|             4|             2|             0|             3|                 3|                 1|                   7|                   6|             8|             8|                0|                0|                0|               0|               2|               1|                   1|                   1|         8|            0|\n",
            "|    1504|           null|A04|Rated Blitz game|        Réti Opening|   0-1|      Normal|      300+0|    1381|           null|        Low rating|        Low rating|          300|        0|    Blitz|         64|             2|             1|             1|             1|                 7|                 5|                  10|                   7|             0|             0|                0|                0|                0|               0|               0|               1|                   0|                   0|         6|            0|\n",
            "|    1933|              1|C41|Rated Blitz game|    Philidor Defense|   0-1|Time forfeit|      300+2|    1485|             -1|       High rating|        Low rating|          300|        2|    Blitz|         70|             0|             1|             1|             2|                 8|                 8|                   9|                  11|             0|             2|                0|                0|                0|               0|               1|               1|                   1|                   0|         5|            0|\n",
            "|    1710|             10|B23|Rated Blitz game|Sicilian Defense:...|   0-1|      Normal|      180+2|    2040|            -11|        Low rating|       High rating|          180|        2|    Blitz|         86|             4|             2|             1|             5|                 3|                 4|                   8|                  11|            18|             0|                4|                0|                0|               0|               3|               1|                   1|                   0|         8|            1|\n",
            "|    1598|             -1|B03|Rated Rapid game|    Alekhine Defense|   1-0|      Normal|      600+0|    2163|              0|        Low rating|       High rating|          600|        0|    Rapid|         71|             1|             0|             1|             1|                 6|                 2|                   8|                   3|             0|             0|                0|                0|                0|               0|               0|               0|                   0|                   0|         2|            0|\n",
            "+--------+---------------+---+----------------+--------------------+------+------------+-----------+--------+---------------+------------------+------------------+-------------+---------+---------+-----------+--------------+--------------+--------------+--------------+------------------+------------------+--------------------+--------------------+--------------+--------------+-----------------+-----------------+-----------------+----------------+----------------+----------------+--------------------+--------------------+----------+-------------+\n",
            "only showing top 5 rows\n",
            "\n"
          ]
        }
      ],
      "source": [
        "df_spark_2.show(5)"
      ]
    },
    {
      "cell_type": "code",
      "execution_count": null,
      "metadata": {
        "id": "-bs80TN23xBT"
      },
      "outputs": [],
      "source": [
        "h0 = df_spark_2[['Game_type', 'ECO', 'Opening', 'BlackElo', 'WhiteElo', 'Result']]"
      ]
    },
    {
      "cell_type": "code",
      "execution_count": null,
      "metadata": {
        "colab": {
          "base_uri": "https://localhost:8080/"
        },
        "id": "JPtLoWH34UBN",
        "outputId": "d478c42c-9eff-4436-9598-0fdb36becf3e"
      },
      "outputs": [
        {
          "output_type": "stream",
          "name": "stdout",
          "text": [
            "+---------+---+--------------------+--------+--------+------+\n",
            "|Game_type|ECO|             Opening|BlackElo|WhiteElo|Result|\n",
            "+---------+---+--------------------+--------+--------+------+\n",
            "|    Blitz|A02|        Bird Opening|    1143|    1180|   0-1|\n",
            "|    Blitz|A04|        Réti Opening|    1504|    1381|   0-1|\n",
            "|    Blitz|C41|    Philidor Defense|    1933|    1485|   0-1|\n",
            "|    Blitz|B23|Sicilian Defense:...|    1710|    2040|   0-1|\n",
            "|    Rapid|B03|    Alekhine Defense|    1598|    2163|   1-0|\n",
            "+---------+---+--------------------+--------+--------+------+\n",
            "only showing top 5 rows\n",
            "\n"
          ]
        }
      ],
      "source": [
        "h0.show(5)"
      ]
    },
    {
      "cell_type": "markdown",
      "metadata": {
        "id": "_F6-ZfMQlJtM"
      },
      "source": [
        "On va juste filtrer les types de parties pour correspondre au mieux à la question posé pour le type de partie, c'est à dire :(Blitz, Rapide, Classique)"
      ]
    },
    {
      "cell_type": "code",
      "execution_count": null,
      "metadata": {
        "id": "3-ScTaOiil4Q"
      },
      "outputs": [],
      "source": [
        "h1 = h0.filter((h0['Game_type'] == 'Blitz') | (h0['Game_type'] == 'Rapid') | (h0['Game_type'] == 'Classical'))"
      ]
    },
    {
      "cell_type": "code",
      "execution_count": null,
      "metadata": {
        "colab": {
          "base_uri": "https://localhost:8080/"
        },
        "id": "vXGDFUyAj66I",
        "outputId": "96664ba2-a876-44ca-c8f7-05ae87ece454"
      },
      "outputs": [
        {
          "output_type": "stream",
          "name": "stdout",
          "text": [
            "+---------+---+--------------------+--------+--------+------+\n",
            "|Game_type|ECO|             Opening|BlackElo|WhiteElo|Result|\n",
            "+---------+---+--------------------+--------+--------+------+\n",
            "|    Blitz|A02|        Bird Opening|    1143|    1180|   0-1|\n",
            "|    Blitz|A04|        Réti Opening|    1504|    1381|   0-1|\n",
            "|    Blitz|C41|    Philidor Defense|    1933|    1485|   0-1|\n",
            "|    Blitz|B23|Sicilian Defense:...|    1710|    2040|   0-1|\n",
            "|    Rapid|B03|    Alekhine Defense|    1598|    2163|   1-0|\n",
            "+---------+---+--------------------+--------+--------+------+\n",
            "only showing top 5 rows\n",
            "\n"
          ]
        }
      ],
      "source": [
        "h1.show(5)"
      ]
    },
    {
      "cell_type": "markdown",
      "metadata": {
        "id": "uUNybfyx4tza"
      },
      "source": [
        "Comme on va s'intéresser uniquement aux victoires défaites des blancs, on va transformer la colonne résultat en victoire ou défaite."
      ]
    },
    {
      "cell_type": "code",
      "execution_count": null,
      "metadata": {
        "id": "C1EVnQB_4-S7"
      },
      "outputs": [],
      "source": [
        "h2 = h1.withColumn('Victoire/Défaite', result_white(h1['Result']))"
      ]
    },
    {
      "cell_type": "code",
      "execution_count": null,
      "metadata": {
        "colab": {
          "base_uri": "https://localhost:8080/"
        },
        "id": "IBXk39xP52To",
        "outputId": "f4ce35e9-270f-496a-8a36-9bd356e1a103"
      },
      "outputs": [
        {
          "output_type": "stream",
          "name": "stdout",
          "text": [
            "+---------+---+--------------------+--------+--------+------+----------------+\n",
            "|Game_type|ECO|             Opening|BlackElo|WhiteElo|Result|Victoire/Défaite|\n",
            "+---------+---+--------------------+--------+--------+------+----------------+\n",
            "|    Blitz|A02|        Bird Opening|    1143|    1180|   0-1|         Defaite|\n",
            "|    Blitz|A04|        Réti Opening|    1504|    1381|   0-1|         Defaite|\n",
            "|    Blitz|C41|    Philidor Defense|    1933|    1485|   0-1|         Defaite|\n",
            "|    Blitz|B23|Sicilian Defense:...|    1710|    2040|   0-1|         Defaite|\n",
            "|    Rapid|B03|    Alekhine Defense|    1598|    2163|   1-0|        Victoire|\n",
            "+---------+---+--------------------+--------+--------+------+----------------+\n",
            "only showing top 5 rows\n",
            "\n"
          ]
        }
      ],
      "source": [
        "h2.show(5)"
      ]
    },
    {
      "cell_type": "code",
      "execution_count": null,
      "metadata": {
        "id": "g686vRkF5_O1"
      },
      "outputs": [],
      "source": [
        "h3 = h2.drop('Result')"
      ]
    },
    {
      "cell_type": "code",
      "execution_count": null,
      "metadata": {
        "colab": {
          "base_uri": "https://localhost:8080/"
        },
        "id": "nYYtjSAo6Dec",
        "outputId": "49bc0160-eb71-4a03-acab-f1d98f874f7a"
      },
      "outputs": [
        {
          "output_type": "stream",
          "name": "stdout",
          "text": [
            "+---------+---+--------------------+--------+--------+----------------+\n",
            "|Game_type|ECO|             Opening|BlackElo|WhiteElo|Victoire/Défaite|\n",
            "+---------+---+--------------------+--------+--------+----------------+\n",
            "|    Blitz|A02|        Bird Opening|    1143|    1180|         Defaite|\n",
            "|    Blitz|A04|        Réti Opening|    1504|    1381|         Defaite|\n",
            "|    Blitz|C41|    Philidor Defense|    1933|    1485|         Defaite|\n",
            "|    Blitz|B23|Sicilian Defense:...|    1710|    2040|         Defaite|\n",
            "|    Rapid|B03|    Alekhine Defense|    1598|    2163|        Victoire|\n",
            "+---------+---+--------------------+--------+--------+----------------+\n",
            "only showing top 5 rows\n",
            "\n"
          ]
        }
      ],
      "source": [
        "h3.show(5)"
      ]
    },
    {
      "cell_type": "code",
      "execution_count": null,
      "metadata": {
        "id": "N7nrysn-6uJv"
      },
      "outputs": [],
      "source": [
        "h4 = h3.withColumn('Elo_moyen', (h3['WhiteElo'] + h3['BlackElo']) / 2)"
      ]
    },
    {
      "cell_type": "code",
      "execution_count": null,
      "metadata": {
        "colab": {
          "base_uri": "https://localhost:8080/"
        },
        "id": "aj1cXyOx63_F",
        "outputId": "1b47b614-bee5-4a4e-c5fc-8cd773a4d2cb"
      },
      "outputs": [
        {
          "output_type": "stream",
          "name": "stdout",
          "text": [
            "+---------+---+--------------------+--------+--------+----------------+---------+\n",
            "|Game_type|ECO|             Opening|BlackElo|WhiteElo|Victoire/Défaite|Elo_moyen|\n",
            "+---------+---+--------------------+--------+--------+----------------+---------+\n",
            "|    Blitz|A02|        Bird Opening|    1143|    1180|         Defaite|   1161.5|\n",
            "|    Blitz|A04|        Réti Opening|    1504|    1381|         Defaite|   1442.5|\n",
            "|    Blitz|C41|    Philidor Defense|    1933|    1485|         Defaite|   1709.0|\n",
            "|    Blitz|B23|Sicilian Defense:...|    1710|    2040|         Defaite|   1875.0|\n",
            "|    Rapid|B03|    Alekhine Defense|    1598|    2163|        Victoire|   1880.5|\n",
            "+---------+---+--------------------+--------+--------+----------------+---------+\n",
            "only showing top 5 rows\n",
            "\n"
          ]
        }
      ],
      "source": [
        "h4.show(5)"
      ]
    },
    {
      "cell_type": "code",
      "execution_count": null,
      "metadata": {
        "id": "p-A0Jra666ys"
      },
      "outputs": [],
      "source": [
        "h5 = h4.withColumn('Categorie_niveau', categorie_niveau_echec(h4['Elo_moyen']))"
      ]
    },
    {
      "cell_type": "code",
      "execution_count": null,
      "metadata": {
        "colab": {
          "base_uri": "https://localhost:8080/"
        },
        "id": "V-aDeU5Z7EOM",
        "outputId": "0fc147c1-4982-4115-a1bd-12ef03b1181b"
      },
      "outputs": [
        {
          "output_type": "stream",
          "name": "stdout",
          "text": [
            "+---------+---+--------------------+--------+--------+----------------+---------+--------------------+\n",
            "|Game_type|ECO|             Opening|BlackElo|WhiteElo|Victoire/Défaite|Elo_moyen|    Categorie_niveau|\n",
            "+---------+---+--------------------+--------+--------+----------------+---------+--------------------+\n",
            "|    Blitz|A02|        Bird Opening|    1143|    1180|         Defaite|   1161.5|   joueur bas niveau|\n",
            "|    Blitz|A04|        Réti Opening|    1504|    1381|         Defaite|   1442.5|  joueur occasionnel|\n",
            "|    Blitz|C41|    Philidor Defense|    1933|    1485|         Defaite|   1709.0|  bon joueur de club|\n",
            "|    Blitz|B23|Sicilian Defense:...|    1710|    2040|         Defaite|   1875.0|tres bon joueur d...|\n",
            "|    Rapid|B03|    Alekhine Defense|    1598|    2163|        Victoire|   1880.5|tres bon joueur d...|\n",
            "+---------+---+--------------------+--------+--------+----------------+---------+--------------------+\n",
            "only showing top 5 rows\n",
            "\n"
          ]
        }
      ],
      "source": [
        "h5.show(5)"
      ]
    },
    {
      "cell_type": "code",
      "execution_count": null,
      "metadata": {
        "id": "XG-Bfjvw7Juu"
      },
      "outputs": [],
      "source": [
        "h6 = h5.drop('Elo_moyen', 'BlackElo', 'WhiteElo')"
      ]
    },
    {
      "cell_type": "code",
      "execution_count": null,
      "metadata": {
        "colab": {
          "base_uri": "https://localhost:8080/"
        },
        "id": "5x3kGfg07Wkc",
        "outputId": "3c897ef3-82ee-4261-a8fe-479249d3003b"
      },
      "outputs": [
        {
          "output_type": "stream",
          "name": "stdout",
          "text": [
            "+---------+---+--------------------+----------------+--------------------+\n",
            "|Game_type|ECO|             Opening|Victoire/Défaite|    Categorie_niveau|\n",
            "+---------+---+--------------------+----------------+--------------------+\n",
            "|    Blitz|A02|        Bird Opening|         Defaite|   joueur bas niveau|\n",
            "|    Blitz|A04|        Réti Opening|         Defaite|  joueur occasionnel|\n",
            "|    Blitz|C41|    Philidor Defense|         Defaite|  bon joueur de club|\n",
            "|    Blitz|B23|Sicilian Defense:...|         Defaite|tres bon joueur d...|\n",
            "|    Rapid|B03|    Alekhine Defense|        Victoire|tres bon joueur d...|\n",
            "+---------+---+--------------------+----------------+--------------------+\n",
            "only showing top 5 rows\n",
            "\n"
          ]
        }
      ],
      "source": [
        "h6.show(5)"
      ]
    },
    {
      "cell_type": "markdown",
      "metadata": {
        "id": "-CdFjjke9-v_"
      },
      "source": [
        "On va répondre à la première partie de la question qui est : Avec quelle ouverture les blancs ont ils le plus de chance de gagner ?\n",
        "\n",
        "Je vais créer une fonction afin de pouvoir séparer la colonne victoire et défaite en deux colonnes distinctes."
      ]
    },
    {
      "cell_type": "code",
      "execution_count": null,
      "metadata": {
        "id": "O32TV4EL93kM"
      },
      "outputs": [],
      "source": [
        "h7 = h6[['Opening', 'Victoire/Défaite']]"
      ]
    },
    {
      "cell_type": "code",
      "execution_count": null,
      "metadata": {
        "colab": {
          "base_uri": "https://localhost:8080/"
        },
        "id": "3B5EmGZe-W_6",
        "outputId": "5a8c5c2b-15a5-46ff-a7e0-dc32678eae28"
      },
      "outputs": [
        {
          "output_type": "stream",
          "name": "stdout",
          "text": [
            "+--------------------+----------------+\n",
            "|             Opening|Victoire/Défaite|\n",
            "+--------------------+----------------+\n",
            "|        Bird Opening|         Defaite|\n",
            "|        Réti Opening|         Defaite|\n",
            "|    Philidor Defense|         Defaite|\n",
            "|Sicilian Defense:...|         Defaite|\n",
            "|    Alekhine Defense|        Victoire|\n",
            "+--------------------+----------------+\n",
            "only showing top 5 rows\n",
            "\n"
          ]
        }
      ],
      "source": [
        "h7.show(5)"
      ]
    },
    {
      "cell_type": "code",
      "execution_count": null,
      "metadata": {
        "id": "VLuvXxCG_iAM"
      },
      "outputs": [],
      "source": [
        "h8 = h7.withColumn('Victoire', victoire_white(h7['Victoire/Défaite']))"
      ]
    },
    {
      "cell_type": "code",
      "execution_count": null,
      "metadata": {
        "colab": {
          "base_uri": "https://localhost:8080/"
        },
        "id": "4cneCupL_1RK",
        "outputId": "df1097d8-9614-4267-ca88-dfdd1a243a87"
      },
      "outputs": [
        {
          "output_type": "stream",
          "name": "stdout",
          "text": [
            "+--------------------+----------------+--------+\n",
            "|             Opening|Victoire/Défaite|Victoire|\n",
            "+--------------------+----------------+--------+\n",
            "|        Bird Opening|         Defaite|       0|\n",
            "|        Réti Opening|         Defaite|       0|\n",
            "|    Philidor Defense|         Defaite|       0|\n",
            "|Sicilian Defense:...|         Defaite|       0|\n",
            "|    Alekhine Defense|        Victoire|       1|\n",
            "+--------------------+----------------+--------+\n",
            "only showing top 5 rows\n",
            "\n"
          ]
        }
      ],
      "source": [
        "h8.show(5)"
      ]
    },
    {
      "cell_type": "code",
      "execution_count": null,
      "metadata": {
        "id": "AuX_Vz6w__By"
      },
      "outputs": [],
      "source": [
        "h9 = h8.withColumn('Defaite', defaite_white(h8['Victoire/Défaite']))"
      ]
    },
    {
      "cell_type": "code",
      "execution_count": null,
      "metadata": {
        "colab": {
          "base_uri": "https://localhost:8080/"
        },
        "id": "OWxr4jU7AF_v",
        "outputId": "d1463dd9-3690-4849-91a9-64c54a195a3d"
      },
      "outputs": [
        {
          "output_type": "stream",
          "name": "stdout",
          "text": [
            "+--------------------+----------------+--------+-------+\n",
            "|             Opening|Victoire/Défaite|Victoire|Defaite|\n",
            "+--------------------+----------------+--------+-------+\n",
            "|        Bird Opening|         Defaite|       0|      1|\n",
            "|        Réti Opening|         Defaite|       0|      1|\n",
            "|    Philidor Defense|         Defaite|       0|      1|\n",
            "|Sicilian Defense:...|         Defaite|       0|      1|\n",
            "|    Alekhine Defense|        Victoire|       1|      0|\n",
            "+--------------------+----------------+--------+-------+\n",
            "only showing top 5 rows\n",
            "\n"
          ]
        }
      ],
      "source": [
        "h9.show(5)"
      ]
    },
    {
      "cell_type": "code",
      "execution_count": null,
      "metadata": {
        "id": "ZDH_X0XxAIIq"
      },
      "outputs": [],
      "source": [
        "h10 = h9.drop('Victoire/Défaite')"
      ]
    },
    {
      "cell_type": "code",
      "execution_count": null,
      "metadata": {
        "colab": {
          "base_uri": "https://localhost:8080/"
        },
        "id": "jIe2E37_APLj",
        "outputId": "ae34945c-6957-4832-bd21-778ea9c8fdb6"
      },
      "outputs": [
        {
          "output_type": "stream",
          "name": "stdout",
          "text": [
            "+--------------------+--------+-------+\n",
            "|             Opening|Victoire|Defaite|\n",
            "+--------------------+--------+-------+\n",
            "|        Bird Opening|       0|      1|\n",
            "|        Réti Opening|       0|      1|\n",
            "|    Philidor Defense|       0|      1|\n",
            "|Sicilian Defense:...|       0|      1|\n",
            "|    Alekhine Defense|       1|      0|\n",
            "+--------------------+--------+-------+\n",
            "only showing top 5 rows\n",
            "\n"
          ]
        }
      ],
      "source": [
        "h10.show(5)"
      ]
    },
    {
      "cell_type": "code",
      "execution_count": null,
      "metadata": {
        "id": "Hz2kkfn_AR84"
      },
      "outputs": [],
      "source": [
        "h11 = h10.groupBy('Opening').agg(sum(\"Victoire\").alias('Somme_victoire'), sum(\"Defaite\").alias('Somme_defaite')).sort(\"Somme_victoire\", ascending = False)"
      ]
    },
    {
      "cell_type": "code",
      "execution_count": null,
      "metadata": {
        "colab": {
          "base_uri": "https://localhost:8080/"
        },
        "id": "EvqDUkzBAo5h",
        "outputId": "e4ceaa93-3571-4b08-847a-dcd77f75a6d7"
      },
      "outputs": [
        {
          "output_type": "stream",
          "name": "stdout",
          "text": [
            "+--------------------+--------------+-------------+\n",
            "|             Opening|Somme_victoire|Somme_defaite|\n",
            "+--------------------+--------------+-------------+\n",
            "|Queen's Pawn Game...|           652|          502|\n",
            "|    Philidor Defense|           621|          346|\n",
            "|Scandinavian Defe...|           400|          297|\n",
            "|    Sicilian Defense|           375|          461|\n",
            "|         Scotch Game|           358|          250|\n",
            "+--------------------+--------------+-------------+\n",
            "only showing top 5 rows\n",
            "\n"
          ]
        }
      ],
      "source": [
        "h11.show(5)"
      ]
    },
    {
      "cell_type": "code",
      "execution_count": null,
      "metadata": {
        "id": "uWrqkFQkB9pb"
      },
      "outputs": [],
      "source": [
        "h12 = h11.withColumn('Taux_victoire', h11['Somme_victoire'] / ( h11['Somme_victoire'] + h11['Somme_defaite'] ) * 100 )"
      ]
    },
    {
      "cell_type": "code",
      "execution_count": null,
      "metadata": {
        "colab": {
          "base_uri": "https://localhost:8080/"
        },
        "id": "HzR83qRCCbBT",
        "outputId": "4c2001ab-e4f3-4b15-9d1a-7cb58237b459"
      },
      "outputs": [
        {
          "output_type": "stream",
          "name": "stdout",
          "text": [
            "+--------------------+--------------+-------------+-------------+\n",
            "|             Opening|Somme_victoire|Somme_defaite|Taux_victoire|\n",
            "+--------------------+--------------+-------------+-------------+\n",
            "|Sicilian Defense:...|             1|            0|        100.0|\n",
            "|Sicilian Defense:...|             2|            0|        100.0|\n",
            "|Ruy Lopez: Morphy...|             1|            0|        100.0|\n",
            "|Slav Defense: Exc...|             2|            0|        100.0|\n",
            "|Van Geet Opening:...|             1|            0|        100.0|\n",
            "+--------------------+--------------+-------------+-------------+\n",
            "only showing top 5 rows\n",
            "\n"
          ]
        }
      ],
      "source": [
        "h12.sort(\"Taux_victoire\", ascending = False).show(5)"
      ]
    },
    {
      "cell_type": "code",
      "execution_count": null,
      "metadata": {
        "colab": {
          "base_uri": "https://localhost:8080/"
        },
        "id": "oAbT50ECYfYr",
        "outputId": "7bddef12-eac0-4b91-bd52-8f5e710a8376"
      },
      "outputs": [
        {
          "output_type": "stream",
          "name": "stdout",
          "text": [
            "+--------------------+--------------+-------------+-------------+\n",
            "|             Opening|Somme_victoire|Somme_defaite|Taux_victoire|\n",
            "+--------------------+--------------+-------------+-------------+\n",
            "|Alekhine Defense:...|             0|            0|         null|\n",
            "|Ruy Lopez: Classi...|             0|            0|         null|\n",
            "|Ruy Lopez: Exchan...|             0|            0|         null|\n",
            "|Vienna Game: Stan...|             0|            0|         null|\n",
            "|Ruy Lopez: Steini...|             0|            0|         null|\n",
            "+--------------------+--------------+-------------+-------------+\n",
            "only showing top 5 rows\n",
            "\n"
          ]
        }
      ],
      "source": [
        "h12.sort(\"Taux_victoire\", ascending = True).show(5)"
      ]
    },
    {
      "cell_type": "code",
      "execution_count": null,
      "metadata": {
        "colab": {
          "base_uri": "https://localhost:8080/"
        },
        "id": "5Nmj_5isDBUn",
        "outputId": "9b5ae383-5d18-4618-e511-d53fd1e3dc08"
      },
      "outputs": [
        {
          "output_type": "stream",
          "name": "stdout",
          "text": [
            "+--------------------+--------------+-------------+------------------+\n",
            "|             Opening|Somme_victoire|Somme_defaite|     Taux_victoire|\n",
            "+--------------------+--------------+-------------+------------------+\n",
            "|Queen's Pawn Game...|           652|          502|56.499133448873486|\n",
            "|    Philidor Defense|           621|          346| 64.21923474663909|\n",
            "|Scandinavian Defe...|           400|          297|57.388809182209464|\n",
            "|    Sicilian Defense|           375|          461| 44.85645933014354|\n",
            "|         Scotch Game|           358|          250| 58.88157894736842|\n",
            "+--------------------+--------------+-------------+------------------+\n",
            "only showing top 5 rows\n",
            "\n"
          ]
        }
      ],
      "source": [
        "h12.show(5)"
      ]
    },
    {
      "cell_type": "code",
      "execution_count": null,
      "metadata": {
        "id": "0CaDRyYNCgNK"
      },
      "outputs": [],
      "source": [
        "h13 = h12.drop('Somme_victoire', 'Somme_defaite')"
      ]
    },
    {
      "cell_type": "code",
      "execution_count": null,
      "metadata": {
        "colab": {
          "base_uri": "https://localhost:8080/"
        },
        "id": "LNLY-6KHCoMi",
        "outputId": "48375973-3dbb-4467-db4f-391995f351b1"
      },
      "outputs": [
        {
          "output_type": "stream",
          "name": "stdout",
          "text": [
            "+--------------------+------------------+\n",
            "|             Opening|     Taux_victoire|\n",
            "+--------------------+------------------+\n",
            "|Queen's Pawn Game...|56.499133448873486|\n",
            "|    Philidor Defense| 64.21923474663909|\n",
            "|Scandinavian Defe...|57.388809182209464|\n",
            "|    Sicilian Defense| 44.85645933014354|\n",
            "|         Scotch Game| 58.88157894736842|\n",
            "+--------------------+------------------+\n",
            "only showing top 5 rows\n",
            "\n"
          ]
        }
      ],
      "source": [
        "h13.show(5)"
      ]
    },
    {
      "cell_type": "markdown",
      "metadata": {
        "id": "TuhprkNeDFbi"
      },
      "source": [
        "Maintenant, on va répondre à la deuxième partie de la question : Avec quelle ouverture les blancs ont ils le plus de chance de gagner, par catégorie de niveau ?"
      ]
    },
    {
      "cell_type": "code",
      "execution_count": null,
      "metadata": {
        "id": "ny7i1xGXDZEB"
      },
      "outputs": [],
      "source": [
        "h14 = h5.drop('Elo_moyen', 'BlackElo', 'WhiteElo', 'ECO', 'Game_type')"
      ]
    },
    {
      "cell_type": "code",
      "execution_count": null,
      "metadata": {
        "colab": {
          "base_uri": "https://localhost:8080/"
        },
        "id": "cyFnFWOHSkU3",
        "outputId": "263b3269-63c2-47d0-8dfa-8a3a922bc627"
      },
      "outputs": [
        {
          "output_type": "stream",
          "name": "stdout",
          "text": [
            "+--------------------+----------------+--------------------+\n",
            "|             Opening|Victoire/Défaite|    Categorie_niveau|\n",
            "+--------------------+----------------+--------------------+\n",
            "|        Bird Opening|         Defaite|   joueur bas niveau|\n",
            "|        Réti Opening|         Defaite|  joueur occasionnel|\n",
            "|    Philidor Defense|         Defaite|  bon joueur de club|\n",
            "|Sicilian Defense:...|         Defaite|tres bon joueur d...|\n",
            "|    Alekhine Defense|        Victoire|tres bon joueur d...|\n",
            "+--------------------+----------------+--------------------+\n",
            "only showing top 5 rows\n",
            "\n"
          ]
        }
      ],
      "source": [
        "h14.show(5)"
      ]
    },
    {
      "cell_type": "code",
      "execution_count": null,
      "metadata": {
        "id": "yrECiHBpSybG"
      },
      "outputs": [],
      "source": [
        "h15 = h14.withColumn('Victoire', victoire_white(h14['Victoire/Défaite']))"
      ]
    },
    {
      "cell_type": "code",
      "execution_count": null,
      "metadata": {
        "id": "E9xwZXNjS4EJ"
      },
      "outputs": [],
      "source": [
        "h16 = h15.withColumn('Defaite', defaite_white(h15['Victoire/Défaite']))"
      ]
    },
    {
      "cell_type": "code",
      "execution_count": null,
      "metadata": {
        "id": "NFpUZvdoTEiT"
      },
      "outputs": [],
      "source": [
        "h17 = h16.drop('Victoire/Défaite')"
      ]
    },
    {
      "cell_type": "code",
      "execution_count": null,
      "metadata": {
        "colab": {
          "base_uri": "https://localhost:8080/"
        },
        "id": "uQ6Ny1kwTIMX",
        "outputId": "9caf5d16-b81a-45ac-b10a-e3a5fd21db62"
      },
      "outputs": [
        {
          "output_type": "stream",
          "name": "stdout",
          "text": [
            "+--------------------+--------------------+--------+-------+\n",
            "|             Opening|    Categorie_niveau|Victoire|Defaite|\n",
            "+--------------------+--------------------+--------+-------+\n",
            "|        Bird Opening|   joueur bas niveau|       0|      1|\n",
            "|        Réti Opening|  joueur occasionnel|       0|      1|\n",
            "|    Philidor Defense|  bon joueur de club|       0|      1|\n",
            "|Sicilian Defense:...|tres bon joueur d...|       0|      1|\n",
            "|    Alekhine Defense|tres bon joueur d...|       1|      0|\n",
            "+--------------------+--------------------+--------+-------+\n",
            "only showing top 5 rows\n",
            "\n"
          ]
        }
      ],
      "source": [
        "h17.show(5)"
      ]
    },
    {
      "cell_type": "code",
      "execution_count": null,
      "metadata": {
        "id": "AJTl7o-aXDAz"
      },
      "outputs": [],
      "source": [
        "h18 = h17.groupBy('Opening', 'Categorie_niveau').agg(sum(\"Victoire\").alias('Somme_victoire'), sum(\"Defaite\").alias('Somme_defaite')).sort(\"Somme_victoire\", ascending = False)"
      ]
    },
    {
      "cell_type": "code",
      "execution_count": null,
      "metadata": {
        "colab": {
          "base_uri": "https://localhost:8080/"
        },
        "id": "NCJat0Y8XSF6",
        "outputId": "2fe72028-7a2c-4677-e6b9-bb06982f662d"
      },
      "outputs": [
        {
          "output_type": "stream",
          "name": "stdout",
          "text": [
            "+--------------------+------------------+--------------+-------------+\n",
            "|             Opening|  Categorie_niveau|Somme_victoire|Somme_defaite|\n",
            "+--------------------+------------------+--------------+-------------+\n",
            "|    Philidor Defense|joueur occasionnel|           231|          108|\n",
            "|    Philidor Defense|bon joueur de club|           230|          137|\n",
            "|Queen's Pawn Game...|joueur occasionnel|           226|          154|\n",
            "|Queen's Pawn Game...|bon joueur de club|           221|          166|\n",
            "|   Caro-Kann Defense|bon joueur de club|           141|          154|\n",
            "+--------------------+------------------+--------------+-------------+\n",
            "only showing top 5 rows\n",
            "\n"
          ]
        }
      ],
      "source": [
        "h18.show(5)"
      ]
    },
    {
      "cell_type": "code",
      "execution_count": null,
      "metadata": {
        "id": "U4vb_HjkX3c8"
      },
      "outputs": [],
      "source": [
        "h19 = h18.withColumn('Taux_victoire', h18['Somme_victoire'] / ( h18['Somme_victoire'] + h18['Somme_defaite'] ) * 100 )"
      ]
    },
    {
      "cell_type": "code",
      "execution_count": null,
      "metadata": {
        "id": "OHfiT69AX-bU"
      },
      "outputs": [],
      "source": [
        "h20 = h19.drop('Somme_victoire', 'Somme_defaite')"
      ]
    },
    {
      "cell_type": "markdown",
      "metadata": {
        "id": "HDaGhcjOYrJh"
      },
      "source": [
        "Lorsque le taux de victoire est à null, c'est que aucun joueur n'a effectué cette stratégie d'ouverture."
      ]
    },
    {
      "cell_type": "code",
      "execution_count": null,
      "metadata": {
        "colab": {
          "base_uri": "https://localhost:8080/"
        },
        "id": "HjqJIS__YGfJ",
        "outputId": "6e4f648e-3699-496d-f102-3fcef9a25b82"
      },
      "outputs": [
        {
          "output_type": "stream",
          "name": "stdout",
          "text": [
            "+--------------------+--------------------+-------------+\n",
            "|             Opening|    Categorie_niveau|Taux_victoire|\n",
            "+--------------------+--------------------+-------------+\n",
            "|Ruy Lopez: Closed...|GMI, Champions du...|         null|\n",
            "|Queen's Gambit De...|GMI, Champions du...|         null|\n",
            "|Dutch Defense: Bl...|  bon joueur de club|         null|\n",
            "|King's Indian Att...|GMI, Champions du...|         null|\n",
            "|Ruy Lopez: Classi...|niveau national e...|         null|\n",
            "+--------------------+--------------------+-------------+\n",
            "only showing top 5 rows\n",
            "\n"
          ]
        }
      ],
      "source": [
        "h20.sort(\"Taux_victoire\", ascending = True).show(5)"
      ]
    },
    {
      "cell_type": "code",
      "execution_count": null,
      "metadata": {
        "colab": {
          "base_uri": "https://localhost:8080/"
        },
        "id": "dYZNblR0YjiT",
        "outputId": "a8fad49a-6647-41fc-d835-a615b5d713cf"
      },
      "outputs": [
        {
          "output_type": "stream",
          "name": "stdout",
          "text": [
            "+--------------------+--------------------+-------------+\n",
            "|             Opening|    Categorie_niveau|Taux_victoire|\n",
            "+--------------------+--------------------+-------------+\n",
            "|King's Gambit, Fa...|  bon joueur de club|        100.0|\n",
            "|Semi-Slav Defense...|  joueur occasionnel|        100.0|\n",
            "|Zukertort Opening...|tres bon joueur d...|        100.0|\n",
            "|Scotch Game: Scot...|  bon joueur de club|        100.0|\n",
            "|Ruy Lopez: Berlin...|niveau national e...|        100.0|\n",
            "+--------------------+--------------------+-------------+\n",
            "only showing top 5 rows\n",
            "\n"
          ]
        }
      ],
      "source": [
        "h20.sort(\"Taux_victoire\", ascending = False).show(5)"
      ]
    },
    {
      "cell_type": "markdown",
      "metadata": {
        "id": "pvkpS7y1Y5Ho"
      },
      "source": [
        "Dans un troisième temps maintenant, nous allons effectué la requête dans son entièreté : Avec quelle ouverture les blancs ont ils le plus de chance de gagner, par catégorie de niveau (*) et par type de partie (Blitz, Rapide, Classique)."
      ]
    },
    {
      "cell_type": "code",
      "execution_count": null,
      "metadata": {
        "id": "CPHF_0AzZGRu"
      },
      "outputs": [],
      "source": [
        "h21 = h6.drop('ECO')"
      ]
    },
    {
      "cell_type": "code",
      "execution_count": null,
      "metadata": {
        "colab": {
          "base_uri": "https://localhost:8080/"
        },
        "id": "rcrpZUT4ZQM9",
        "outputId": "4c91a72d-8bd0-46f8-8038-dcd9d076b8c6"
      },
      "outputs": [
        {
          "output_type": "stream",
          "name": "stdout",
          "text": [
            "+---------+--------------------+----------------+--------------------+\n",
            "|Game_type|             Opening|Victoire/Défaite|    Categorie_niveau|\n",
            "+---------+--------------------+----------------+--------------------+\n",
            "|    Blitz|        Bird Opening|         Defaite|   joueur bas niveau|\n",
            "|    Blitz|        Réti Opening|         Defaite|  joueur occasionnel|\n",
            "|    Blitz|    Philidor Defense|         Defaite|  bon joueur de club|\n",
            "|    Blitz|Sicilian Defense:...|         Defaite|tres bon joueur d...|\n",
            "|    Rapid|    Alekhine Defense|        Victoire|tres bon joueur d...|\n",
            "|    Rapid|Nimzo-Indian Defe...|         Defaite|niveau national e...|\n",
            "|    Blitz|Four Knights Game...|        Victoire|   joueur bas niveau|\n",
            "|    Rapid|King's Indian Def...|         Defaite|  bon joueur de club|\n",
            "|    Blitz|French Defense: K...|         Defaite|  bon joueur de club|\n",
            "|    Blitz|Four Knights Game...|        Victoire|  joueur occasionnel|\n",
            "|    Rapid|   Queen's Pawn Game|        Victoire|niveau national e...|\n",
            "|    Rapid|Nimzowitsch Defen...|         Defaite|niveau national e...|\n",
            "|    Rapid|        Pirc Defense|        Victoire|tres bon joueur d...|\n",
            "|    Rapid|Sicilian Defense:...|        Victoire|  joueur occasionnel|\n",
            "|    Blitz|   Four Knights Game|        Victoire|tres bon joueur d...|\n",
            "|    Blitz|Sicilian Defense:...|         Defaite|  joueur occasionnel|\n",
            "|    Blitz|Indian Game: Pawn...|        Victoire|   joueur bas niveau|\n",
            "|Classical|Ponziani Opening:...|        Victoire|tres bon joueur d...|\n",
            "|    Blitz|Queen's Pawn Game...|        Victoire|  bon joueur de club|\n",
            "|    Blitz|   Saragossa Opening|         Defaite|   joueur bas niveau|\n",
            "+---------+--------------------+----------------+--------------------+\n",
            "only showing top 20 rows\n",
            "\n"
          ]
        }
      ],
      "source": [
        "h21.show()"
      ]
    },
    {
      "cell_type": "code",
      "execution_count": null,
      "metadata": {
        "id": "3Y0ieaqtZUNY"
      },
      "outputs": [],
      "source": [
        "h22 = h21.withColumn('Victoire', victoire_white(h21['Victoire/Défaite']))"
      ]
    },
    {
      "cell_type": "code",
      "execution_count": null,
      "metadata": {
        "id": "DxG2VLBTZZyJ"
      },
      "outputs": [],
      "source": [
        "h23 = h22.withColumn('Defaite', defaite_white(h22['Victoire/Défaite']))"
      ]
    },
    {
      "cell_type": "code",
      "execution_count": null,
      "metadata": {
        "id": "swvXFBXIZerN"
      },
      "outputs": [],
      "source": [
        "h24 = h23.drop('Victoire/Défaite')"
      ]
    },
    {
      "cell_type": "code",
      "execution_count": null,
      "metadata": {
        "colab": {
          "base_uri": "https://localhost:8080/"
        },
        "id": "kTrHeSv3ZkeM",
        "outputId": "2385b8f5-8a72-437c-c88b-cea25b10b543"
      },
      "outputs": [
        {
          "output_type": "stream",
          "name": "stdout",
          "text": [
            "+---------+--------------------+--------------------+--------+-------+\n",
            "|Game_type|             Opening|    Categorie_niveau|Victoire|Defaite|\n",
            "+---------+--------------------+--------------------+--------+-------+\n",
            "|    Blitz|        Bird Opening|   joueur bas niveau|       0|      1|\n",
            "|    Blitz|        Réti Opening|  joueur occasionnel|       0|      1|\n",
            "|    Blitz|    Philidor Defense|  bon joueur de club|       0|      1|\n",
            "|    Blitz|Sicilian Defense:...|tres bon joueur d...|       0|      1|\n",
            "|    Rapid|    Alekhine Defense|tres bon joueur d...|       1|      0|\n",
            "+---------+--------------------+--------------------+--------+-------+\n",
            "only showing top 5 rows\n",
            "\n"
          ]
        }
      ],
      "source": [
        "h24.show(5)"
      ]
    },
    {
      "cell_type": "code",
      "execution_count": null,
      "metadata": {
        "id": "1Rx2H-FXZrOh"
      },
      "outputs": [],
      "source": [
        "h25 = h24[['Opening', 'Categorie_niveau', 'Game_type', 'Victoire', 'Defaite']]"
      ]
    },
    {
      "cell_type": "code",
      "execution_count": null,
      "metadata": {
        "colab": {
          "base_uri": "https://localhost:8080/"
        },
        "id": "n7xaleijZ1n6",
        "outputId": "d38ec81f-c463-454b-a629-ba13ad61e426"
      },
      "outputs": [
        {
          "output_type": "stream",
          "name": "stdout",
          "text": [
            "+--------------------+--------------------+---------+--------+-------+\n",
            "|             Opening|    Categorie_niveau|Game_type|Victoire|Defaite|\n",
            "+--------------------+--------------------+---------+--------+-------+\n",
            "|        Bird Opening|   joueur bas niveau|    Blitz|       0|      1|\n",
            "|        Réti Opening|  joueur occasionnel|    Blitz|       0|      1|\n",
            "|    Philidor Defense|  bon joueur de club|    Blitz|       0|      1|\n",
            "|Sicilian Defense:...|tres bon joueur d...|    Blitz|       0|      1|\n",
            "|    Alekhine Defense|tres bon joueur d...|    Rapid|       1|      0|\n",
            "+--------------------+--------------------+---------+--------+-------+\n",
            "only showing top 5 rows\n",
            "\n"
          ]
        }
      ],
      "source": [
        "h25.show(5)"
      ]
    },
    {
      "cell_type": "code",
      "execution_count": null,
      "metadata": {
        "id": "j4QaOmXQc-jd"
      },
      "outputs": [],
      "source": [
        "h26 = h25.groupBy('Opening', 'Categorie_niveau', 'Game_type').agg(sum(\"Victoire\").alias('Somme_victoire'), sum(\"Defaite\").alias('Somme_defaite')).sort(\"Somme_victoire\", ascending = False)"
      ]
    },
    {
      "cell_type": "code",
      "execution_count": null,
      "metadata": {
        "colab": {
          "base_uri": "https://localhost:8080/"
        },
        "id": "7p-iKg_UdFFH",
        "outputId": "41119874-b436-44cf-9ef9-bca61f768086"
      },
      "outputs": [
        {
          "output_type": "stream",
          "name": "stdout",
          "text": [
            "+--------------------+------------------+---------+--------------+-------------+\n",
            "|             Opening|  Categorie_niveau|Game_type|Somme_victoire|Somme_defaite|\n",
            "+--------------------+------------------+---------+--------------+-------------+\n",
            "|    Philidor Defense|joueur occasionnel|    Blitz|           126|           69|\n",
            "|Queen's Pawn Game...|joueur occasionnel|    Blitz|           123|           73|\n",
            "|    Philidor Defense|bon joueur de club|    Blitz|           115|           76|\n",
            "|Queen's Pawn Game...|bon joueur de club|    Rapid|           106|           62|\n",
            "|Queen's Pawn Game...|bon joueur de club|    Blitz|           105|           96|\n",
            "+--------------------+------------------+---------+--------------+-------------+\n",
            "only showing top 5 rows\n",
            "\n"
          ]
        }
      ],
      "source": [
        "h26.show(5)"
      ]
    },
    {
      "cell_type": "code",
      "execution_count": null,
      "metadata": {
        "id": "lUW80f0cdUF1"
      },
      "outputs": [],
      "source": [
        "h27 = h26.withColumn('Taux_victoire', h26['Somme_victoire'] / ( h26['Somme_victoire'] + h26['Somme_defaite'] ) * 100 )"
      ]
    },
    {
      "cell_type": "code",
      "execution_count": null,
      "metadata": {
        "id": "iewnC1WZdbJ-"
      },
      "outputs": [],
      "source": [
        "h28 = h27.drop('Somme_victoire', 'Somme_defaite')"
      ]
    },
    {
      "cell_type": "code",
      "execution_count": null,
      "metadata": {
        "colab": {
          "base_uri": "https://localhost:8080/"
        },
        "id": "TXl9wY-ldiw-",
        "outputId": "cc1983df-deec-4c50-9744-e769525aad3b"
      },
      "outputs": [
        {
          "output_type": "stream",
          "name": "stdout",
          "text": [
            "+--------------------+------------------+---------+------------------+\n",
            "|             Opening|  Categorie_niveau|Game_type|     Taux_victoire|\n",
            "+--------------------+------------------+---------+------------------+\n",
            "|    Philidor Defense|joueur occasionnel|    Blitz| 64.61538461538461|\n",
            "|Queen's Pawn Game...|joueur occasionnel|    Blitz|62.755102040816325|\n",
            "|    Philidor Defense|bon joueur de club|    Blitz| 60.20942408376963|\n",
            "|Queen's Pawn Game...|bon joueur de club|    Rapid|63.095238095238095|\n",
            "|Queen's Pawn Game...|bon joueur de club|    Blitz| 52.23880597014925|\n",
            "|    Philidor Defense|bon joueur de club|    Rapid| 64.96815286624204|\n",
            "|Queen's Pawn Game...|joueur occasionnel|    Rapid| 57.48502994011976|\n",
            "|   Caro-Kann Defense|bon joueur de club|    Blitz| 47.87234042553192|\n",
            "|    Philidor Defense|joueur occasionnel|    Rapid| 72.35772357723577|\n",
            "|Scandinavian Defe...|joueur occasionnel|    Blitz|              60.0|\n",
            "|         Scotch Game|joueur occasionnel|    Blitz| 57.77777777777777|\n",
            "|         Scotch Game|bon joueur de club|    Blitz| 59.82142857142857|\n",
            "|         Indian Game|bon joueur de club|    Blitz| 44.29530201342282|\n",
            "|    Sicilian Defense|joueur occasionnel|    Blitz| 46.42857142857143|\n",
            "|    Sicilian Defense|bon joueur de club|    Blitz| 40.76433121019109|\n",
            "|Queen's Pawn Game...|joueur occasionnel|    Blitz|52.459016393442624|\n",
            "|Queen's Pawn Game...| joueur bas niveau|    Blitz| 59.43396226415094|\n",
            "|Sicilian Defense:...|bon joueur de club|    Blitz| 51.63934426229508|\n",
            "|Scandinavian Defe...|bon joueur de club|    Blitz|46.616541353383454|\n",
            "|      Modern Defense|joueur occasionnel|    Blitz| 48.06201550387597|\n",
            "+--------------------+------------------+---------+------------------+\n",
            "only showing top 20 rows\n",
            "\n"
          ]
        }
      ],
      "source": [
        "h28.show()"
      ]
    },
    {
      "cell_type": "code",
      "execution_count": null,
      "metadata": {
        "colab": {
          "base_uri": "https://localhost:8080/"
        },
        "id": "RIA0bm4dh6j_",
        "outputId": "247ab9e2-57a7-472f-a222-e89f0bc24da3"
      },
      "outputs": [
        {
          "output_type": "stream",
          "name": "stdout",
          "text": [
            "+--------------------+--------------------+---------+-------------+\n",
            "|             Opening|    Categorie_niveau|Game_type|Taux_victoire|\n",
            "+--------------------+--------------------+---------+-------------+\n",
            "|Indian Game: Lond...|  bon joueur de club|    Rapid|        100.0|\n",
            "|Sicilian Defense:...|   joueur bas niveau|    Blitz|        100.0|\n",
            "|Latvian Gambit Ac...|  joueur occasionnel|    Rapid|        100.0|\n",
            "|     Clemenz Opening|niveau national e...|    Blitz|        100.0|\n",
            "|Nimzo-Indian Defe...|  joueur occasionnel|    Rapid|        100.0|\n",
            "|     Elephant Gambit|tres bon joueur d...|    Rapid|        100.0|\n",
            "|  St. George Defense|   joueur bas niveau|    Rapid|        100.0|\n",
            "|Ponziani Opening:...|tres bon joueur d...|Classical|        100.0|\n",
            "|Danish Gambit Dec...|  bon joueur de club|    Rapid|        100.0|\n",
            "|King's Indian Att...|  joueur occasionnel|    Blitz|        100.0|\n",
            "|Queen's Gambit Ac...|  bon joueur de club|    Rapid|        100.0|\n",
            "|Caro-Kann Defense...|  bon joueur de club|    Blitz|        100.0|\n",
            "|King's Gambit Acc...|  bon joueur de club|    Blitz|        100.0|\n",
            "|Zukertort Opening...|tres bon joueur d...|    Blitz|        100.0|\n",
            "|Modern Defense: P...|tres bon joueur d...|    Rapid|        100.0|\n",
            "|French Defense: T...|tres bon joueur d...|    Blitz|        100.0|\n",
            "|French Defense: T...|tres bon joueur d...|    Rapid|        100.0|\n",
            "|Ruy Lopez: Berlin...|  bon joueur de club|    Rapid|        100.0|\n",
            "|Nimzowitsch Defen...|   joueur bas niveau|    Rapid|        100.0|\n",
            "|French Defense: T...|tres bon joueur d...|    Rapid|        100.0|\n",
            "+--------------------+--------------------+---------+-------------+\n",
            "only showing top 20 rows\n",
            "\n"
          ]
        }
      ],
      "source": [
        "h28.sort(\"Taux_victoire\", ascending = False).show()"
      ]
    },
    {
      "cell_type": "code",
      "execution_count": null,
      "metadata": {
        "id": "j92EnUWee-r4"
      },
      "outputs": [],
      "source": [
        "h29 = h28.groupBy('Categorie_niveau', 'Game_type').agg(max(\"Taux_victoire\").alias('Taux_victoire'))"
      ]
    },
    {
      "cell_type": "code",
      "execution_count": null,
      "metadata": {
        "id": "Gfx9tRhofzIo",
        "colab": {
          "base_uri": "https://localhost:8080/"
        },
        "outputId": "168022c5-ce8d-476a-c1af-f99e52780c71"
      },
      "outputs": [
        {
          "output_type": "stream",
          "name": "stdout",
          "text": [
            "+--------------------+---------+-------------+\n",
            "|    Categorie_niveau|Game_type|Taux_victoire|\n",
            "+--------------------+---------+-------------+\n",
            "|tres bon joueur d...|Classical|        100.0|\n",
            "|  bon joueur de club|Classical|        100.0|\n",
            "|niveau national e...|    Blitz|        100.0|\n",
            "|GMI, Champions du...|    Rapid|        100.0|\n",
            "|  bon joueur de club|    Rapid|        100.0|\n",
            "|  joueur occasionnel|    Blitz|        100.0|\n",
            "|GMI, Champions du...|    Blitz|        100.0|\n",
            "|  joueur occasionnel|Classical|        100.0|\n",
            "|  bon joueur de club|    Blitz|        100.0|\n",
            "|niveau national e...|    Rapid|        100.0|\n",
            "|   joueur bas niveau|Classical|        100.0|\n",
            "|tres bon joueur d...|    Blitz|        100.0|\n",
            "|   joueur bas niveau|    Blitz|        100.0|\n",
            "|   joueur bas niveau|    Rapid|        100.0|\n",
            "|niveau national e...|Classical|        100.0|\n",
            "|tres bon joueur d...|    Rapid|        100.0|\n",
            "|  joueur occasionnel|    Rapid|        100.0|\n",
            "+--------------------+---------+-------------+\n",
            "\n"
          ]
        }
      ],
      "source": [
        "h29.show(100)"
      ]
    },
    {
      "cell_type": "code",
      "execution_count": null,
      "metadata": {
        "id": "t_0PTXq_mz7C"
      },
      "outputs": [],
      "source": [
        " h30 = h28.groupBy(\"Categorie_niveau\", \"Game_type\").agg(max(\"Taux_victoire\").alias(\"max_Taux_victoire\"),first(\"Opening\").alias(\"Opening\"))"
      ]
    },
    {
      "cell_type": "code",
      "execution_count": null,
      "metadata": {
        "colab": {
          "base_uri": "https://localhost:8080/"
        },
        "id": "9yo4jyjAnDjp",
        "outputId": "845f17b3-0160-4d47-944b-31a6a5f15cdb"
      },
      "outputs": [
        {
          "output_type": "stream",
          "name": "stdout",
          "text": [
            "+--------------------+---------+-----------------+--------------------+\n",
            "|    Categorie_niveau|Game_type|max_Taux_victoire|             Opening|\n",
            "+--------------------+---------+-----------------+--------------------+\n",
            "|GMI, Champions du...|    Blitz|            100.0|Ruy Lopez: Classi...|\n",
            "|GMI, Champions du...|    Rapid|            100.0|King's Gambit, Fa...|\n",
            "|  bon joueur de club|    Blitz|            100.0|    Philidor Defense|\n",
            "|  bon joueur de club|Classical|            100.0|    Philidor Defense|\n",
            "|  bon joueur de club|    Rapid|            100.0|Queen's Pawn Game...|\n",
            "|   joueur bas niveau|    Blitz|            100.0|Queen's Pawn Game...|\n",
            "|   joueur bas niveau|Classical|            100.0|King's Pawn Game:...|\n",
            "|   joueur bas niveau|    Rapid|            100.0|Scandinavian Defense|\n",
            "|  joueur occasionnel|    Blitz|            100.0|    Philidor Defense|\n",
            "|  joueur occasionnel|Classical|            100.0|    Philidor Defense|\n",
            "|  joueur occasionnel|    Rapid|            100.0|Queen's Pawn Game...|\n",
            "|niveau national e...|    Blitz|            100.0|        Pirc Defense|\n",
            "|niveau national e...|Classical|            100.0|         Indian Game|\n",
            "|niveau national e...|    Rapid|            100.0|Queen's Pawn Game...|\n",
            "|tres bon joueur d...|    Blitz|            100.0|Scandinavian Defe...|\n",
            "|tres bon joueur d...|Classical|            100.0|         Indian Game|\n",
            "|tres bon joueur d...|    Rapid|            100.0|Queen's Pawn Game...|\n",
            "+--------------------+---------+-----------------+--------------------+\n",
            "\n"
          ]
        }
      ],
      "source": [
        " h30.show(100)"
      ]
    },
    {
      "cell_type": "markdown",
      "metadata": {
        "id": "GH77yIY2osxR"
      },
      "source": [
        "Petit commentaire en ce qui concerne la question : les taux de victoires sont toujours de 100% car certains opening sont joués 1,2 ou 3 fois max dans le mois sans que la personne perde la partie donc les résultats sont un peu fossé. Dans la suite, je pense intégrer une règle qui dit qu'il faut au moins un minimum de 10 parties pour avoir des données plus cohérentes."
      ]
    },
    {
      "cell_type": "markdown",
      "metadata": {
        "id": "ZDdzKUJ6048M"
      },
      "source": [
        "On peut voir que pour la colonne 'Categorie_niveau' pour 'GMI, Champions du monde', il manque le type de partie classique. Je pense du fait qu'il y a très peu de joueur à cette élo, personne n'a fait une partie dans le mode classique lors de ce mois-ci."
      ]
    },
    {
      "cell_type": "markdown",
      "source": [
        "Du coup, on va reprendre le code que nous avons exécuté avant mais on va appliquer un filtre afin d'avoir au minimum 10 parties jouées pour que l'opening soit pris en compte et avoir de meilleurs résultats que des 100% partout."
      ],
      "metadata": {
        "id": "G7FwlUOP01qt"
      }
    },
    {
      "cell_type": "code",
      "source": [
        "h31 = h26"
      ],
      "metadata": {
        "id": "yERDn9JB1Kaf"
      },
      "execution_count": null,
      "outputs": []
    },
    {
      "cell_type": "code",
      "source": [
        "h31.show(5)"
      ],
      "metadata": {
        "colab": {
          "base_uri": "https://localhost:8080/"
        },
        "id": "Ii9tgsKl1Nvk",
        "outputId": "9da5e672-ee85-448a-f636-a4383eded9e5"
      },
      "execution_count": null,
      "outputs": [
        {
          "output_type": "stream",
          "name": "stdout",
          "text": [
            "+--------------------+------------------+---------+--------------+-------------+\n",
            "|             Opening|  Categorie_niveau|Game_type|Somme_victoire|Somme_defaite|\n",
            "+--------------------+------------------+---------+--------------+-------------+\n",
            "|    Philidor Defense|joueur occasionnel|    Blitz|           126|           69|\n",
            "|Queen's Pawn Game...|joueur occasionnel|    Blitz|           123|           73|\n",
            "|    Philidor Defense|bon joueur de club|    Blitz|           115|           76|\n",
            "|Queen's Pawn Game...|bon joueur de club|    Rapid|           106|           62|\n",
            "|Queen's Pawn Game...|bon joueur de club|    Blitz|           105|           96|\n",
            "+--------------------+------------------+---------+--------------+-------------+\n",
            "only showing top 5 rows\n",
            "\n"
          ]
        }
      ]
    },
    {
      "cell_type": "code",
      "source": [
        "h32 = h31.filter((h31['Somme_victoire'] + h31['Somme_defaite']) >= 10)"
      ],
      "metadata": {
        "id": "UcFzl9h51XJI"
      },
      "execution_count": null,
      "outputs": []
    },
    {
      "cell_type": "code",
      "source": [
        "h32.show(5)"
      ],
      "metadata": {
        "colab": {
          "base_uri": "https://localhost:8080/"
        },
        "id": "2c_hBgP41p4f",
        "outputId": "b74e6769-0a7e-4f52-e342-db81887f82f0"
      },
      "execution_count": null,
      "outputs": [
        {
          "output_type": "stream",
          "name": "stdout",
          "text": [
            "+--------------------+------------------+---------+--------------+-------------+\n",
            "|             Opening|  Categorie_niveau|Game_type|Somme_victoire|Somme_defaite|\n",
            "+--------------------+------------------+---------+--------------+-------------+\n",
            "|    Philidor Defense|joueur occasionnel|    Blitz|           126|           69|\n",
            "|Queen's Pawn Game...|joueur occasionnel|    Blitz|           123|           73|\n",
            "|    Philidor Defense|bon joueur de club|    Blitz|           115|           76|\n",
            "|Queen's Pawn Game...|bon joueur de club|    Rapid|           106|           62|\n",
            "|Queen's Pawn Game...|bon joueur de club|    Blitz|           105|           96|\n",
            "+--------------------+------------------+---------+--------------+-------------+\n",
            "only showing top 5 rows\n",
            "\n"
          ]
        }
      ]
    },
    {
      "cell_type": "markdown",
      "source": [
        "Et après on va reprendre exactement le même code que haut dessus pour obtenir les taux de la même façon."
      ],
      "metadata": {
        "id": "TnC7wJD81vEH"
      }
    },
    {
      "cell_type": "code",
      "source": [
        "h33 = h32.withColumn('Taux_victoire', h32['Somme_victoire'] / ( h32['Somme_victoire'] + h32['Somme_defaite'] ) * 100 )"
      ],
      "metadata": {
        "id": "QcEw8IJQ14i-"
      },
      "execution_count": null,
      "outputs": []
    },
    {
      "cell_type": "code",
      "source": [
        "h34 = h33.drop('Somme_victoire', 'Somme_defaite')"
      ],
      "metadata": {
        "id": "sP_pN7W32Avu"
      },
      "execution_count": null,
      "outputs": []
    },
    {
      "cell_type": "code",
      "source": [
        "h35 = h34.groupBy(\"Categorie_niveau\", \"Game_type\").agg(max(\"Taux_victoire\").alias(\"max_Taux_victoire\"),first(\"Opening\").alias(\"Opening\"))"
      ],
      "metadata": {
        "id": "Z5c5H29R2G1B"
      },
      "execution_count": null,
      "outputs": []
    },
    {
      "cell_type": "code",
      "source": [
        " h35.show(100)"
      ],
      "metadata": {
        "colab": {
          "base_uri": "https://localhost:8080/"
        },
        "id": "LGtZ9cZi2PZi",
        "outputId": "f9eae037-05b6-4473-c37b-a8267af66b2f"
      },
      "execution_count": null,
      "outputs": [
        {
          "output_type": "stream",
          "name": "stdout",
          "text": [
            "+--------------------+---------+-----------------+--------------------+\n",
            "|    Categorie_niveau|Game_type|max_Taux_victoire|             Opening|\n",
            "+--------------------+---------+-----------------+--------------------+\n",
            "|  bon joueur de club|    Blitz|83.33333333333334|    Philidor Defense|\n",
            "|  bon joueur de club|Classical| 92.3076923076923|    Philidor Defense|\n",
            "|  bon joueur de club|    Rapid|             90.0|Queen's Pawn Game...|\n",
            "|   joueur bas niveau|    Blitz|81.81818181818183|Queen's Pawn Game...|\n",
            "|   joueur bas niveau|    Rapid|81.81818181818183|Scandinavian Defense|\n",
            "|  joueur occasionnel|    Blitz|             80.0|    Philidor Defense|\n",
            "|  joueur occasionnel|Classical|76.19047619047619|    Philidor Defense|\n",
            "|  joueur occasionnel|    Rapid|91.66666666666666|Queen's Pawn Game...|\n",
            "|niveau national e...|    Blitz|81.81818181818183|        Pirc Defense|\n",
            "|niveau national e...|    Rapid|76.92307692307693|Queen's Pawn Game...|\n",
            "|tres bon joueur d...|    Blitz|             80.0|Scandinavian Defe...|\n",
            "|tres bon joueur d...|Classical|             30.0|Queen's Pawn Game...|\n",
            "|tres bon joueur d...|    Rapid|             80.0|Queen's Pawn Game...|\n",
            "+--------------------+---------+-----------------+--------------------+\n",
            "\n"
          ]
        }
      ]
    },
    {
      "cell_type": "markdown",
      "source": [
        "On peut voir qu'on obtient beaucoup moins de lignes que avant, c'est dû au fait qu'il n'y a pas assez de données présentes pour que la catégorie de niveau GMI, Champions du monde s'affiche. Pour les autres catégories manquantes, c'est le même phénomène qu'on peut observer."
      ],
      "metadata": {
        "id": "lLo1zGRs2ktn"
      }
    },
    {
      "cell_type": "markdown",
      "metadata": {
        "id": "nwWcLlIdduQd"
      },
      "source": [
        "# Question 3b"
      ]
    },
    {
      "cell_type": "markdown",
      "metadata": {
        "id": "Zz0qwWGddzH0"
      },
      "source": [
        "Avec quelle ouverture les noirs ont ils le plus de chance de gagner, par catégorie de niveau (*) et par type de partie (Blitz, Rapide, Classique)."
      ]
    },
    {
      "cell_type": "markdown",
      "metadata": {
        "id": "PIOaDosAtFIU"
      },
      "source": [
        "Pour cette question, on va exactement faire la même chose que la précédante mais on va juste modifier les victoires des blancs en défaite (victoire des noirs). C'est uniquement les fonctions qui vont être modifié mais le code reste le même."
      ]
    },
    {
      "cell_type": "code",
      "execution_count": null,
      "metadata": {
        "id": "WGXdZcoLpQhl"
      },
      "outputs": [],
      "source": [
        "m0 = df_spark_2[['Game_type', 'ECO', 'Opening', 'BlackElo', 'WhiteElo', 'Result']]"
      ]
    },
    {
      "cell_type": "code",
      "execution_count": null,
      "metadata": {
        "id": "wNlV2e7vpWQg"
      },
      "outputs": [],
      "source": [
        "m1 = m0.filter((m0['Game_type'] == 'Blitz') | (m0['Game_type'] == 'Rapid') | (m0['Game_type'] == 'Classical'))"
      ]
    },
    {
      "cell_type": "code",
      "execution_count": null,
      "metadata": {
        "id": "Nit3SZhTpde1"
      },
      "outputs": [],
      "source": [
        "m2 = m1.withColumn('Victoire/Défaite', result_black(m1['Result']))"
      ]
    },
    {
      "cell_type": "code",
      "execution_count": null,
      "metadata": {
        "id": "yBAndgrFp9VX"
      },
      "outputs": [],
      "source": [
        "m3 = m2.drop('Result')"
      ]
    },
    {
      "cell_type": "code",
      "execution_count": null,
      "metadata": {
        "id": "cjMwX_Xdp_FV"
      },
      "outputs": [],
      "source": [
        "m4 = m3.withColumn('Elo_moyen', (m3['WhiteElo'] + m3['BlackElo']) / 2)"
      ]
    },
    {
      "cell_type": "code",
      "execution_count": null,
      "metadata": {
        "id": "gPaatdMVqE_6"
      },
      "outputs": [],
      "source": [
        "m5 = m4.withColumn('Categorie_niveau', categorie_niveau_echec(m4['Elo_moyen']))"
      ]
    },
    {
      "cell_type": "code",
      "execution_count": null,
      "metadata": {
        "id": "gSUMS18RqLsG"
      },
      "outputs": [],
      "source": [
        "m6 = m5.drop('Elo_moyen', 'BlackElo', 'WhiteElo')"
      ]
    },
    {
      "cell_type": "code",
      "execution_count": null,
      "metadata": {
        "id": "zZw8aiEEqVKI"
      },
      "outputs": [],
      "source": [
        "m7 = m6[['Opening', 'Victoire/Défaite']]"
      ]
    },
    {
      "cell_type": "code",
      "execution_count": null,
      "metadata": {
        "id": "zRZ8nJWYqcyG"
      },
      "outputs": [],
      "source": [
        "m8 = m7.withColumn('Victoire', victoire_black(m7['Victoire/Défaite']))"
      ]
    },
    {
      "cell_type": "code",
      "execution_count": null,
      "metadata": {
        "id": "6sjVZ18UqhCo"
      },
      "outputs": [],
      "source": [
        "m9 = m8.withColumn('Defaite', defaite_black(m8['Victoire/Défaite']))"
      ]
    },
    {
      "cell_type": "code",
      "execution_count": null,
      "metadata": {
        "id": "ReFH_Y9sqvV1"
      },
      "outputs": [],
      "source": [
        "m10 = m9.drop('Victoire/Défaite')"
      ]
    },
    {
      "cell_type": "code",
      "execution_count": null,
      "metadata": {
        "colab": {
          "base_uri": "https://localhost:8080/"
        },
        "id": "r6c3Tcx_qzmX",
        "outputId": "c3cf5388-61a8-41db-c1ac-483488b93838"
      },
      "outputs": [
        {
          "output_type": "stream",
          "name": "stdout",
          "text": [
            "+--------------------+--------+-------+\n",
            "|             Opening|Victoire|Defaite|\n",
            "+--------------------+--------+-------+\n",
            "|        Bird Opening|       1|      0|\n",
            "|        Réti Opening|       1|      0|\n",
            "|    Philidor Defense|       1|      0|\n",
            "|Sicilian Defense:...|       1|      0|\n",
            "|    Alekhine Defense|       0|      1|\n",
            "+--------------------+--------+-------+\n",
            "only showing top 5 rows\n",
            "\n"
          ]
        }
      ],
      "source": [
        "m10.show(5)"
      ]
    },
    {
      "cell_type": "code",
      "execution_count": null,
      "metadata": {
        "id": "OXeBkxxAq9we"
      },
      "outputs": [],
      "source": [
        "m11 = m10.groupBy('Opening').agg(sum(\"Victoire\").alias('Somme_victoire'), sum(\"Defaite\").alias('Somme_defaite')).sort(\"Somme_victoire\", ascending = False)"
      ]
    },
    {
      "cell_type": "code",
      "execution_count": null,
      "metadata": {
        "id": "iOmSIrlnrArV"
      },
      "outputs": [],
      "source": [
        "m12 = m11.withColumn('Taux_victoire', m11['Somme_victoire'] / ( m11['Somme_victoire'] + m11['Somme_defaite'] ) * 100 )"
      ]
    },
    {
      "cell_type": "code",
      "execution_count": null,
      "metadata": {
        "id": "r4EwOTt5rHYy"
      },
      "outputs": [],
      "source": [
        "m13 = m12.drop('Somme_victoire', 'Somme_defaite')"
      ]
    },
    {
      "cell_type": "code",
      "execution_count": null,
      "metadata": {
        "id": "crA_7LttrLUC"
      },
      "outputs": [],
      "source": [
        "m14 = m5.drop('Elo_moyen', 'BlackElo', 'WhiteElo', 'ECO', 'Game_type')"
      ]
    },
    {
      "cell_type": "code",
      "execution_count": null,
      "metadata": {
        "id": "LMwCe88rrYuY"
      },
      "outputs": [],
      "source": [
        "m15 = m14.withColumn('Victoire', victoire_black(m14['Victoire/Défaite']))"
      ]
    },
    {
      "cell_type": "code",
      "execution_count": null,
      "metadata": {
        "id": "BbZyk-BrrdsM"
      },
      "outputs": [],
      "source": [
        "m16 = m15.withColumn('Defaite', defaite_black(m15['Victoire/Défaite']))"
      ]
    },
    {
      "cell_type": "code",
      "execution_count": null,
      "metadata": {
        "id": "uMmFg9S8rjqP"
      },
      "outputs": [],
      "source": [
        "m17 = m16.drop('Victoire/Défaite')"
      ]
    },
    {
      "cell_type": "code",
      "execution_count": null,
      "metadata": {
        "id": "VhqAIdFxrnTo"
      },
      "outputs": [],
      "source": [
        "m18 = m17.groupBy('Opening', 'Categorie_niveau').agg(sum(\"Victoire\").alias('Somme_victoire'), sum(\"Defaite\").alias('Somme_defaite')).sort(\"Somme_victoire\", ascending = False)"
      ]
    },
    {
      "cell_type": "code",
      "execution_count": null,
      "metadata": {
        "id": "pZEazkA5rvx1"
      },
      "outputs": [],
      "source": [
        "m19 = m18.withColumn('Taux_victoire', m18['Somme_victoire'] / ( m18['Somme_victoire'] + m18['Somme_defaite'] ) * 100 )"
      ]
    },
    {
      "cell_type": "code",
      "execution_count": null,
      "metadata": {
        "id": "3FR0tcFwr1_-"
      },
      "outputs": [],
      "source": [
        "m20 = m19.drop('Somme_victoire', 'Somme_defaite')"
      ]
    },
    {
      "cell_type": "code",
      "execution_count": null,
      "metadata": {
        "colab": {
          "base_uri": "https://localhost:8080/"
        },
        "id": "OlWilinIr8_4",
        "outputId": "d65f90d6-24c7-4972-c6d9-2a2336eed36e"
      },
      "outputs": [
        {
          "output_type": "stream",
          "name": "stdout",
          "text": [
            "+--------------------+--------------------+-------------+\n",
            "|             Opening|    Categorie_niveau|Taux_victoire|\n",
            "+--------------------+--------------------+-------------+\n",
            "|King's Pawn Game:...|tres bon joueur d...|        100.0|\n",
            "|   Saragossa Opening|niveau national e...|        100.0|\n",
            "|Sicilian Defense:...|  joueur occasionnel|        100.0|\n",
            "|King's Pawn Openi...|   joueur bas niveau|        100.0|\n",
            "|Queen's Gambit Re...|niveau national e...|        100.0|\n",
            "+--------------------+--------------------+-------------+\n",
            "only showing top 5 rows\n",
            "\n"
          ]
        }
      ],
      "source": [
        "m20.sort(\"Taux_victoire\", ascending = False).show(5)"
      ]
    },
    {
      "cell_type": "code",
      "execution_count": null,
      "metadata": {
        "id": "kQfa9_wQsIfA"
      },
      "outputs": [],
      "source": [
        "m21 = m6.drop('ECO')"
      ]
    },
    {
      "cell_type": "code",
      "execution_count": null,
      "metadata": {
        "id": "4g-StfLHsKTK"
      },
      "outputs": [],
      "source": [
        "m22 = m21.withColumn('Victoire', victoire_black(m21['Victoire/Défaite']))"
      ]
    },
    {
      "cell_type": "code",
      "execution_count": null,
      "metadata": {
        "id": "YFfFGeSosPrt"
      },
      "outputs": [],
      "source": [
        "m23 = m22.withColumn('Defaite', defaite_black(m22['Victoire/Défaite']))"
      ]
    },
    {
      "cell_type": "code",
      "execution_count": null,
      "metadata": {
        "id": "VKcfqprNsbWp"
      },
      "outputs": [],
      "source": [
        "m24 = m23.drop('Victoire/Défaite')"
      ]
    },
    {
      "cell_type": "code",
      "execution_count": null,
      "metadata": {
        "id": "m8Y447NRsdPv"
      },
      "outputs": [],
      "source": [
        "m25 = m24[['Opening', 'Categorie_niveau', 'Game_type', 'Victoire', 'Defaite']]"
      ]
    },
    {
      "cell_type": "code",
      "execution_count": null,
      "metadata": {
        "id": "Mu3xSOlBshlL"
      },
      "outputs": [],
      "source": [
        "m26 = m25.groupBy('Opening', 'Categorie_niveau', 'Game_type').agg(sum(\"Victoire\").alias('Somme_victoire'), sum(\"Defaite\").alias('Somme_defaite')).sort(\"Somme_victoire\", ascending = False)"
      ]
    },
    {
      "cell_type": "code",
      "execution_count": null,
      "metadata": {
        "id": "0AuE_OmVslRp"
      },
      "outputs": [],
      "source": [
        "m27 = m26.withColumn('Taux_victoire', m26['Somme_victoire'] / ( m26['Somme_victoire'] + m26['Somme_defaite'] ) * 100 )"
      ]
    },
    {
      "cell_type": "code",
      "execution_count": null,
      "metadata": {
        "id": "KBsr9TFpsqxY"
      },
      "outputs": [],
      "source": [
        "m28 = m27.drop('Somme_victoire', 'Somme_defaite')"
      ]
    },
    {
      "cell_type": "code",
      "execution_count": null,
      "metadata": {
        "id": "LI2-v4XUsudZ"
      },
      "outputs": [],
      "source": [
        "m29 = m28.groupBy('Categorie_niveau', 'Game_type').agg(max(\"Taux_victoire\").alias('Taux_victoire'))"
      ]
    },
    {
      "cell_type": "code",
      "execution_count": null,
      "metadata": {
        "id": "NCO9w8Cwsxw6",
        "colab": {
          "base_uri": "https://localhost:8080/"
        },
        "outputId": "194e0a76-0ead-42d1-c65a-c35cee0f0091"
      },
      "outputs": [
        {
          "output_type": "stream",
          "name": "stdout",
          "text": [
            "+--------------------+---------+-------------+\n",
            "|    Categorie_niveau|Game_type|Taux_victoire|\n",
            "+--------------------+---------+-------------+\n",
            "|tres bon joueur d...|Classical|        100.0|\n",
            "|  bon joueur de club|Classical|        100.0|\n",
            "|niveau national e...|    Blitz|        100.0|\n",
            "|GMI, Champions du...|    Rapid|        100.0|\n",
            "|  bon joueur de club|    Rapid|        100.0|\n",
            "|  joueur occasionnel|    Blitz|        100.0|\n",
            "|GMI, Champions du...|    Blitz|        100.0|\n",
            "|  joueur occasionnel|Classical|        100.0|\n",
            "|  bon joueur de club|    Blitz|        100.0|\n",
            "|niveau national e...|    Rapid|        100.0|\n",
            "|   joueur bas niveau|Classical|        100.0|\n",
            "|tres bon joueur d...|    Blitz|        100.0|\n",
            "|   joueur bas niveau|    Blitz|        100.0|\n",
            "|   joueur bas niveau|    Rapid|        100.0|\n",
            "|niveau national e...|Classical|        100.0|\n",
            "|tres bon joueur d...|    Rapid|        100.0|\n",
            "|  joueur occasionnel|    Rapid|        100.0|\n",
            "+--------------------+---------+-------------+\n",
            "\n"
          ]
        }
      ],
      "source": [
        "m29.show()"
      ]
    },
    {
      "cell_type": "code",
      "execution_count": null,
      "metadata": {
        "id": "8QdG8iOvs9AJ"
      },
      "outputs": [],
      "source": [
        " m30 = m28.groupBy(\"Categorie_niveau\", \"Game_type\").agg(max(\"Taux_victoire\").alias(\"max_Taux_victoire\"),first(\"Opening\").alias(\"Opening\"))"
      ]
    },
    {
      "cell_type": "code",
      "execution_count": null,
      "metadata": {
        "colab": {
          "base_uri": "https://localhost:8080/"
        },
        "id": "EyqXNHBmtDGL",
        "outputId": "77258b96-479c-438d-9473-0a2ff4975791"
      },
      "outputs": [
        {
          "output_type": "stream",
          "name": "stdout",
          "text": [
            "+--------------------+---------+-----------------+--------------------+\n",
            "|    Categorie_niveau|Game_type|max_Taux_victoire|             Opening|\n",
            "+--------------------+---------+-----------------+--------------------+\n",
            "|GMI, Champions du...|    Blitz|            100.0|Scandinavian Defe...|\n",
            "|GMI, Champions du...|    Rapid|            100.0|Sicilian Defense:...|\n",
            "|  bon joueur de club|    Blitz|            100.0|   Caro-Kann Defense|\n",
            "|  bon joueur de club|Classical|            100.0|Sicilian Defense:...|\n",
            "|  bon joueur de club|    Rapid|            100.0|    Sicilian Defense|\n",
            "|   joueur bas niveau|    Blitz|            100.0|   Queen's Pawn Game|\n",
            "|   joueur bas niveau|Classical|            100.0|    Bishop's Opening|\n",
            "|   joueur bas niveau|    Rapid|            100.0|   Queen's Pawn Game|\n",
            "|  joueur occasionnel|    Blitz|            100.0|   Queen's Pawn Game|\n",
            "|  joueur occasionnel|Classical|            100.0|Queen's Pawn Game...|\n",
            "|  joueur occasionnel|    Rapid|            100.0|Queen's Pawn Game...|\n",
            "|niveau national e...|    Blitz|            100.0|         Indian Game|\n",
            "|niveau national e...|Classical|            100.0|Scandinavian Defe...|\n",
            "|niveau national e...|    Rapid|            100.0|         Indian Game|\n",
            "|tres bon joueur d...|    Blitz|            100.0|         Indian Game|\n",
            "|tres bon joueur d...|Classical|            100.0|Sicilian Defense:...|\n",
            "|tres bon joueur d...|    Rapid|            100.0|         Indian Game|\n",
            "+--------------------+---------+-----------------+--------------------+\n",
            "\n"
          ]
        }
      ],
      "source": [
        "m30.show()"
      ]
    },
    {
      "cell_type": "markdown",
      "source": [
        "A partir d'ici, on va faire la même chose que nous avons fait pour les blancs, c'est à dire au moins avoir dix parties pour obtenir un taux un peu plus représentatif."
      ],
      "metadata": {
        "id": "nywe3kIu2_i6"
      }
    },
    {
      "cell_type": "code",
      "source": [
        "m31 = m26"
      ],
      "metadata": {
        "id": "Ma4yk0593mXS"
      },
      "execution_count": null,
      "outputs": []
    },
    {
      "cell_type": "code",
      "source": [
        "m31.show(5)"
      ],
      "metadata": {
        "colab": {
          "base_uri": "https://localhost:8080/"
        },
        "id": "suZeuTyw3otk",
        "outputId": "0f14b147-236c-4683-c508-4b8b0b55e6dc"
      },
      "execution_count": null,
      "outputs": [
        {
          "output_type": "stream",
          "name": "stdout",
          "text": [
            "+--------------------+------------------+---------+--------------+-------------+\n",
            "|             Opening|  Categorie_niveau|Game_type|Somme_victoire|Somme_defaite|\n",
            "+--------------------+------------------+---------+--------------+-------------+\n",
            "|   Caro-Kann Defense|bon joueur de club|    Blitz|            98|           90|\n",
            "|Queen's Pawn Game...|bon joueur de club|    Blitz|            96|          105|\n",
            "|    Sicilian Defense|bon joueur de club|    Blitz|            93|           64|\n",
            "|         Indian Game|bon joueur de club|    Blitz|            83|           66|\n",
            "|    Sicilian Defense|bon joueur de club|    Rapid|            80|           52|\n",
            "+--------------------+------------------+---------+--------------+-------------+\n",
            "only showing top 5 rows\n",
            "\n"
          ]
        }
      ]
    },
    {
      "cell_type": "code",
      "source": [
        "m32 = m31.filter((m31['Somme_victoire'] + m31['Somme_defaite']) >= 10)"
      ],
      "metadata": {
        "id": "FR_MQ15-3xns"
      },
      "execution_count": null,
      "outputs": []
    },
    {
      "cell_type": "code",
      "source": [
        "m33 = m32.withColumn('Taux_victoire', m32['Somme_victoire'] / ( m32['Somme_victoire'] + m32['Somme_defaite'] ) * 100 )"
      ],
      "metadata": {
        "id": "MdnZ2nXC31Yp"
      },
      "execution_count": null,
      "outputs": []
    },
    {
      "cell_type": "code",
      "source": [
        "m34 = m33.drop('Somme_victoire', 'Somme_defaite')"
      ],
      "metadata": {
        "id": "Lydw8h8e38Y-"
      },
      "execution_count": null,
      "outputs": []
    },
    {
      "cell_type": "code",
      "source": [
        "m35 = m34.groupBy(\"Categorie_niveau\", \"Game_type\").agg(max(\"Taux_victoire\").alias(\"max_Taux_victoire\"),first(\"Opening\").alias(\"Opening\"))"
      ],
      "metadata": {
        "id": "hYWFr1B04Azf"
      },
      "execution_count": null,
      "outputs": []
    },
    {
      "cell_type": "code",
      "source": [
        " m35.show(100)"
      ],
      "metadata": {
        "colab": {
          "base_uri": "https://localhost:8080/"
        },
        "id": "lmiRDSXz4FUt",
        "outputId": "6b3a77bb-69eb-400a-d61a-122dc0e4eaa4"
      },
      "execution_count": null,
      "outputs": [
        {
          "output_type": "stream",
          "name": "stdout",
          "text": [
            "+--------------------+---------+-----------------+--------------------+\n",
            "|    Categorie_niveau|Game_type|max_Taux_victoire|             Opening|\n",
            "+--------------------+---------+-----------------+--------------------+\n",
            "|  bon joueur de club|    Blitz|88.23529411764706|   Caro-Kann Defense|\n",
            "|  bon joueur de club|Classical|             75.0|Sicilian Defense:...|\n",
            "|  bon joueur de club|    Rapid|83.33333333333334|    Sicilian Defense|\n",
            "|   joueur bas niveau|    Blitz|             90.0|   Queen's Pawn Game|\n",
            "|   joueur bas niveau|    Rapid|85.71428571428571|   Queen's Pawn Game|\n",
            "|  joueur occasionnel|    Blitz|85.71428571428571|   Queen's Pawn Game|\n",
            "|  joueur occasionnel|Classical|             70.0|Queen's Pawn Game...|\n",
            "|  joueur occasionnel|    Rapid|             75.0|Queen's Pawn Game...|\n",
            "|niveau national e...|    Blitz|83.33333333333334|         Indian Game|\n",
            "|niveau national e...|    Rapid|91.66666666666666|         Indian Game|\n",
            "|tres bon joueur d...|    Blitz|             87.5|         Indian Game|\n",
            "|tres bon joueur d...|Classical|             70.0|Queen's Pawn Game...|\n",
            "|tres bon joueur d...|    Rapid|             80.0|         Indian Game|\n",
            "+--------------------+---------+-----------------+--------------------+\n",
            "\n"
          ]
        }
      ]
    },
    {
      "cell_type": "markdown",
      "metadata": {
        "id": "GQsLF2Nl1fBg"
      },
      "source": [
        "# Questions que nous avons trouvés et réponses"
      ]
    },
    {
      "cell_type": "code",
      "execution_count": null,
      "metadata": {
        "colab": {
          "base_uri": "https://localhost:8080/"
        },
        "id": "4oNMyOwnkxNi",
        "outputId": "5f1ff57a-2c10-411c-d927-a522b2ba9e11"
      },
      "outputs": [
        {
          "output_type": "stream",
          "name": "stdout",
          "text": [
            "+--------+---------------+---+----------------+--------------------+------+------------+-----------+--------+---------------+------------------+------------------+-------------+---------+---------+-----------+--------------+--------------+--------------+--------------+------------------+------------------+--------------------+--------------------+--------------+--------------+-----------------+-----------------+-----------------+----------------+----------------+----------------+--------------------+--------------------+----------+-------------+\n",
            "|BlackElo|BlackRatingDiff|ECO|           Event|             Opening|Result| Termination|TimeControl|WhiteElo|WhiteRatingDiff|Black_elo_category|White_elo_category|starting_time|increment|Game_type|Total_moves|Black_blunders|White_blunders|Black_mistakes|White_mistakes|Black_inaccuracies|White_inaccuracies|Black_inferior_moves|White_inferior_moves|Black_ts_moves|White_ts_moves|Black_ts_blunders|White_ts_blunders|Black_ts_mistakes|White_ts_mistake|Black_long_moves|White_long_moves|Black_bad_long_moves|White_bad_long_moves|Game_flips|Game_flips_ts|\n",
            "+--------+---------------+---+----------------+--------------------+------+------------+-----------+--------+---------------+------------------+------------------+-------------+---------+---------+-----------+--------------+--------------+--------------+--------------+------------------+------------------+--------------------+--------------------+--------------+--------------+-----------------+-----------------+-----------------+----------------+----------------+----------------+--------------------+--------------------+----------+-------------+\n",
            "|    1143|              6|A02|Rated Blitz game|        Bird Opening|   0-1|Time forfeit|      300+0|    1180|             -7|        Low rating|        Low rating|          300|        0|    Blitz|         66|             4|             2|             0|             3|                 3|                 1|                   7|                   6|             8|             8|                0|                0|                0|               0|               2|               1|                   1|                   1|         8|            0|\n",
            "|    1504|           null|A04|Rated Blitz game|        Réti Opening|   0-1|      Normal|      300+0|    1381|           null|        Low rating|        Low rating|          300|        0|    Blitz|         64|             2|             1|             1|             1|                 7|                 5|                  10|                   7|             0|             0|                0|                0|                0|               0|               0|               1|                   0|                   0|         6|            0|\n",
            "|    1933|              1|C41|Rated Blitz game|    Philidor Defense|   0-1|Time forfeit|      300+2|    1485|             -1|       High rating|        Low rating|          300|        2|    Blitz|         70|             0|             1|             1|             2|                 8|                 8|                   9|                  11|             0|             2|                0|                0|                0|               0|               1|               1|                   1|                   0|         5|            0|\n",
            "|    1710|             10|B23|Rated Blitz game|Sicilian Defense:...|   0-1|      Normal|      180+2|    2040|            -11|        Low rating|       High rating|          180|        2|    Blitz|         86|             4|             2|             1|             5|                 3|                 4|                   8|                  11|            18|             0|                4|                0|                0|               0|               3|               1|                   1|                   0|         8|            1|\n",
            "|    1598|             -1|B03|Rated Rapid game|    Alekhine Defense|   1-0|      Normal|      600+0|    2163|              0|        Low rating|       High rating|          600|        0|    Rapid|         71|             1|             0|             1|             1|                 6|                 2|                   8|                   3|             0|             0|                0|                0|                0|               0|               0|               0|                   0|                   0|         2|            0|\n",
            "+--------+---------------+---+----------------+--------------------+------+------------+-----------+--------+---------------+------------------+------------------+-------------+---------+---------+-----------+--------------+--------------+--------------+--------------+------------------+------------------+--------------------+--------------------+--------------+--------------+-----------------+-----------------+-----------------+----------------+----------------+----------------+--------------------+--------------------+----------+-------------+\n",
            "only showing top 5 rows\n",
            "\n"
          ]
        }
      ],
      "source": [
        "df_spark_2.show(5)"
      ]
    },
    {
      "cell_type": "markdown",
      "metadata": {
        "id": "AJvk_iMjlPYO"
      },
      "source": [
        "Colonnes intéressantes :\n",
        "\n",
        "- **Terminaison** : façon dont le jeu s'est terminé\n",
        "\n",
        "- **TimeControl** : contrôle du temps en secondes qui a été utilisé pour le jeu (heure de début : incrément)\n",
        "\n",
        "- **Total_moves** : nombre total de coups dans le jeu\n",
        "\n",
        "- **Black_ts_moves** : Nombre de coups du joueur avec les pièces noires dans le time scramble (temps restant inférieur ou égal à 10% du temps de départ)\n",
        "\n",
        "- **White_ts_moves** : Nombre de coups du joueur avec les pièces blanches en time scramble (temps restant inférieur ou égal à 10% du temps de départ)\n",
        "\n",
        "- **Black_ts_blunders** : Nombre de bévues du joueur avec les pièces noires dans le time scramble (temps restant inférieur ou égal à 10% du temps de départ)\n",
        "\n",
        "- **White_ts_blunders** : Nombre de bévues du joueur avec les pièces blanches dans le time scramble (temps restant inférieur ou égal à 10% du temps de départ)\n",
        "\n",
        "- **Black_ts_mistakes** : Nombre d'erreurs du joueur avec les pièces noires dans le time scramble (temps restant inférieur ou égal à 10% du temps de départ)\n",
        "\n",
        "- **White_ts_mistakes** : Nombre d'erreurs du joueur avec les pièces blanches dans le time scramble (temps restant inférieur ou égal à 10% du temps de départ)\n",
        "\n",
        "- **Game_flips** : nombre de fois dans le jeu où l'équilibre du jeu a changé\n",
        "\n",
        "- **Black_long_moves** : Nombre de coups du joueur avec les pièces noires qui ont nécessité plus de 10 % du temps de départ\n",
        "\n",
        "- **White_long_moves** : Nombre de coups du joueur avec les pièces blanches qui ont nécessité plus de 10 % du temps de départ\n",
        "\n",
        "- **Black_bad_long_moves** : Nombre de longs déplacements du joueur avec les pièces noires qui étaient inférieures\n",
        "\n",
        "- **White_bad_long_moves** : Nombre de longs coups du joueur avec les pièces blanches qui étaient inférieures"
      ]
    },
    {
      "cell_type": "markdown",
      "metadata": {
        "id": "bxLbLo9Em_MX"
      },
      "source": [
        "La première question que nous nous sommes posés est la suivante :\n",
        "\n",
        "- Quel est le nombre total de coups dans le jeu en fonction de la catégorie de niveau (Blitz, Rapide et classique) ?\n",
        "\n",
        "Cette question ne semble peut être pas trop pertinente mais elle nous intriguait. Nous n'allons donc pas compter cette question comme une question pertinente. La deuxième question que nous nous sommes posés est la suivante :\n",
        "\n",
        "- Quel est le taux d'erreurs et de bourdes par coup, par catégorie de niveau (*) et sur les parties de type Blitz lorsque le temps restant est inférieur ou égal à 10% du temps de départ ?\n",
        "\n",
        "On pourra donc comparer ces taux avec celui de la question afin de voir la différence de réaction lorsque les joueurs sont sous pression. On peut déjà annoncer en avance que le taux d'erreurs et de bourdes sera beaucoup plus élévé lorsqu'il reste pas beaucoup de temps que en temps normal. La troisième question que nous nous sommes posés est la suivante :\n",
        "\n",
        "- Quel est le taux de long déplacement du joueur qui ont été mauvais en fonction de la catégorie de niveau et par type de partie ( (Blitz, Rapide, Classique) ?\n",
        "\n",
        "Cette question pourra ne permetrre de voir si c'est bon de prendre son temps afin de pas faire d'erreur dans une partie d'échec ou non. Une dernière question qui éveillais notre curiosité :\n",
        "\n",
        "- Quel est le nombre de fois dans le jeu où l'équilibre du jeu a changé en fonction de la catégorie de niveau ?"
      ]
    },
    {
      "cell_type": "markdown",
      "metadata": {
        "id": "9K9lr7Bdqec4"
      },
      "source": [
        "# Quel est le nombre total de coups dans le jeu en fonction de la catégorie de niveau et du type de partie (Blitz, Rapide et classique) ?"
      ]
    },
    {
      "cell_type": "code",
      "execution_count": null,
      "metadata": {
        "colab": {
          "base_uri": "https://localhost:8080/"
        },
        "id": "_0MbOnJuqhmL",
        "outputId": "0c1793ab-9e9d-49a1-ad84-1067a777b8e2"
      },
      "outputs": [
        {
          "output_type": "stream",
          "name": "stdout",
          "text": [
            "+--------+---------------+---+----------------+--------------------+------+------------+-----------+--------+---------------+------------------+------------------+-------------+---------+---------+-----------+--------------+--------------+--------------+--------------+------------------+------------------+--------------------+--------------------+--------------+--------------+-----------------+-----------------+-----------------+----------------+----------------+----------------+--------------------+--------------------+----------+-------------+\n",
            "|BlackElo|BlackRatingDiff|ECO|           Event|             Opening|Result| Termination|TimeControl|WhiteElo|WhiteRatingDiff|Black_elo_category|White_elo_category|starting_time|increment|Game_type|Total_moves|Black_blunders|White_blunders|Black_mistakes|White_mistakes|Black_inaccuracies|White_inaccuracies|Black_inferior_moves|White_inferior_moves|Black_ts_moves|White_ts_moves|Black_ts_blunders|White_ts_blunders|Black_ts_mistakes|White_ts_mistake|Black_long_moves|White_long_moves|Black_bad_long_moves|White_bad_long_moves|Game_flips|Game_flips_ts|\n",
            "+--------+---------------+---+----------------+--------------------+------+------------+-----------+--------+---------------+------------------+------------------+-------------+---------+---------+-----------+--------------+--------------+--------------+--------------+------------------+------------------+--------------------+--------------------+--------------+--------------+-----------------+-----------------+-----------------+----------------+----------------+----------------+--------------------+--------------------+----------+-------------+\n",
            "|    1143|              6|A02|Rated Blitz game|        Bird Opening|   0-1|Time forfeit|      300+0|    1180|             -7|        Low rating|        Low rating|          300|        0|    Blitz|         66|             4|             2|             0|             3|                 3|                 1|                   7|                   6|             8|             8|                0|                0|                0|               0|               2|               1|                   1|                   1|         8|            0|\n",
            "|    1504|           null|A04|Rated Blitz game|        Réti Opening|   0-1|      Normal|      300+0|    1381|           null|        Low rating|        Low rating|          300|        0|    Blitz|         64|             2|             1|             1|             1|                 7|                 5|                  10|                   7|             0|             0|                0|                0|                0|               0|               0|               1|                   0|                   0|         6|            0|\n",
            "|    1933|              1|C41|Rated Blitz game|    Philidor Defense|   0-1|Time forfeit|      300+2|    1485|             -1|       High rating|        Low rating|          300|        2|    Blitz|         70|             0|             1|             1|             2|                 8|                 8|                   9|                  11|             0|             2|                0|                0|                0|               0|               1|               1|                   1|                   0|         5|            0|\n",
            "|    1710|             10|B23|Rated Blitz game|Sicilian Defense:...|   0-1|      Normal|      180+2|    2040|            -11|        Low rating|       High rating|          180|        2|    Blitz|         86|             4|             2|             1|             5|                 3|                 4|                   8|                  11|            18|             0|                4|                0|                0|               0|               3|               1|                   1|                   0|         8|            1|\n",
            "|    1598|             -1|B03|Rated Rapid game|    Alekhine Defense|   1-0|      Normal|      600+0|    2163|              0|        Low rating|       High rating|          600|        0|    Rapid|         71|             1|             0|             1|             1|                 6|                 2|                   8|                   3|             0|             0|                0|                0|                0|               0|               0|               0|                   0|                   0|         2|            0|\n",
            "+--------+---------------+---+----------------+--------------------+------+------------+-----------+--------+---------------+------------------+------------------+-------------+---------+---------+-----------+--------------+--------------+--------------+--------------+------------------+------------------+--------------------+--------------------+--------------+--------------+-----------------+-----------------+-----------------+----------------+----------------+----------------+--------------------+--------------------+----------+-------------+\n",
            "only showing top 5 rows\n",
            "\n"
          ]
        }
      ],
      "source": [
        "df_spark_2.show(5)"
      ]
    },
    {
      "cell_type": "code",
      "execution_count": null,
      "metadata": {
        "id": "Nk1OHGyJrGYi"
      },
      "outputs": [],
      "source": [
        "w0 = df_spark_2[['Game_type', 'BlackElo', 'WhiteElo', 'Total_moves']]"
      ]
    },
    {
      "cell_type": "code",
      "execution_count": null,
      "metadata": {
        "colab": {
          "base_uri": "https://localhost:8080/"
        },
        "id": "uGuvTpnMrXNN",
        "outputId": "6aee50a2-9efd-47db-c4d3-cdaf8bd6e371"
      },
      "outputs": [
        {
          "output_type": "stream",
          "name": "stdout",
          "text": [
            "+---------+--------+--------+-----------+\n",
            "|Game_type|BlackElo|WhiteElo|Total_moves|\n",
            "+---------+--------+--------+-----------+\n",
            "|    Blitz|    1143|    1180|         66|\n",
            "|    Blitz|    1504|    1381|         64|\n",
            "|    Blitz|    1933|    1485|         70|\n",
            "|    Blitz|    1710|    2040|         86|\n",
            "|    Rapid|    1598|    2163|         71|\n",
            "+---------+--------+--------+-----------+\n",
            "only showing top 5 rows\n",
            "\n"
          ]
        }
      ],
      "source": [
        "w0.show(5)"
      ]
    },
    {
      "cell_type": "code",
      "execution_count": null,
      "metadata": {
        "id": "RQR2Ij7Fs2Dh"
      },
      "outputs": [],
      "source": [
        "w00 = w0.filter((w0['Game_type'] == 'Blitz') | (w0['Game_type'] == 'Rapid') | (w0['Game_type'] == 'Classical'))"
      ]
    },
    {
      "cell_type": "code",
      "execution_count": null,
      "metadata": {
        "id": "t4NCR2MQrfI6"
      },
      "outputs": [],
      "source": [
        "w1 = w00.withColumn('Elo_moyen', (w00['WhiteElo'] + w00['BlackElo']) / 2)"
      ]
    },
    {
      "cell_type": "code",
      "execution_count": null,
      "metadata": {
        "id": "bQ8h1B6Grlej"
      },
      "outputs": [],
      "source": [
        "w2 = w1.drop('WhiteElo', 'BlackElo')"
      ]
    },
    {
      "cell_type": "code",
      "execution_count": null,
      "metadata": {
        "id": "rTQfQLEZruPN",
        "colab": {
          "base_uri": "https://localhost:8080/"
        },
        "outputId": "3e323585-5d15-4a42-e77c-6b2f12fdd873"
      },
      "outputs": [
        {
          "output_type": "stream",
          "name": "stdout",
          "text": [
            "+---------+-----------+---------+\n",
            "|Game_type|Total_moves|Elo_moyen|\n",
            "+---------+-----------+---------+\n",
            "|    Blitz|         66|   1161.5|\n",
            "|    Blitz|         64|   1442.5|\n",
            "|    Blitz|         70|   1709.0|\n",
            "|    Blitz|         86|   1875.0|\n",
            "|    Rapid|         71|   1880.5|\n",
            "+---------+-----------+---------+\n",
            "only showing top 5 rows\n",
            "\n"
          ]
        }
      ],
      "source": [
        "w2.show(5)"
      ]
    },
    {
      "cell_type": "code",
      "execution_count": null,
      "metadata": {
        "id": "bpA5HK57r64_"
      },
      "outputs": [],
      "source": [
        "w3 = w2.withColumn('Categorie_niveau', categorie_niveau_echec(w2['Elo_moyen']))"
      ]
    },
    {
      "cell_type": "code",
      "execution_count": null,
      "metadata": {
        "id": "En3VQj5RsATo"
      },
      "outputs": [],
      "source": [
        "w4 = w3.drop('Elo_moyen')"
      ]
    },
    {
      "cell_type": "code",
      "execution_count": null,
      "metadata": {
        "id": "_b73ZnmisEb5",
        "colab": {
          "base_uri": "https://localhost:8080/"
        },
        "outputId": "10ddd1a1-99e0-40d2-d9a4-fc081b04a89a"
      },
      "outputs": [
        {
          "output_type": "stream",
          "name": "stdout",
          "text": [
            "+---------+-----------+--------------------+\n",
            "|Game_type|Total_moves|    Categorie_niveau|\n",
            "+---------+-----------+--------------------+\n",
            "|    Blitz|         66|   joueur bas niveau|\n",
            "|    Blitz|         64|  joueur occasionnel|\n",
            "|    Blitz|         70|  bon joueur de club|\n",
            "|    Blitz|         86|tres bon joueur d...|\n",
            "|    Rapid|         71|tres bon joueur d...|\n",
            "+---------+-----------+--------------------+\n",
            "only showing top 5 rows\n",
            "\n"
          ]
        }
      ],
      "source": [
        "w4.show(5)"
      ]
    },
    {
      "cell_type": "code",
      "execution_count": null,
      "metadata": {
        "id": "mxfu4xQxsK4x"
      },
      "outputs": [],
      "source": [
        "w5 = w4[['Game_type', 'Categorie_niveau', 'Total_moves']]"
      ]
    },
    {
      "cell_type": "code",
      "execution_count": null,
      "metadata": {
        "id": "O9GV4B5UsSoa",
        "colab": {
          "base_uri": "https://localhost:8080/"
        },
        "outputId": "ec0d5b2d-6566-4368-ba65-7ed1616d590d"
      },
      "outputs": [
        {
          "output_type": "stream",
          "name": "stdout",
          "text": [
            "+---------+--------------------+-----------+\n",
            "|Game_type|    Categorie_niveau|Total_moves|\n",
            "+---------+--------------------+-----------+\n",
            "|    Blitz|   joueur bas niveau|         66|\n",
            "|    Blitz|  joueur occasionnel|         64|\n",
            "|    Blitz|  bon joueur de club|         70|\n",
            "|    Blitz|tres bon joueur d...|         86|\n",
            "|    Rapid|tres bon joueur d...|         71|\n",
            "+---------+--------------------+-----------+\n",
            "only showing top 5 rows\n",
            "\n"
          ]
        }
      ],
      "source": [
        "w5.show(5)"
      ]
    },
    {
      "cell_type": "code",
      "execution_count": null,
      "metadata": {
        "id": "9a1JimUrsW-G"
      },
      "outputs": [],
      "source": [
        "w6 = w5.groupBy(\"Game_type\", \"Categorie_niveau\").agg(avg(\"Total_moves\").alias(\"average_Total_moves\"))"
      ]
    },
    {
      "cell_type": "code",
      "execution_count": null,
      "metadata": {
        "id": "wfd-eL4Zt_Uf",
        "colab": {
          "base_uri": "https://localhost:8080/"
        },
        "outputId": "49a21210-ad4d-45e4-a52d-0fdc74050cbf"
      },
      "outputs": [
        {
          "output_type": "stream",
          "name": "stdout",
          "text": [
            "+---------+--------------------+-------------------+\n",
            "|Game_type|    Categorie_niveau|average_Total_moves|\n",
            "+---------+--------------------+-------------------+\n",
            "|    Blitz|GMI, Champions du...|   89.1063829787234|\n",
            "|    Blitz|niveau national e...|  73.31115984405459|\n",
            "|    Blitz|tres bon joueur d...|  68.56435643564356|\n",
            "|    Blitz|  bon joueur de club|  64.50665188470066|\n",
            "|    Blitz|  joueur occasionnel|  61.26143867924528|\n",
            "|    Blitz|   joueur bas niveau|  57.00617283950617|\n",
            "|Classical|niveau national e...|  74.03061224489795|\n",
            "|Classical|tres bon joueur d...|  69.01859504132231|\n",
            "|Classical|  bon joueur de club|  65.09836065573771|\n",
            "|Classical|   joueur bas niveau|              63.16|\n",
            "|Classical|  joueur occasionnel|  61.29432013769363|\n",
            "|    Rapid|GMI, Champions du...|  92.66666666666667|\n",
            "|    Rapid|niveau national e...|  71.98379351740697|\n",
            "|    Rapid|tres bon joueur d...|  70.28973456987528|\n",
            "|    Rapid|  bon joueur de club|  64.72498465316144|\n",
            "|    Rapid|  joueur occasionnel| 61.387040953662755|\n",
            "|    Rapid|   joueur bas niveau| 57.717992103778904|\n",
            "+---------+--------------------+-------------------+\n",
            "\n"
          ]
        }
      ],
      "source": [
        "w6.orderBy(\"Game_type\", desc(\"average_Total_moves\")).show()"
      ]
    },
    {
      "cell_type": "markdown",
      "metadata": {
        "id": "OKraoysjvPn7"
      },
      "source": [
        "On peut conclure que plus le niveau de la partie est élevée, plus le nombre de coups total de la partie augmente. Celà est lié principalement aux taux d'erreurs, de bourdes et d'imprécision moins élévée à haut niveau que à bas niveau."
      ]
    },
    {
      "cell_type": "markdown",
      "metadata": {
        "id": "rDdCyimQqvVG"
      },
      "source": [
        "# Quel est le taux d'erreurs et de bourdes par coup, par catégorie de niveau (*) et sur les parties de type Blitz lorsque le temps restant est inférieur ou égal à 10% du temps de départ ?"
      ]
    },
    {
      "cell_type": "code",
      "execution_count": null,
      "metadata": {
        "id": "lnCviIZIq6ns",
        "colab": {
          "base_uri": "https://localhost:8080/"
        },
        "outputId": "5efd4497-7ea4-45f3-d80b-79e77f01cfea"
      },
      "outputs": [
        {
          "output_type": "stream",
          "name": "stdout",
          "text": [
            "+--------+---------------+---+----------------+--------------------+------+------------+-----------+--------+---------------+------------------+------------------+-------------+---------+---------+-----------+--------------+--------------+--------------+--------------+------------------+------------------+--------------------+--------------------+--------------+--------------+-----------------+-----------------+-----------------+----------------+----------------+----------------+--------------------+--------------------+----------+-------------+\n",
            "|BlackElo|BlackRatingDiff|ECO|           Event|             Opening|Result| Termination|TimeControl|WhiteElo|WhiteRatingDiff|Black_elo_category|White_elo_category|starting_time|increment|Game_type|Total_moves|Black_blunders|White_blunders|Black_mistakes|White_mistakes|Black_inaccuracies|White_inaccuracies|Black_inferior_moves|White_inferior_moves|Black_ts_moves|White_ts_moves|Black_ts_blunders|White_ts_blunders|Black_ts_mistakes|White_ts_mistake|Black_long_moves|White_long_moves|Black_bad_long_moves|White_bad_long_moves|Game_flips|Game_flips_ts|\n",
            "+--------+---------------+---+----------------+--------------------+------+------------+-----------+--------+---------------+------------------+------------------+-------------+---------+---------+-----------+--------------+--------------+--------------+--------------+------------------+------------------+--------------------+--------------------+--------------+--------------+-----------------+-----------------+-----------------+----------------+----------------+----------------+--------------------+--------------------+----------+-------------+\n",
            "|    1143|              6|A02|Rated Blitz game|        Bird Opening|   0-1|Time forfeit|      300+0|    1180|             -7|        Low rating|        Low rating|          300|        0|    Blitz|         66|             4|             2|             0|             3|                 3|                 1|                   7|                   6|             8|             8|                0|                0|                0|               0|               2|               1|                   1|                   1|         8|            0|\n",
            "|    1504|           null|A04|Rated Blitz game|        Réti Opening|   0-1|      Normal|      300+0|    1381|           null|        Low rating|        Low rating|          300|        0|    Blitz|         64|             2|             1|             1|             1|                 7|                 5|                  10|                   7|             0|             0|                0|                0|                0|               0|               0|               1|                   0|                   0|         6|            0|\n",
            "|    1933|              1|C41|Rated Blitz game|    Philidor Defense|   0-1|Time forfeit|      300+2|    1485|             -1|       High rating|        Low rating|          300|        2|    Blitz|         70|             0|             1|             1|             2|                 8|                 8|                   9|                  11|             0|             2|                0|                0|                0|               0|               1|               1|                   1|                   0|         5|            0|\n",
            "|    1710|             10|B23|Rated Blitz game|Sicilian Defense:...|   0-1|      Normal|      180+2|    2040|            -11|        Low rating|       High rating|          180|        2|    Blitz|         86|             4|             2|             1|             5|                 3|                 4|                   8|                  11|            18|             0|                4|                0|                0|               0|               3|               1|                   1|                   0|         8|            1|\n",
            "|    1598|             -1|B03|Rated Rapid game|    Alekhine Defense|   1-0|      Normal|      600+0|    2163|              0|        Low rating|       High rating|          600|        0|    Rapid|         71|             1|             0|             1|             1|                 6|                 2|                   8|                   3|             0|             0|                0|                0|                0|               0|               0|               0|                   0|                   0|         2|            0|\n",
            "+--------+---------------+---+----------------+--------------------+------+------------+-----------+--------+---------------+------------------+------------------+-------------+---------+---------+-----------+--------------+--------------+--------------+--------------+------------------+------------------+--------------------+--------------------+--------------+--------------+-----------------+-----------------+-----------------+----------------+----------------+----------------+--------------------+--------------------+----------+-------------+\n",
            "only showing top 5 rows\n",
            "\n"
          ]
        }
      ],
      "source": [
        "df_spark_2.show(5)"
      ]
    },
    {
      "cell_type": "code",
      "execution_count": null,
      "metadata": {
        "id": "RkfAyPeaxqAl"
      },
      "outputs": [],
      "source": [
        "x1 = df_spark_2.filter(df_spark_2['Game_type'] == 'Blitz')"
      ]
    },
    {
      "cell_type": "code",
      "execution_count": null,
      "metadata": {
        "id": "6iWcWYm7xs5D"
      },
      "outputs": [],
      "source": [
        "x2 = x1[['BlackElo', 'WhiteElo', 'Black_ts_moves', 'White_ts_moves', 'Black_ts_blunders', 'White_ts_blunders', 'Black_ts_mistakes', 'White_ts_mistake']]"
      ]
    },
    {
      "cell_type": "code",
      "execution_count": null,
      "metadata": {
        "id": "jPZYGAFKyXYG",
        "colab": {
          "base_uri": "https://localhost:8080/"
        },
        "outputId": "1862bed1-386f-44be-b2fe-05b329e8a992"
      },
      "outputs": [
        {
          "output_type": "stream",
          "name": "stdout",
          "text": [
            "+--------+--------+--------------+--------------+-----------------+-----------------+-----------------+----------------+\n",
            "|BlackElo|WhiteElo|Black_ts_moves|White_ts_moves|Black_ts_blunders|White_ts_blunders|Black_ts_mistakes|White_ts_mistake|\n",
            "+--------+--------+--------------+--------------+-----------------+-----------------+-----------------+----------------+\n",
            "|    1143|    1180|             8|             8|                0|                0|                0|               0|\n",
            "|    1504|    1381|             0|             0|                0|                0|                0|               0|\n",
            "|    1933|    1485|             0|             2|                0|                0|                0|               0|\n",
            "|    1710|    2040|            18|             0|                4|                0|                0|               0|\n",
            "|     942|    1088|             0|             0|                0|                0|                0|               0|\n",
            "+--------+--------+--------------+--------------+-----------------+-----------------+-----------------+----------------+\n",
            "only showing top 5 rows\n",
            "\n"
          ]
        }
      ],
      "source": [
        "x2.show(5)"
      ]
    },
    {
      "cell_type": "code",
      "execution_count": null,
      "metadata": {
        "id": "D3VI-0s-ykbe"
      },
      "outputs": [],
      "source": [
        "x3 = x2.withColumn('Total_ts_moves', x2['Black_ts_moves'] + x2['White_ts_moves'])"
      ]
    },
    {
      "cell_type": "code",
      "execution_count": null,
      "metadata": {
        "id": "A-eu2K6dy4eS"
      },
      "outputs": [],
      "source": [
        "x4 = x3.drop('Black_ts_moves', 'White_ts_moves')"
      ]
    },
    {
      "cell_type": "code",
      "execution_count": null,
      "metadata": {
        "id": "uxVzzsY-y_0K",
        "colab": {
          "base_uri": "https://localhost:8080/"
        },
        "outputId": "eefdbb32-cced-4ac8-dafc-e6f1760b4fd6"
      },
      "outputs": [
        {
          "output_type": "stream",
          "name": "stdout",
          "text": [
            "+--------+--------+-----------------+-----------------+-----------------+----------------+--------------+\n",
            "|BlackElo|WhiteElo|Black_ts_blunders|White_ts_blunders|Black_ts_mistakes|White_ts_mistake|Total_ts_moves|\n",
            "+--------+--------+-----------------+-----------------+-----------------+----------------+--------------+\n",
            "|    1143|    1180|                0|                0|                0|               0|          16.0|\n",
            "|    1504|    1381|                0|                0|                0|               0|           0.0|\n",
            "|    1933|    1485|                0|                0|                0|               0|           2.0|\n",
            "|    1710|    2040|                4|                0|                0|               0|          18.0|\n",
            "|     942|    1088|                0|                0|                0|               0|           0.0|\n",
            "+--------+--------+-----------------+-----------------+-----------------+----------------+--------------+\n",
            "only showing top 5 rows\n",
            "\n"
          ]
        }
      ],
      "source": [
        "x4.show(5)"
      ]
    },
    {
      "cell_type": "code",
      "execution_count": null,
      "metadata": {
        "id": "0Cy1es1pzG8k"
      },
      "outputs": [],
      "source": [
        "x5 = x4.withColumn('Total_ts_blunders', x4['Black_ts_blunders'] + x4['White_ts_blunders'])"
      ]
    },
    {
      "cell_type": "code",
      "execution_count": null,
      "metadata": {
        "id": "T_rrACyTzPwX"
      },
      "outputs": [],
      "source": [
        "x6 = x5.withColumn('Total_ts_mistake', x5['Black_ts_mistakes'] + x5['White_ts_mistake'])"
      ]
    },
    {
      "cell_type": "code",
      "execution_count": null,
      "metadata": {
        "id": "g0KrTV5WzYDD"
      },
      "outputs": [],
      "source": [
        "x7 = x6.drop('Black_ts_mistakes', 'White_ts_mistake', 'Black_ts_blunders', 'White_ts_blunders')"
      ]
    },
    {
      "cell_type": "code",
      "execution_count": null,
      "metadata": {
        "id": "KNrczNlqzhrl",
        "colab": {
          "base_uri": "https://localhost:8080/"
        },
        "outputId": "4b5567c1-0bd4-4f3d-9dc7-9824bc492969"
      },
      "outputs": [
        {
          "output_type": "stream",
          "name": "stdout",
          "text": [
            "+--------+--------+--------------+-----------------+----------------+\n",
            "|BlackElo|WhiteElo|Total_ts_moves|Total_ts_blunders|Total_ts_mistake|\n",
            "+--------+--------+--------------+-----------------+----------------+\n",
            "|    1143|    1180|          16.0|              0.0|             0.0|\n",
            "|    1504|    1381|           0.0|              0.0|             0.0|\n",
            "|    1933|    1485|           2.0|              0.0|             0.0|\n",
            "|    1710|    2040|          18.0|              4.0|             0.0|\n",
            "|     942|    1088|           0.0|              0.0|             0.0|\n",
            "+--------+--------+--------------+-----------------+----------------+\n",
            "only showing top 5 rows\n",
            "\n"
          ]
        }
      ],
      "source": [
        "x7.show(5)"
      ]
    },
    {
      "cell_type": "code",
      "execution_count": null,
      "metadata": {
        "id": "Yy00zqH-zyvU"
      },
      "outputs": [],
      "source": [
        "x8 = x7.withColumn('Elo_moyen', (x7['WhiteElo'] + x7['BlackElo']) / 2)"
      ]
    },
    {
      "cell_type": "code",
      "execution_count": null,
      "metadata": {
        "id": "FG0qvLpo0D4R"
      },
      "outputs": [],
      "source": [
        "x9 = x8.withColumn('Categorie_niveau', categorie_niveau_echec(x8['Elo_moyen']))"
      ]
    },
    {
      "cell_type": "code",
      "execution_count": null,
      "metadata": {
        "id": "32AbGF7y0Jyd"
      },
      "outputs": [],
      "source": [
        "x10 = x9.drop('WhiteElo', 'BlackElo', 'Elo_moyen')"
      ]
    },
    {
      "cell_type": "code",
      "execution_count": null,
      "metadata": {
        "id": "0lS6L2VA0QTz",
        "colab": {
          "base_uri": "https://localhost:8080/"
        },
        "outputId": "9343051d-9d95-47cb-b78e-9db2a43277ba"
      },
      "outputs": [
        {
          "output_type": "stream",
          "name": "stdout",
          "text": [
            "+--------------+-----------------+----------------+--------------------+\n",
            "|Total_ts_moves|Total_ts_blunders|Total_ts_mistake|    Categorie_niveau|\n",
            "+--------------+-----------------+----------------+--------------------+\n",
            "|          16.0|              0.0|             0.0|   joueur bas niveau|\n",
            "|           0.0|              0.0|             0.0|  joueur occasionnel|\n",
            "|           2.0|              0.0|             0.0|  bon joueur de club|\n",
            "|          18.0|              4.0|             0.0|tres bon joueur d...|\n",
            "|           0.0|              0.0|             0.0|   joueur bas niveau|\n",
            "+--------------+-----------------+----------------+--------------------+\n",
            "only showing top 5 rows\n",
            "\n"
          ]
        }
      ],
      "source": [
        "x10.show(5)"
      ]
    },
    {
      "cell_type": "code",
      "execution_count": null,
      "metadata": {
        "id": "kAIdzyPO2K6Y"
      },
      "outputs": [],
      "source": [
        "x11 = x10.withColumn('Taux_ts_blunders', (x10['Total_ts_blunders'] /  x10['Total_ts_moves']) * 100 )"
      ]
    },
    {
      "cell_type": "code",
      "execution_count": null,
      "metadata": {
        "id": "TRpkJER72i0j"
      },
      "outputs": [],
      "source": [
        "x12 = x11.withColumn('Taux_ts_mistake', (x11['Total_ts_mistake'] /  x11['Total_ts_moves']) * 100 )"
      ]
    },
    {
      "cell_type": "code",
      "execution_count": null,
      "metadata": {
        "id": "4ZRrlLYV2pLj"
      },
      "outputs": [],
      "source": [
        "x13 = x12.drop('Total_ts_mistake', 'Total_ts_blunders', 'Total_ts_moves')"
      ]
    },
    {
      "cell_type": "code",
      "execution_count": null,
      "metadata": {
        "id": "3ZbtC7UM2wbm",
        "colab": {
          "base_uri": "https://localhost:8080/"
        },
        "outputId": "79e99669-6ac2-49e9-9dee-f52a2b22ac88"
      },
      "outputs": [
        {
          "output_type": "stream",
          "name": "stdout",
          "text": [
            "+--------------------+-----------------+---------------+\n",
            "|    Categorie_niveau| Taux_ts_blunders|Taux_ts_mistake|\n",
            "+--------------------+-----------------+---------------+\n",
            "|   joueur bas niveau|              0.0|            0.0|\n",
            "|  joueur occasionnel|             null|           null|\n",
            "|  bon joueur de club|              0.0|            0.0|\n",
            "|tres bon joueur d...|22.22222222222222|            0.0|\n",
            "|   joueur bas niveau|             null|           null|\n",
            "+--------------------+-----------------+---------------+\n",
            "only showing top 5 rows\n",
            "\n"
          ]
        }
      ],
      "source": [
        "x13.show(5)"
      ]
    },
    {
      "cell_type": "code",
      "execution_count": null,
      "metadata": {
        "id": "rbzi5HhD26z-"
      },
      "outputs": [],
      "source": [
        "x14 = x13.groupBy('Categorie_niveau').agg(avg(\"Taux_ts_blunders\").alias('average_blunders'), avg(\"Taux_ts_mistake\").alias('average_mistake')).sort('average_blunders')"
      ]
    },
    {
      "cell_type": "code",
      "execution_count": null,
      "metadata": {
        "id": "NyzsYd6f3QtM",
        "colab": {
          "base_uri": "https://localhost:8080/"
        },
        "outputId": "47a20a7f-1f97-40b5-f0c1-f9a1533f5b78"
      },
      "outputs": [
        {
          "output_type": "stream",
          "name": "stdout",
          "text": [
            "+--------------------+------------------+------------------+\n",
            "|    Categorie_niveau|  average_blunders|   average_mistake|\n",
            "+--------------------+------------------+------------------+\n",
            "|GMI, Champions du...| 8.543880234813338| 8.663371694998553|\n",
            "|niveau national e...|10.511767399350445|7.8347760580371855|\n",
            "|tres bon joueur d...|11.565356870341073|  7.25906646595194|\n",
            "|  bon joueur de club|12.316913832023632| 7.629063794369112|\n",
            "|  joueur occasionnel|13.050536485219082| 7.047563651382839|\n",
            "|   joueur bas niveau|13.301503161402305| 6.445702971850118|\n",
            "+--------------------+------------------+------------------+\n",
            "\n"
          ]
        }
      ],
      "source": [
        "x14.show()"
      ]
    },
    {
      "cell_type": "code",
      "execution_count": null,
      "metadata": {
        "id": "IOZNznUn4Fra"
      },
      "outputs": [],
      "source": [
        "x15 = x14.withColumn('Somme_average', x14['average_blunders'] + x14['average_mistake'])"
      ]
    },
    {
      "cell_type": "code",
      "execution_count": null,
      "metadata": {
        "id": "XohlivFP4TkN",
        "colab": {
          "base_uri": "https://localhost:8080/"
        },
        "outputId": "7367d464-daa8-498b-8274-e77447926878"
      },
      "outputs": [
        {
          "output_type": "stream",
          "name": "stdout",
          "text": [
            "+--------------------+------------------+------------------+------------------+\n",
            "|    Categorie_niveau|  average_blunders|   average_mistake|     Somme_average|\n",
            "+--------------------+------------------+------------------+------------------+\n",
            "|GMI, Champions du...| 8.543880234813338| 8.663371694998553| 17.20725192981189|\n",
            "|niveau national e...|10.511767399350445|7.8347760580371855|18.346543457387632|\n",
            "|tres bon joueur d...|11.565356870341073|  7.25906646595194|18.824423336293012|\n",
            "|  bon joueur de club|12.316913832023632| 7.629063794369112|19.945977626392743|\n",
            "|  joueur occasionnel|13.050536485219082| 7.047563651382839| 20.09810013660192|\n",
            "|   joueur bas niveau|13.301503161402305| 6.445702971850118|19.747206133252423|\n",
            "+--------------------+------------------+------------------+------------------+\n",
            "\n"
          ]
        }
      ],
      "source": [
        "x15.show()"
      ]
    },
    {
      "cell_type": "markdown",
      "metadata": {
        "id": "oTW5WVfG3p4y"
      },
      "source": [
        "On peut voir que le taux de bourdes est respecté comme on l'avait dit plus tôt cependant le taux d'erreurs est plus important pour les joueurs expérimentées que pour les joueurs avec un élo moyen plus faible. On peut voir que la somme moyenne des erreurs dans le time scramble est beaucoup moins important pour les joueurs expérimentés que pour les joueurs avec un élo moyen faible."
      ]
    },
    {
      "cell_type": "markdown",
      "metadata": {
        "id": "yci4lx3kqzGh"
      },
      "source": [
        "# Quel est le taux de long déplacement des joueurs qui ont été mauvais en fonction de la catégorie de niveau et par type de partie ( (Blitz, Rapide, Classique) ?"
      ]
    },
    {
      "cell_type": "code",
      "execution_count": null,
      "metadata": {
        "id": "QMMBERaoq7-S",
        "colab": {
          "base_uri": "https://localhost:8080/"
        },
        "outputId": "36fe0367-e78c-4dd2-e7b7-c64fe343690d"
      },
      "outputs": [
        {
          "output_type": "stream",
          "name": "stdout",
          "text": [
            "+--------+---------------+---+----------------+--------------------+------+------------+-----------+--------+---------------+------------------+------------------+-------------+---------+---------+-----------+--------------+--------------+--------------+--------------+------------------+------------------+--------------------+--------------------+--------------+--------------+-----------------+-----------------+-----------------+----------------+----------------+----------------+--------------------+--------------------+----------+-------------+\n",
            "|BlackElo|BlackRatingDiff|ECO|           Event|             Opening|Result| Termination|TimeControl|WhiteElo|WhiteRatingDiff|Black_elo_category|White_elo_category|starting_time|increment|Game_type|Total_moves|Black_blunders|White_blunders|Black_mistakes|White_mistakes|Black_inaccuracies|White_inaccuracies|Black_inferior_moves|White_inferior_moves|Black_ts_moves|White_ts_moves|Black_ts_blunders|White_ts_blunders|Black_ts_mistakes|White_ts_mistake|Black_long_moves|White_long_moves|Black_bad_long_moves|White_bad_long_moves|Game_flips|Game_flips_ts|\n",
            "+--------+---------------+---+----------------+--------------------+------+------------+-----------+--------+---------------+------------------+------------------+-------------+---------+---------+-----------+--------------+--------------+--------------+--------------+------------------+------------------+--------------------+--------------------+--------------+--------------+-----------------+-----------------+-----------------+----------------+----------------+----------------+--------------------+--------------------+----------+-------------+\n",
            "|    1143|              6|A02|Rated Blitz game|        Bird Opening|   0-1|Time forfeit|      300+0|    1180|             -7|        Low rating|        Low rating|          300|        0|    Blitz|         66|             4|             2|             0|             3|                 3|                 1|                   7|                   6|             8|             8|                0|                0|                0|               0|               2|               1|                   1|                   1|         8|            0|\n",
            "|    1504|           null|A04|Rated Blitz game|        Réti Opening|   0-1|      Normal|      300+0|    1381|           null|        Low rating|        Low rating|          300|        0|    Blitz|         64|             2|             1|             1|             1|                 7|                 5|                  10|                   7|             0|             0|                0|                0|                0|               0|               0|               1|                   0|                   0|         6|            0|\n",
            "|    1933|              1|C41|Rated Blitz game|    Philidor Defense|   0-1|Time forfeit|      300+2|    1485|             -1|       High rating|        Low rating|          300|        2|    Blitz|         70|             0|             1|             1|             2|                 8|                 8|                   9|                  11|             0|             2|                0|                0|                0|               0|               1|               1|                   1|                   0|         5|            0|\n",
            "|    1710|             10|B23|Rated Blitz game|Sicilian Defense:...|   0-1|      Normal|      180+2|    2040|            -11|        Low rating|       High rating|          180|        2|    Blitz|         86|             4|             2|             1|             5|                 3|                 4|                   8|                  11|            18|             0|                4|                0|                0|               0|               3|               1|                   1|                   0|         8|            1|\n",
            "|    1598|             -1|B03|Rated Rapid game|    Alekhine Defense|   1-0|      Normal|      600+0|    2163|              0|        Low rating|       High rating|          600|        0|    Rapid|         71|             1|             0|             1|             1|                 6|                 2|                   8|                   3|             0|             0|                0|                0|                0|               0|               0|               0|                   0|                   0|         2|            0|\n",
            "+--------+---------------+---+----------------+--------------------+------+------------+-----------+--------+---------------+------------------+------------------+-------------+---------+---------+-----------+--------------+--------------+--------------+--------------+------------------+------------------+--------------------+--------------------+--------------+--------------+-----------------+-----------------+-----------------+----------------+----------------+----------------+--------------------+--------------------+----------+-------------+\n",
            "only showing top 5 rows\n",
            "\n"
          ]
        }
      ],
      "source": [
        "df_spark_2.show(5)"
      ]
    },
    {
      "cell_type": "code",
      "source": [
        "y1 = df_spark_2[['BlackElo', 'WhiteElo', 'Game_type', 'Black_long_moves', 'White_long_moves', 'Black_bad_long_moves', 'White_bad_long_moves']]"
      ],
      "metadata": {
        "id": "fX4b52Imx2pu"
      },
      "execution_count": null,
      "outputs": []
    },
    {
      "cell_type": "code",
      "source": [
        "y11 = y1.filter((y1['Game_type'] == 'Blitz') | (y1['Game_type'] == 'Rapid') | (y1['Game_type'] == 'Classical'))"
      ],
      "metadata": {
        "id": "DhxjdiL80eD2"
      },
      "execution_count": null,
      "outputs": []
    },
    {
      "cell_type": "code",
      "source": [
        "y2 = y11.withColumn('Elo_moyen', (y11['WhiteElo'] + y11['BlackElo']) / 2)"
      ],
      "metadata": {
        "id": "7fSN5ubiyQo0"
      },
      "execution_count": null,
      "outputs": []
    },
    {
      "cell_type": "code",
      "source": [
        "y3 = y2.withColumn('Total_long_moves', y2['Black_long_moves'] + y2['White_long_moves'])"
      ],
      "metadata": {
        "id": "vTykOx4gyi-j"
      },
      "execution_count": null,
      "outputs": []
    },
    {
      "cell_type": "code",
      "source": [
        "y4 = y3.withColumn('Total_bad_long_moves', y3['Black_bad_long_moves'] + y3['White_bad_long_moves'])"
      ],
      "metadata": {
        "id": "LcmN3DSCyvjm"
      },
      "execution_count": null,
      "outputs": []
    },
    {
      "cell_type": "code",
      "source": [
        "y5 = y4.drop('Black_long_moves', 'White_long_moves', 'Black_bad_long_moves', 'White_bad_long_moves', 'WhiteElo', 'BlackElo')"
      ],
      "metadata": {
        "id": "wL4sWcKWy3dV"
      },
      "execution_count": null,
      "outputs": []
    },
    {
      "cell_type": "code",
      "source": [
        "y5.show(5)"
      ],
      "metadata": {
        "colab": {
          "base_uri": "https://localhost:8080/"
        },
        "id": "5OeGsEwozAlH",
        "outputId": "bfbbecc6-fcd3-40fa-d7e3-7c253053573b"
      },
      "execution_count": null,
      "outputs": [
        {
          "output_type": "stream",
          "name": "stdout",
          "text": [
            "+---------+---------+----------------+--------------------+\n",
            "|Game_type|Elo_moyen|Total_long_moves|Total_bad_long_moves|\n",
            "+---------+---------+----------------+--------------------+\n",
            "|    Blitz|   1161.5|             3.0|                 2.0|\n",
            "|    Blitz|   1442.5|             1.0|                 0.0|\n",
            "|    Blitz|   1709.0|             2.0|                 1.0|\n",
            "|    Blitz|   1875.0|             4.0|                 1.0|\n",
            "|    Rapid|   1880.5|             0.0|                 0.0|\n",
            "+---------+---------+----------------+--------------------+\n",
            "only showing top 5 rows\n",
            "\n"
          ]
        }
      ]
    },
    {
      "cell_type": "code",
      "source": [
        "y6 = y5.withColumn('Categorie_niveau', categorie_niveau_echec(y5['Elo_moyen']))"
      ],
      "metadata": {
        "id": "8AzMBfYnzLgG"
      },
      "execution_count": null,
      "outputs": []
    },
    {
      "cell_type": "code",
      "source": [
        "y7 = y6.withColumn('Taux_bad_long_moves', (y6['Total_bad_long_moves'] /  y6['Total_long_moves']) * 100 )"
      ],
      "metadata": {
        "id": "rcHUlGL9zT42"
      },
      "execution_count": null,
      "outputs": []
    },
    {
      "cell_type": "code",
      "source": [
        "y8 = y7.drop('Elo_moyen', 'Total_bad_long_moves', 'Total_long_moves')"
      ],
      "metadata": {
        "id": "ZwQJBRUZzmR-"
      },
      "execution_count": null,
      "outputs": []
    },
    {
      "cell_type": "code",
      "source": [
        "y8.show(5)"
      ],
      "metadata": {
        "colab": {
          "base_uri": "https://localhost:8080/"
        },
        "id": "F3b2F6Qizwaf",
        "outputId": "37c51d51-002f-448e-8934-cdca30325280"
      },
      "execution_count": null,
      "outputs": [
        {
          "output_type": "stream",
          "name": "stdout",
          "text": [
            "+---------+--------------------+-------------------+\n",
            "|Game_type|    Categorie_niveau|Taux_bad_long_moves|\n",
            "+---------+--------------------+-------------------+\n",
            "|    Blitz|   joueur bas niveau|  66.66666666666666|\n",
            "|    Blitz|  joueur occasionnel|                0.0|\n",
            "|    Blitz|  bon joueur de club|               50.0|\n",
            "|    Blitz|tres bon joueur d...|               25.0|\n",
            "|    Rapid|tres bon joueur d...|               null|\n",
            "+---------+--------------------+-------------------+\n",
            "only showing top 5 rows\n",
            "\n"
          ]
        }
      ]
    },
    {
      "cell_type": "code",
      "source": [
        "y9 = y8.groupBy('Categorie_niveau', 'Game_type').agg(avg(\"Taux_bad_long_moves\").alias('average_bad_long_moves'))"
      ],
      "metadata": {
        "id": "4_yNA9wSz2rX"
      },
      "execution_count": null,
      "outputs": []
    },
    {
      "cell_type": "code",
      "source": [
        "y9.sort('Game_type',  ascending = False).show()"
      ],
      "metadata": {
        "colab": {
          "base_uri": "https://localhost:8080/"
        },
        "id": "6ESVorXr0E3e",
        "outputId": "3a2c5f9f-9ac4-43ab-e285-d2ec4488b5ad"
      },
      "execution_count": null,
      "outputs": [
        {
          "output_type": "stream",
          "name": "stdout",
          "text": [
            "+--------------------+---------+----------------------+\n",
            "|    Categorie_niveau|Game_type|average_bad_long_moves|\n",
            "+--------------------+---------+----------------------+\n",
            "|  bon joueur de club|    Rapid|    42.867530106793936|\n",
            "|tres bon joueur d...|    Rapid|     40.31286599822892|\n",
            "|  joueur occasionnel|    Rapid|     43.21637426900587|\n",
            "|GMI, Champions du...|    Rapid|    38.333333333333336|\n",
            "|niveau national e...|    Rapid|     38.38729864240068|\n",
            "|   joueur bas niveau|    Rapid|     44.37830687830687|\n",
            "|   joueur bas niveau|Classical|                  50.0|\n",
            "|tres bon joueur d...|Classical|     38.66492146596859|\n",
            "|  bon joueur de club|Classical|     34.24963924963925|\n",
            "|niveau national e...|Classical|    31.620258272800644|\n",
            "|  joueur occasionnel|Classical|     43.85964912280702|\n",
            "|niveau national e...|    Blitz|     40.65444076710345|\n",
            "|tres bon joueur d...|    Blitz|     42.08323773918907|\n",
            "|  joueur occasionnel|    Blitz|     44.59288838729536|\n",
            "|   joueur bas niveau|    Blitz|     45.26010073906393|\n",
            "|GMI, Champions du...|    Blitz|     38.45413399630267|\n",
            "|  bon joueur de club|    Blitz|    43.175580776368896|\n",
            "+--------------------+---------+----------------------+\n",
            "\n"
          ]
        }
      ]
    },
    {
      "cell_type": "markdown",
      "source": [
        "En règle général, plus le niveau de la partie augmente, plus le taux qu'un joueur fasse un mauvais coup qui prend du temps est faible. Pour la catégorie \tGMI, Champions du monde, on peut voir un average_bad_long_moves de 62% dans le Game_type Rapid. Je pense juste qu'on a pas assez de données dans ce monde de jeu et dans cette catégorie pour que celà soit représentatif vu qu'il n'y a pas beaucoup de joueurs à ce niveau."
      ],
      "metadata": {
        "id": "VsOsrtqo1Spn"
      }
    },
    {
      "cell_type": "markdown",
      "metadata": {
        "id": "Ka_wpIVqq0NG"
      },
      "source": [
        "# Quel est le nombre de fois dans le jeu où l'équilibre du jeu a changé en fonction de la catégorie de niveau ?"
      ]
    },
    {
      "cell_type": "code",
      "execution_count": null,
      "metadata": {
        "id": "LNY5N03Sq9Cw",
        "colab": {
          "base_uri": "https://localhost:8080/"
        },
        "outputId": "77907c3c-25ea-4e8a-ab84-d60bf4a7992b"
      },
      "outputs": [
        {
          "output_type": "stream",
          "name": "stdout",
          "text": [
            "+--------+---------------+---+----------------+--------------------+------+------------+-----------+--------+---------------+------------------+------------------+-------------+---------+---------+-----------+--------------+--------------+--------------+--------------+------------------+------------------+--------------------+--------------------+--------------+--------------+-----------------+-----------------+-----------------+----------------+----------------+----------------+--------------------+--------------------+----------+-------------+\n",
            "|BlackElo|BlackRatingDiff|ECO|           Event|             Opening|Result| Termination|TimeControl|WhiteElo|WhiteRatingDiff|Black_elo_category|White_elo_category|starting_time|increment|Game_type|Total_moves|Black_blunders|White_blunders|Black_mistakes|White_mistakes|Black_inaccuracies|White_inaccuracies|Black_inferior_moves|White_inferior_moves|Black_ts_moves|White_ts_moves|Black_ts_blunders|White_ts_blunders|Black_ts_mistakes|White_ts_mistake|Black_long_moves|White_long_moves|Black_bad_long_moves|White_bad_long_moves|Game_flips|Game_flips_ts|\n",
            "+--------+---------------+---+----------------+--------------------+------+------------+-----------+--------+---------------+------------------+------------------+-------------+---------+---------+-----------+--------------+--------------+--------------+--------------+------------------+------------------+--------------------+--------------------+--------------+--------------+-----------------+-----------------+-----------------+----------------+----------------+----------------+--------------------+--------------------+----------+-------------+\n",
            "|    1143|              6|A02|Rated Blitz game|        Bird Opening|   0-1|Time forfeit|      300+0|    1180|             -7|        Low rating|        Low rating|          300|        0|    Blitz|         66|             4|             2|             0|             3|                 3|                 1|                   7|                   6|             8|             8|                0|                0|                0|               0|               2|               1|                   1|                   1|         8|            0|\n",
            "|    1504|           null|A04|Rated Blitz game|        Réti Opening|   0-1|      Normal|      300+0|    1381|           null|        Low rating|        Low rating|          300|        0|    Blitz|         64|             2|             1|             1|             1|                 7|                 5|                  10|                   7|             0|             0|                0|                0|                0|               0|               0|               1|                   0|                   0|         6|            0|\n",
            "|    1933|              1|C41|Rated Blitz game|    Philidor Defense|   0-1|Time forfeit|      300+2|    1485|             -1|       High rating|        Low rating|          300|        2|    Blitz|         70|             0|             1|             1|             2|                 8|                 8|                   9|                  11|             0|             2|                0|                0|                0|               0|               1|               1|                   1|                   0|         5|            0|\n",
            "|    1710|             10|B23|Rated Blitz game|Sicilian Defense:...|   0-1|      Normal|      180+2|    2040|            -11|        Low rating|       High rating|          180|        2|    Blitz|         86|             4|             2|             1|             5|                 3|                 4|                   8|                  11|            18|             0|                4|                0|                0|               0|               3|               1|                   1|                   0|         8|            1|\n",
            "|    1598|             -1|B03|Rated Rapid game|    Alekhine Defense|   1-0|      Normal|      600+0|    2163|              0|        Low rating|       High rating|          600|        0|    Rapid|         71|             1|             0|             1|             1|                 6|                 2|                   8|                   3|             0|             0|                0|                0|                0|               0|               0|               0|                   0|                   0|         2|            0|\n",
            "+--------+---------------+---+----------------+--------------------+------+------------+-----------+--------+---------------+------------------+------------------+-------------+---------+---------+-----------+--------------+--------------+--------------+--------------+------------------+------------------+--------------------+--------------------+--------------+--------------+-----------------+-----------------+-----------------+----------------+----------------+----------------+--------------------+--------------------+----------+-------------+\n",
            "only showing top 5 rows\n",
            "\n"
          ]
        }
      ],
      "source": [
        "df_spark_2.show(5)"
      ]
    },
    {
      "cell_type": "code",
      "source": [
        "z0 = df_spark_2.filter((y1['Game_type'] == 'Blitz') | (y1['Game_type'] == 'Rapid') | (y1['Game_type'] == 'Classical'))"
      ],
      "metadata": {
        "id": "gmeIn7I43s4u"
      },
      "execution_count": null,
      "outputs": []
    },
    {
      "cell_type": "code",
      "source": [
        "z1 = z0[['BlackElo', 'WhiteElo', 'Game_flips', 'Game_flips_ts']]"
      ],
      "metadata": {
        "id": "nsNekN7N3SuR"
      },
      "execution_count": null,
      "outputs": []
    },
    {
      "cell_type": "code",
      "source": [
        "z2 = z1.withColumn('Elo_moyen', (z1['WhiteElo'] + z1['BlackElo']) / 2)"
      ],
      "metadata": {
        "id": "7iieSZUt31Oy"
      },
      "execution_count": null,
      "outputs": []
    },
    {
      "cell_type": "code",
      "source": [
        "z3 = z2.withColumn('Categorie_niveau', categorie_niveau_echec(z2['Elo_moyen']))"
      ],
      "metadata": {
        "id": "lxnzYeLD3-BL"
      },
      "execution_count": null,
      "outputs": []
    },
    {
      "cell_type": "code",
      "source": [
        "z4 = z3.drop('Elo_moyen', 'BlackElo', 'WhiteElo')"
      ],
      "metadata": {
        "id": "-lm_loJ54DE4"
      },
      "execution_count": null,
      "outputs": []
    },
    {
      "cell_type": "code",
      "source": [
        "z4.show(5)"
      ],
      "metadata": {
        "colab": {
          "base_uri": "https://localhost:8080/"
        },
        "id": "3C81_3R94NIk",
        "outputId": "538c10ad-122f-4997-da9d-f7f4ad5dafee"
      },
      "execution_count": null,
      "outputs": [
        {
          "output_type": "stream",
          "name": "stdout",
          "text": [
            "+----------+-------------+--------------------+\n",
            "|Game_flips|Game_flips_ts|    Categorie_niveau|\n",
            "+----------+-------------+--------------------+\n",
            "|         8|            0|   joueur bas niveau|\n",
            "|         6|            0|  joueur occasionnel|\n",
            "|         5|            0|  bon joueur de club|\n",
            "|         8|            1|tres bon joueur d...|\n",
            "|         2|            0|tres bon joueur d...|\n",
            "+----------+-------------+--------------------+\n",
            "only showing top 5 rows\n",
            "\n"
          ]
        }
      ]
    },
    {
      "cell_type": "code",
      "source": [
        "z5 = z4[['Categorie_niveau', 'Game_flips', 'Game_flips_ts']]"
      ],
      "metadata": {
        "id": "HMd72X7u4Rwp"
      },
      "execution_count": null,
      "outputs": []
    },
    {
      "cell_type": "code",
      "source": [
        "z6 = z5.groupBy('Categorie_niveau').agg(avg(\"Game_flips\").alias('average_game_flips'), avg(\"Game_flips_ts\").alias('average_game_flips_ts')).sort('average_game_flips',  ascending = True)"
      ],
      "metadata": {
        "id": "PUC4oEGj4aE_"
      },
      "execution_count": null,
      "outputs": []
    },
    {
      "cell_type": "code",
      "source": [
        "z6.show()"
      ],
      "metadata": {
        "colab": {
          "base_uri": "https://localhost:8080/"
        },
        "id": "ebbLJ9L04osW",
        "outputId": "973241e6-31e6-4a66-95df-25480d9b214c"
      },
      "execution_count": null,
      "outputs": [
        {
          "output_type": "stream",
          "name": "stdout",
          "text": [
            "+--------------------+------------------+---------------------+\n",
            "|    Categorie_niveau|average_game_flips|average_game_flips_ts|\n",
            "+--------------------+------------------+---------------------+\n",
            "|niveau national e...| 5.476030841434797|   0.4329534026148173|\n",
            "|GMI, Champions du...| 5.749279538904899|   0.5590778097982709|\n",
            "|tres bon joueur d...| 5.991133703747488|  0.30429128738621586|\n",
            "|  bon joueur de club| 6.242029891458771|   0.2451554242200375|\n",
            "|  joueur occasionnel|6.4991586032814475|  0.21616884027485625|\n",
            "|   joueur bas niveau| 6.811631061376738|  0.24160732451678535|\n",
            "+--------------------+------------------+---------------------+\n",
            "\n"
          ]
        }
      ]
    },
    {
      "cell_type": "code",
      "source": [
        "z7 = z6.withColumn('Taux_ts', (z6['average_game_flips_ts'] / z6['average_game_flips']) * 100).sort('Taux_ts',  ascending = True)"
      ],
      "metadata": {
        "id": "BO-7B7DR4-sJ"
      },
      "execution_count": null,
      "outputs": []
    },
    {
      "cell_type": "code",
      "source": [
        "z7.show()"
      ],
      "metadata": {
        "colab": {
          "base_uri": "https://localhost:8080/"
        },
        "id": "U_xm7uw65VXu",
        "outputId": "1d5456d8-114d-49ac-de34-bea14eb27b6d"
      },
      "execution_count": null,
      "outputs": [
        {
          "output_type": "stream",
          "name": "stdout",
          "text": [
            "+--------------------+------------------+---------------------+------------------+\n",
            "|    Categorie_niveau|average_game_flips|average_game_flips_ts|           Taux_ts|\n",
            "+--------------------+------------------+---------------------+------------------+\n",
            "|  joueur occasionnel|6.4991586032814475|  0.21616884027485625| 3.326105015589431|\n",
            "|   joueur bas niveau| 6.811631061376738|  0.24160732451678535| 3.546981953951463|\n",
            "|  bon joueur de club| 6.242029891458771|   0.2451554242200375|3.9274951976038093|\n",
            "|tres bon joueur d...| 5.991133703747488|  0.30429128738621586| 5.079026815840881|\n",
            "|niveau national e...| 5.476030841434797|   0.4329534026148173|  7.90633608815427|\n",
            "|GMI, Champions du...| 5.749279538904899|   0.5590778097982709| 9.724310776942357|\n",
            "+--------------------+------------------+---------------------+------------------+\n",
            "\n"
          ]
        }
      ]
    },
    {
      "cell_type": "markdown",
      "source": [
        "Comme pour les autres questions, nous n'avons pas assez de données dans la catégorie GMI, Champions du monde donc le résultat est un peu fossé. D'une part, on peut voir le nombre de fois dans le jeu où l'équilibre du jeu a changé est souvent moindre à haut niveau que à bas niveau. Cependant, le taux où l'équilibre du jeu a changé est fort lorsque les joueurs sont à haut niveau plutôt que à bas niveau. On peut en tirer que lorsqu'on est à haut niveau et que le joueur met du temps à joueur, il y a beaucoup de plus de chance que cela change l'équilibre du jeu que à bas niveau. On peut aussi faire une corrélation entre le fait que l'équilibre du jeu change plus de fois à bas niveau que en haut niveau par rapport aux différents taux d'erreurs que nous avons vu dans la question 1. En effet, plus il y a d'erreurs dans une partie, plus l'équilibre de la partie peut changer."
      ],
      "metadata": {
        "id": "AO1X20Q-8urK"
      }
    }
  ],
  "metadata": {
    "colab": {
      "provenance": []
    },
    "kernelspec": {
      "display_name": "Python 3",
      "name": "python3"
    },
    "language_info": {
      "name": "python"
    }
  },
  "nbformat": 4,
  "nbformat_minor": 0
}